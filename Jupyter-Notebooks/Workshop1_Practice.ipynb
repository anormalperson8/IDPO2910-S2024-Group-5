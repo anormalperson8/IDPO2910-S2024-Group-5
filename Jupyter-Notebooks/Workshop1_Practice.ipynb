{
  "metadata": {
    "kernelspec": {
      "name": "python",
      "display_name": "Python (Pyodide)",
      "language": "python"
    },
    "language_info": {
      "codemirror_mode": {
        "name": "python",
        "version": 3
      },
      "file_extension": ".py",
      "mimetype": "text/x-python",
      "name": "python",
      "nbconvert_exporter": "python",
      "pygments_lexer": "ipython3",
      "version": "3.8"
    },
    "colab": {
      "provenance": []
    }
  },
  "nbformat_minor": 0,
  "nbformat": 4,
  "cells": [
    {
      "cell_type": "markdown",
      "source": [
        "# Game Programming With Python"
      ],
      "metadata": {
        "id": "IKAwgRYlQ4Z0"
      }
    },
    {
      "cell_type": "markdown",
      "source": [
        "## print() Game Title\n",
        "\n",
        "\n",
        "\n",
        "Every time you open a game, you will see the game title, game logo, and some options.\n",
        "\n",
        "There are several ways to show the game title, but today we will use the print() function in Python to do so.\n",
        "\n",
        "For example, when we open League of Legends:"
      ],
      "metadata": {
        "id": "lAyqqdvAQ4Z2"
      }
    },
    {
      "cell_type": "markdown",
      "source": [
        "### Example"
      ],
      "metadata": {
        "id": "y1Ile4oIr3gF"
      }
    },
    {
      "cell_type": "code",
      "source": [
        "print(\"League of Legends\") # Press the little triangle on the left to run the program"
      ],
      "metadata": {
        "id": "dLrc6mWaQ4Z2",
        "outputId": "04db0202-88f7-4a42-93c6-93e7731cdb45",
        "trusted": true,
        "jupyter": {
          "source_hidden": true
        },
        "colab": {
          "base_uri": "https://localhost:8080/"
        }
      },
      "outputs": [
        {
          "output_type": "stream",
          "name": "stdout",
          "text": [
            "League of Legends\n"
          ]
        }
      ],
      "execution_count": null
    },
    {
      "cell_type": "markdown",
      "source": [
        "### Task 1\n",
        "Let's try to type in different game names inside \" \" and see what will happen:"
      ],
      "metadata": {
        "id": "usjfuLyRQ4Z4"
      }
    },
    {
      "cell_type": "code",
      "source": [
        "print(\"\")"
      ],
      "metadata": {
        "id": "MdTQ1qr4Q4Z4"
      },
      "outputs": [],
      "execution_count": null
    },
    {
      "cell_type": "markdown",
      "source": [
        "## Variable -- Storing game information\n",
        "\n",
        "After entering the game you will have to create your account, character, world, etc.\n",
        "\n",
        "**Variables** can store different pieces of information in a game\n",
        "\n",
        "Here are some information commonly seen in different games and the data type they are:\n",
        "<center>\n",
        "\n",
        "|Character Information|Data Type|\n",
        "|---|---|\n",
        "|Character Name|String|\n",
        "|Level|Integer|\n",
        "|HP|Integer|\n",
        "|Alive|Boolean|\n",
        "|Win|Boolean|\n",
        "|Skills|List|\n",
        "|Inventory|List|\n",
        "\n",
        "</center>\n",
        "\n",
        "\n",
        "Format: `variable_name` = data\n"
      ],
      "metadata": {
        "id": "ERC2I6R1Q4Z6"
      }
    },
    {
      "cell_type": "markdown",
      "source": [
        "### Example\n",
        "\n",
        "Welcome to HKUST metaverse, let's create your own character and join us!\n",
        "\n",
        "![image.png](https://hkust.edu.hk/sites/default/files/2022-07/piazza_0.png)"
      ],
      "metadata": {
        "id": "IYRRtGQjTaqa"
      }
    },
    {
      "cell_type": "code",
      "source": [
        "################## UST Student Simulator ##################\n",
        "\n",
        "character_name = \"De@d1ineFighter3000\"  # Character name\n",
        "\n",
        "level = 2 # Level\n",
        "\n",
        "HP = 10  # Happiness Point\n",
        "\n",
        "\n",
        "###########################################################\n",
        "\n",
        "print(\"Hi!\", character_name + \", welcome to HKUST metaverse. Have you finished your assignment?\")"
      ],
      "metadata": {
        "id": "c2A4-HJbQ4Z6",
        "trusted": true,
        "colab": {
          "base_uri": "https://localhost:8080/"
        },
        "outputId": "00d88831-af6b-4f06-a961-7d62a0348cf2"
      },
      "outputs": [
        {
          "output_type": "stream",
          "name": "stdout",
          "text": [
            "Hi! De@d1ineFighter3000, welcome to HKUST metaverse. Have you finished your assignment?\n"
          ]
        }
      ],
      "execution_count": null
    },
    {
      "cell_type": "markdown",
      "source": [
        "### Task 2\n",
        "\n",
        "Let's try to create your own character here."
      ],
      "metadata": {
        "id": "yy0J2RkTTaqa"
      }
    },
    {
      "cell_type": "code",
      "source": [
        "# let's add more attributes or other information you can think of.\n",
        "# like interest, year of study, favourite subject, etc\n",
        "###########################################################\n",
        "\n",
        "\n",
        "name = \"\" # Enter your character name inside \"\"\n",
        "level = 0 # Change the 0 to any level you like\n",
        "HP = 0 # Change the 0 to any HP you want\n",
        "\n",
        "\n",
        "\n",
        "###########################################################\n",
        "\n",
        "print(\"Welcome to HKUST metaverse!\", name + \"!\")"
      ],
      "metadata": {
        "trusted": true,
        "id": "2NqhGHaHTaqa",
        "outputId": "f7d4e3ca-6100-45c8-f58c-2325505f0460",
        "colab": {
          "base_uri": "https://localhost:8080/"
        }
      },
      "outputs": [
        {
          "output_type": "stream",
          "name": "stdout",
          "text": [
            "Welcome to HKUST metaverse! jack!\n"
          ]
        }
      ],
      "execution_count": null
    },
    {
      "cell_type": "markdown",
      "source": [
        "## Arithmetic -- How Games Calculate Numbers\n",
        "\n",
        "Most of the games involve calculation when dealing with different kinds of game mechanisms like battling, levelling, crafting, etc.\n",
        "\n",
        "Here are some symbols we can use in our program.\n",
        "\n",
        "<center>\n",
        "\n",
        "|Symbol|Use|\n",
        "|---|---|\n",
        "|`+`|Plus|\n",
        "|`-`|Minus|\n",
        "|`*`|Multiply|\n",
        "|`/`|Divide|\n",
        "\n",
        "</center>\n",
        "\n"
      ],
      "metadata": {
        "id": "OVOuG0r6Q4Z8"
      }
    },
    {
      "cell_type": "markdown",
      "source": [
        "### Example\n",
        "\n",
        "\n",
        "Apex Legends is a First-person shooter game.\n",
        "\n",
        "You just finished a gunfight and you defeated your enemies. You only have 12 health points left so you decided to charge your shield first.\n",
        "\n",
        "![image.png](https://i.ytimg.com/vi/KRUK8lL3-kQ/maxresdefault.jpg)"
      ],
      "metadata": {
        "id": "SUIx9BlBTaqa"
      }
    },
    {
      "cell_type": "code",
      "source": [
        "############## APEX ################\n",
        "\n",
        "#########Current Status#############\n",
        "\n",
        "shield = 0   # your shield\n",
        "HP = 12     # health point\n",
        "shieldBattery = 1  # number of shield batteries in your inventory\n",
        "syringe = 2   # number of syringes in your inventory\n",
        "bullet = 61   # number of bullets left\n",
        "\n",
        "####################################\n",
        "\n",
        "print(\"Shield Recharging!! I only have\", shieldBattery, \"battery left.\" )\n",
        "\n",
        "######## After you recharged your shield ##############\n",
        "shieldBattery = shieldBattery - 1\n",
        "shield = shield + 50\n",
        "#######################################################\n",
        "\n",
        "print(\"Shield Charged! I have\", shieldBattery, \"batteries left and my shield is\", shield, \".\")"
      ],
      "metadata": {
        "trusted": true,
        "colab": {
          "base_uri": "https://localhost:8080/"
        },
        "id": "Y0f37giZTaqa",
        "outputId": "8c6b2815-b9c0-4af1-c02b-4f68949c3734"
      },
      "outputs": [
        {
          "output_type": "stream",
          "name": "stdout",
          "text": [
            "Shield Recharging!! I only have 1 battery left.\n",
            "Shield Charged! I have 0 battery left and my shield is 50 .\n"
          ]
        }
      ],
      "execution_count": null
    },
    {
      "cell_type": "markdown",
      "source": [
        "### Task 3"
      ],
      "metadata": {
        "id": "R6AJFdpvtsn4"
      }
    },
    {
      "cell_type": "code",
      "source": [
        "# Let's discuss with your friends\n",
        "# brainstorm some more scenarios and think of what calculation can be involved\n",
        "#################################################################################\n",
        "\n",
        "\n",
        "\n",
        "\n",
        "#################################################################################"
      ],
      "metadata": {
        "trusted": true,
        "id": "RVsKNeR4Taqa"
      },
      "outputs": [],
      "execution_count": null
    },
    {
      "cell_type": "markdown",
      "source": [
        "## input() & print()\n",
        "\n",
        "In most of the online games, you might want to chat with your friends, teammates or strangers.\n",
        "\n",
        "So you will need the function input() to do the stuff.\n",
        "\n",
        "After you input the message you want to send, you can use print() to help you print the message out.\n",
        "\n",
        "\n",
        "\n"
      ],
      "metadata": {
        "id": "O6ARapKZQ4Z5"
      }
    },
    {
      "cell_type": "markdown",
      "source": [
        "### Example"
      ],
      "metadata": {
        "id": "tQ4ZUeiA-eu5"
      }
    },
    {
      "cell_type": "code",
      "source": [
        "input(\"Your message:\")"
      ],
      "metadata": {
        "trusted": true,
        "colab": {
          "base_uri": "https://localhost:8080/",
          "height": 53
        },
        "id": "M0WvmVWWTaqb",
        "outputId": "ee2a0364-8316-475b-90b0-ee57f8d52de3"
      },
      "outputs": [
        {
          "name": "stdout",
          "output_type": "stream",
          "text": [
            "Your message:hu\n"
          ]
        },
        {
          "output_type": "execute_result",
          "data": {
            "text/plain": [
              "'hu'"
            ],
            "application/vnd.google.colaboratory.intrinsic+json": {
              "type": "string"
            }
          },
          "metadata": {},
          "execution_count": 7
        }
      ],
      "execution_count": null
    },
    {
      "cell_type": "markdown",
      "source": [
        "\n",
        "\n",
        "You can also use a variable to save the input you just entered:"
      ],
      "metadata": {
        "id": "ysn2Q2WPTaqb"
      }
    },
    {
      "cell_type": "code",
      "source": [
        "message = input(\"Your message:\")"
      ],
      "metadata": {
        "trusted": true,
        "colab": {
          "base_uri": "https://localhost:8080/"
        },
        "id": "6N191vWHTaqb",
        "outputId": "73617db9-5ea7-4265-f536-4028e40733fa"
      },
      "outputs": [
        {
          "name": "stdout",
          "output_type": "stream",
          "text": [
            "Your message:hi\n"
          ]
        }
      ],
      "execution_count": null
    },
    {
      "cell_type": "markdown",
      "source": [
        "Then, you can use print() to print the message you just input\n",
        "\n",
        "**\" ,  \"** inside print() can help us to serperate mulitple strings.\n",
        "\n",
        "For example:"
      ],
      "metadata": {
        "id": "h1CrqBrCTaqb"
      }
    },
    {
      "cell_type": "code",
      "source": [
        "# the output should be something like \"{name} said: {message}\"\n",
        "print(name, \"said:\", message)"
      ],
      "metadata": {
        "trusted": true,
        "colab": {
          "base_uri": "https://localhost:8080/"
        },
        "id": "Yx4C0F26Taqb",
        "outputId": "46a3043d-63e8-462d-9e8e-71290325b82a"
      },
      "outputs": [
        {
          "output_type": "stream",
          "name": "stdout",
          "text": [
            "jack said: hi\n"
          ]
        }
      ],
      "execution_count": null
    },
    {
      "cell_type": "markdown",
      "source": [
        "### Task 4\n",
        "\n",
        "Based on the game chat below, try to use what you have learnt to replicate the chat box.\n",
        "\n",
        "![image.png](https://miro.medium.com/v2/resize:fit:926/1*wxzbQMkLmM8TMBU9KpbbvA.png)\n",
        "\n",
        "\n"
      ],
      "metadata": {
        "id": "8pU59YJNTaqb"
      }
    },
    {
      "cell_type": "code",
      "source": [
        "game_character1 = \"Shyvana\"   # Character name here\n",
        "game_character2 = \"\"\n",
        "game_character3 = \"\"\n",
        "\n",
        "message1 = \"ok then you guys figure it out\" # what they said\n",
        "message2 = \"\"\n",
        "message3 = \"\"\n",
        "message4 = \"\"\n",
        "message5 = \"\"\n",
        "message6 = \"\"\n",
        "message7 = \"\"\n",
        "message8 = \"\"\n",
        "\n",
        "print(\"#################################\")\n",
        "\n",
        "\n",
        "print(game_character1 , \":\", message1)  # print it out\n",
        "print(game_character2 , \":\", message2)\n",
        "\n",
        "\n",
        "print(\"#################################\")"
      ],
      "metadata": {
        "trusted": true,
        "colab": {
          "base_uri": "https://localhost:8080/"
        },
        "id": "h4RqSRcFTaqb",
        "outputId": "f10736fe-de84-46e1-b8d0-3284c65cc1f3"
      },
      "outputs": [
        {
          "output_type": "stream",
          "name": "stdout",
          "text": [
            "\n",
            "#################################\n",
            "jack entered the chat room.\n",
            "jack said: hi\n",
            "#################################\n"
          ]
        }
      ],
      "execution_count": null
    },
    {
      "cell_type": "markdown",
      "source": [
        "## Decision Making\n",
        "\n",
        "If-else statement is frequently used in programming for decision making."
      ],
      "metadata": {
        "id": "g8XRxa3zQ4aB"
      }
    },
    {
      "cell_type": "markdown",
      "source": [
        "```python\n",
        "\n",
        "if condition A:\n",
        "    do something\n",
        "\n",
        "elif condition B:\n",
        "    do something\n",
        "\n",
        "else:\n",
        "    do something\n",
        "```"
      ],
      "metadata": {
        "id": "l34lUpmRQ4aB"
      }
    },
    {
      "cell_type": "markdown",
      "source": [
        "elif means \"else if\""
      ],
      "metadata": {
        "id": "-jhGOdJ-vWS-"
      }
    },
    {
      "cell_type": "markdown",
      "source": [
        "### Comparsion Operators\n",
        "\n",
        "We do comparisons inside the conditions to check if they are true or not.\n",
        "\n",
        "Comparison operators decide how to compare the two items.\n",
        "\n",
        "Here are some comparison operators that can be used inside conditions:\n",
        "\n",
        "<center>\n",
        "\n",
        "| Operator |         Meaning          |\n",
        "| :------: | :----------------------: |\n",
        "|    ==    |         equal to         |\n",
        "|    >     |       larger than        |\n",
        "|    >=    | larger than or equal to  |\n",
        "|    <     |       smaller than       |\n",
        "|    <=    | smaller than or equal to |\n",
        "|    !=    |       not equal to       |\n",
        "\n",
        "</center>"
      ],
      "metadata": {
        "id": "oMajiUTDQ4aC"
      }
    },
    {
      "cell_type": "markdown",
      "source": [
        "###Example"
      ],
      "metadata": {
        "id": "LOJjt1QIqwQT"
      }
    },
    {
      "cell_type": "markdown",
      "source": [
        "You can use if-else statement to decide what to say/do by comparing different items."
      ],
      "metadata": {
        "id": "0uaiNmq1sgAl"
      }
    },
    {
      "cell_type": "code",
      "source": [
        "species = \"zombie\"\n",
        "if (species == \"zombie\"):\n",
        "  print(\"I eat brains!\")\n",
        "elif (species == \"skeleton\"):\n",
        "  print(\"I am bones!!\")\n",
        "else:\n",
        "  print(\"I am human\")"
      ],
      "metadata": {
        "colab": {
          "base_uri": "https://localhost:8080/"
        },
        "id": "WhSSLP4Gq30e",
        "outputId": "98bb68bd-6537-4496-c387-e0328dd8b72d"
      },
      "execution_count": null,
      "outputs": [
        {
          "output_type": "stream",
          "name": "stdout",
          "text": [
            "I eat brains!\n"
          ]
        }
      ]
    },
    {
      "cell_type": "markdown",
      "source": [
        "### Logic Operators\n",
        "\n",
        "We also use logic operators to connect two or more conditions\n",
        "\n",
        "Common logic operators includes: `or`, `and`, `not`\n",
        "\n",
        "\n",
        "If (statement1 **or** statement2): (At least one of the statements are true)\n",
        "\n",
        "---\n",
        "\n",
        "If (statement1 **and** statement2): (**Both** statements are true)\n",
        "\n",
        "---\n",
        "\n",
        "If (**not** statement1): (The statement is **not** true)\n"
      ],
      "metadata": {
        "id": "Hb_mW72SQ4aL"
      }
    },
    {
      "cell_type": "markdown",
      "source": [
        "### Example"
      ],
      "metadata": {
        "id": "5VxDKIjOjoad"
      }
    },
    {
      "cell_type": "markdown",
      "source": [
        "In Minecraft, zombies and skeletons will burn under sunlight.\n",
        "\n",
        "Suppose the sun shines between 06:00 and 18:00"
      ],
      "metadata": {
        "id": "7EvjGAyJx4ml"
      }
    },
    {
      "cell_type": "code",
      "source": [
        "time = 13\n",
        "species = \"zombie\"\n",
        "\n",
        "if ((species == \"zombie\" or species == \"skeleton\") and (time > 6 and time < 18)):\n",
        "  print(\"I am burning!\")\n",
        "elif ((species == \"zombie\" or species == \"skeleton\") and (time <= 6 or time >= 18)):\n",
        "  print(\"Whew! Lucky that there is no sunshine\")\n",
        "else:\n",
        "  print(\"I am human and will not burn under sunlight\")"
      ],
      "metadata": {
        "colab": {
          "base_uri": "https://localhost:8080/"
        },
        "id": "6aAZLF3-j2I7",
        "outputId": "6ac9318f-0720-4a1a-cc1b-006a6fad0cac"
      },
      "execution_count": null,
      "outputs": [
        {
          "output_type": "stream",
          "name": "stdout",
          "text": [
            "I am burning!\n"
          ]
        }
      ]
    }
  ]
}