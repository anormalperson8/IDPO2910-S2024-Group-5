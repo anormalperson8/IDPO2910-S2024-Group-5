{
 "cells": [
  {
   "cell_type": "markdown",
   "metadata": {
    "id": "IKAwgRYlQ4Z0"
   },
   "source": [
    "# Game Programming With Python"
   ]
  },
  {
   "cell_type": "markdown",
   "metadata": {
    "id": "lAyqqdvAQ4Z2"
   },
   "source": [
    "## `print()`ing the Game Title\n",
    "\n",
    "You usually see the game title, game logo, and the options each time you launch a game.\n",
    "\n",
    "There are several ways to show the game title. Today, we will use the `print()` function in Python to do so.\n",
    "\n",
    "For example, when we open League of Legends:"
   ]
  },
  {
   "cell_type": "markdown",
   "metadata": {
    "id": "y1Ile4oIr3gF"
   },
   "source": [
    "### Example"
   ]
  },
  {
   "cell_type": "code",
   "execution_count": null,
   "metadata": {
    "colab": {
     "base_uri": "https://localhost:8080/"
    },
    "id": "dLrc6mWaQ4Z2",
    "outputId": "04db0202-88f7-4a42-93c6-93e7731cdb45"
   },
   "outputs": [],
   "source": [
    "print(\"League of Legends\") # Press the little triangle on the left to run the program"
   ]
  },
  {
   "cell_type": "markdown",
   "metadata": {
    "id": "usjfuLyRQ4Z4"
   },
   "source": [
    "### Task 1\n",
    "Try to type in different game names inside the quotation marks (`\" \"`), then run the code to see what happens:"
   ]
  },
  {
   "cell_type": "code",
   "execution_count": null,
   "metadata": {
    "id": "MdTQ1qr4Q4Z4"
   },
   "outputs": [],
   "source": [
    "print(\" \")"
   ]
  },
  {
   "cell_type": "markdown",
   "metadata": {
    "id": "ERC2I6R1Q4Z6"
   },
   "source": [
    "## Variables -- Storing Game Information\n",
    "\n",
    "After starting the game, you usually have to create your account, character, world, etc.\n",
    "\n",
    "**Variables** can store different pieces of information in a game.\n",
    "\n",
    "Let's see some common character attributes and their data types!\n",
    "<center>\n",
    "\n",
    "|Character Information|Data Type|\n",
    "|---|---|\n",
    "|Character Name|String|\n",
    "|Level|Integer|\n",
    "|HP|Integer|\n",
    "|Alive|Boolean|\n",
    "|Win|Boolean|\n",
    "|Skills|List|\n",
    "|Inventory|List|\n",
    "\n",
    "</center>\n",
    "\n",
    "As mentioned, you assign data to a variable like this: `variable_name = data`\n"
   ]
  },
  {
   "cell_type": "markdown",
   "metadata": {
    "id": "IYRRtGQjTaqa"
   },
   "source": [
    "### Example\n",
    "\n",
    "Welcome to HKUST metaverse. Let's create our own character!\n",
    "\n",
    "![image.png](https://hkust.edu.hk/sites/default/files/2022-07/piazza_0.png)"
   ]
  },
  {
   "cell_type": "code",
   "execution_count": null,
   "metadata": {
    "colab": {
     "base_uri": "https://localhost:8080/"
    },
    "id": "c2A4-HJbQ4Z6",
    "outputId": "00d88831-af6b-4f06-a961-7d62a0348cf2"
   },
   "outputs": [],
   "source": [
    "################## UST Student Simulator ##################\n",
    "\n",
    "character_name = \"De@d1ineFighter3000\"  # Character name\n",
    "\n",
    "level = 2 # Levels\n",
    "\n",
    "hp = 10  # Happiness Points\n",
    "\n",
    "###########################################################\n",
    "\n",
    "print(\"Hi,\", character_name, \"!\")\n",
    "print(\"Welcome to HKUST metaverse. Have you finished your assignments for today?\")"
   ]
  },
  {
   "cell_type": "markdown",
   "metadata": {
    "id": "yy0J2RkTTaqa"
   },
   "source": [
    "### Task 2\n",
    "\n",
    "Let's try to create your own character here."
   ]
  },
  {
   "cell_type": "code",
   "execution_count": null,
   "metadata": {
    "colab": {
     "base_uri": "https://localhost:8080/"
    },
    "id": "2NqhGHaHTaqa",
    "outputId": "f7d4e3ca-6100-45c8-f58c-2325505f0460"
   },
   "outputs": [],
   "source": [
    "# Let's add more attributes or other information you can think of.\n",
    "# Examples: Interest, favourite subject, etc\n",
    "###########################################################\n",
    "\n",
    "name = \"\" # Enter your character name inside the quotation marks (\"\")\n",
    "level = 0 # Change the 0 to any level you like\n",
    "hp = 0 # Change the 0 to any HP you want\n",
    "\n",
    "\n",
    "###########################################################\n",
    "\n",
    "print(\"Welcome to HKUST metaverse!\", name, \"!\")"
   ]
  },
  {
   "cell_type": "markdown",
   "metadata": {
    "id": "OVOuG0r6Q4Z8"
   },
   "source": [
    "## Arithmetic Operators -- How Games Calculate\n",
    "\n",
    "Different kinds of game mechanisms like battling, levelling, or crafting involve calculations.\n",
    "\n",
    "Here are some symbols (or **operators**) we can use in our program.\n",
    "\n",
    "<center>\n",
    "\n",
    "|Symbol|Use|\n",
    "|---|---|\n",
    "|`+`|Plus|\n",
    "|`-`|Minus|\n",
    "|`*`|Multiply|\n",
    "|`/`|Divide|\n",
    "\n",
    "</center>\n",
    "\n"
   ]
  },
  {
   "cell_type": "markdown",
   "metadata": {
    "id": "SUIx9BlBTaqa"
   },
   "source": [
    "### Example\n",
    "\n",
    "\n",
    "Apex Legends is a first-person shooter game.\n",
    "\n",
    "You have just finished a gunfight and you have defeated your enemies. You only have 12 health points left, so you decide to charge your shield first.\n",
    "\n",
    "![image.png](https://i.ytimg.com/vi/KRUK8lL3-kQ/maxresdefault.jpg)"
   ]
  },
  {
   "cell_type": "code",
   "execution_count": null,
   "metadata": {
    "colab": {
     "base_uri": "https://localhost:8080/"
    },
    "id": "Y0f37giZTaqa",
    "outputId": "8c6b2815-b9c0-4af1-c02b-4f68949c3734"
   },
   "outputs": [],
   "source": [
    "############## APEX ################\n",
    "\n",
    "######### Your Current Status #############\n",
    "\n",
    "shield = 0   # How much shield you currently have\n",
    "hp = 12     # How many hit points you have\n",
    "shield_battery = 1  # Number of shield batteries in your inventory\n",
    "syringe = 2   # Number of syringes in your inventory\n",
    "bullet = 61   # Number of bullets left\n",
    "\n",
    "####################################\n",
    "\n",
    "print(\"Shield recharging!! I only have\", shield_battery, \"battery left.\" )\n",
    "\n",
    "######## After you recharged your shield, the variables have to be changed... ##############\n",
    "shield_battery = shield_battery - 1\n",
    "shield = shield + 50\n",
    "#######################################################\n",
    "\n",
    "print(\"Shield charged! I have\", shield_battery, \"batteries left and my shield is\", shield, \".\")"
   ]
  },
  {
   "cell_type": "markdown",
   "metadata": {
    "id": "R6AJFdpvtsn4"
   },
   "source": [
    "### Task 3"
   ]
  },
  {
   "cell_type": "code",
   "execution_count": null,
   "metadata": {
    "id": "RVsKNeR4Taqa"
   },
   "outputs": [],
   "source": [
    "# Let's discuss with your friends\n",
    "# Brainstorm some more scenarios, and think of what calculation can be involved\n",
    "#################################################################################\n",
    "\n",
    "\n",
    "\n",
    "\n",
    "#################################################################################"
   ]
  },
  {
   "cell_type": "markdown",
   "metadata": {
    "id": "O6ARapKZQ4Z5"
   },
   "source": [
    "## `input()` and `print()`\n",
    "\n",
    "In most online games, you might want to chat with your friends, teammates or strangers.\n",
    "\n",
    "You will need the function `input()` to store what you have typed in.\n",
    "\n",
    "After you input the message you want to send, you can use `print()` to help you print the message out."
   ]
  },
  {
   "cell_type": "markdown",
   "metadata": {
    "id": "tQ4ZUeiA-eu5"
   },
   "source": [
    "### Example"
   ]
  },
  {
   "cell_type": "code",
   "execution_count": null,
   "metadata": {
    "colab": {
     "base_uri": "https://localhost:8080/",
     "height": 53
    },
    "id": "M0WvmVWWTaqb",
    "outputId": "ee2a0364-8316-475b-90b0-ee57f8d52de3"
   },
   "outputs": [],
   "source": [
    "input(\"Your message:\")"
   ]
  },
  {
   "cell_type": "markdown",
   "metadata": {
    "id": "ysn2Q2WPTaqb"
   },
   "source": [
    "\n",
    "\n",
    "You can also use a variable to save the input you just entered:"
   ]
  },
  {
   "cell_type": "code",
   "execution_count": null,
   "metadata": {
    "colab": {
     "base_uri": "https://localhost:8080/"
    },
    "id": "6N191vWHTaqb",
    "outputId": "73617db9-5ea7-4265-f536-4028e40733fa"
   },
   "outputs": [],
   "source": [
    "message = input(\"Your message:\")"
   ]
  },
  {
   "cell_type": "markdown",
   "metadata": {
    "id": "h1CrqBrCTaqb"
   },
   "source": [
    "Then, you can use `print()` to put what the user typed in to the screen.\n",
    "\n",
    "**\" ,  \"** inside `print()` can help us add a space between multiple variables, integers or strings.\n",
    "\n",
    "For example:"
   ]
  },
  {
   "cell_type": "code",
   "execution_count": null,
   "metadata": {
    "colab": {
     "base_uri": "https://localhost:8080/"
    },
    "id": "Yx4C0F26Taqb",
    "outputId": "46a3043d-63e8-462d-9e8e-71290325b82a"
   },
   "outputs": [],
   "source": [
    "# The output should be something like \"{name} said: {message}\"\n",
    "name = \"\" # Put your name here!\n",
    "print(name, \"said:\", message)"
   ]
  },
  {
   "cell_type": "markdown",
   "metadata": {
    "id": "8pU59YJNTaqb"
   },
   "source": [
    "### Task 4\n",
    "\n",
    "Based on the game chat below, try to use what you have learnt to replicate the chat box.\n",
    "\n",
    "![image.png](https://miro.medium.com/v2/resize:fit:926/1*wxzbQMkLmM8TMBU9KpbbvA.png)\n",
    "\n",
    "\n"
   ]
  },
  {
   "cell_type": "code",
   "execution_count": null,
   "metadata": {
    "colab": {
     "base_uri": "https://localhost:8080/"
    },
    "id": "h4RqSRcFTaqb",
    "outputId": "f10736fe-de84-46e1-b8d0-3284c65cc1f3"
   },
   "outputs": [],
   "source": [
    "# Please put the character name here:\n",
    "game_character1 = \"Shyvana\"\n",
    "game_character2 = \"\"\n",
    "game_character3 = \"\"\n",
    "\n",
    "# Please type the chat messages from the text box above in each variable below:\n",
    "message1 = \"ok then you guys figure it out\"\n",
    "message2 = \"\"\n",
    "message3 = \"\"\n",
    "message4 = \"\"\n",
    "message5 = \"\"\n",
    "message6 = \"\"\n",
    "message7 = \"\"\n",
    "message8 = \"\"\n",
    "\n",
    "print(\"#################################\")\n",
    "\n",
    "\n",
    "print(game_character1 , \":\", message1)  # Printing the messages out\n",
    "print(game_character2 , \":\", message2)\n",
    "\n",
    "# Remember to add more print statements to finish the code\n",
    "# (Using copy/paste may help here.)\n",
    "# We'll teach something to simplify this in the next lesson\n",
    "\n",
    "print(\"#################################\")"
   ]
  },
  {
   "cell_type": "markdown",
   "metadata": {
    "id": "g8XRxa3zQ4aB"
   },
   "source": [
    "## Decision Making\n",
    "\n",
    "`if-elif-else` statements are frequently used in programming for decision making."
   ]
  },
  {
   "cell_type": "markdown",
   "metadata": {
    "id": "l34lUpmRQ4aB"
   },
   "source": [
    "The basic format of an `if-elif-else` statement is as follows:\n",
    "```python\n",
    "if condition A:\n",
    "    # Do something if condition A is true\n",
    "elif condition B:\n",
    "    # Do something if condition A is not true and condition B is true\n",
    "else:\n",
    "    # Do something if condition A and condition B are both not true\n",
    "```"
   ]
  },
  {
   "cell_type": "markdown",
   "metadata": {
    "id": "-jhGOdJ-vWS-"
   },
   "source": [
    "Since programmers are lazy, they tend to simplify words. `elif` here means \"else if\"."
   ]
  },
  {
   "cell_type": "markdown",
   "metadata": {
    "id": "oMajiUTDQ4aC"
   },
   "source": [
    "### Comparsion Operators\n",
    "We can use comparison operators to compare two things.\n",
    "\n",
    "They can be used in `if-elif-else` blocks as a condition.\n",
    "\n",
    "Here are some comparison operators that you can use:\n",
    "\n",
    "<center>\n",
    "\n",
    "| Operator |         Meaning          |\n",
    "| :------: | :----------------------: |\n",
    "|    ==    |         equal to         |\n",
    "|    >     |       larger than        |\n",
    "|    >=    | larger than or equal to  |\n",
    "|    <     |       smaller than       |\n",
    "|    <=    | smaller than or equal to |\n",
    "|    !=    |       not equal to       |\n",
    "\n",
    "</center>"
   ]
  },
  {
   "cell_type": "markdown",
   "metadata": {
    "id": "LOJjt1QIqwQT"
   },
   "source": [
    "### Example"
   ]
  },
  {
   "cell_type": "markdown",
   "metadata": {
    "id": "0uaiNmq1sgAl"
   },
   "source": [
    "You can use `if-elif-else` statements to decide on what to say or do when a variable has different values. \n",
    "\n",
    "We can use the comparison operators taught above to check if a variable is equal to something, as you can see below:"
   ]
  },
  {
   "cell_type": "code",
   "execution_count": null,
   "metadata": {
    "colab": {
     "base_uri": "https://localhost:8080/"
    },
    "id": "WhSSLP4Gq30e",
    "outputId": "98bb68bd-6537-4496-c387-e0328dd8b72d"
   },
   "outputs": [],
   "source": [
    "species = \"zombie\" # Change this to different strings to see different outputs!\n",
    "if (species == \"zombie\"):\n",
    "  print(\"I eat brains!\")\n",
    "elif (species == \"skeleton\"): # Spooky scary!\n",
    "  print(\"I am made of bones!\")\n",
    "else:\n",
    "  print(\"I am human. :)\")"
   ]
  },
  {
   "cell_type": "markdown",
   "metadata": {
    "id": "Hb_mW72SQ4aL"
   },
   "source": [
    "### Logic Operators\n",
    "\n",
    "We use logic operators to connect two or more conditions.\n",
    "\n",
    "Common logic operators include `or`, `and` and `not`.\n",
    "\n",
    "For `or`:\n",
    "\n",
    "| `condition1` | `condition2` | Do something? |\n",
    "| ------------ | ------------ | ------------- |\n",
    "| false        | false        | No            |\n",
    "| true         | false        | Yes           |\n",
    "| false        | true         | Yes           |\n",
    "| true         | true         | **Also Yes**  |\n",
    "\n",
    "```python\n",
    "if condition1 or condition 2:\n",
    "    # If at least one of the conditions are true, then...\n",
    "    # Do something\n",
    "```\n",
    "---\n",
    "\n",
    "For `and`:\n",
    "\n",
    "| `condition1` | `condition2` | Do something? |\n",
    "| ------------ | ------------ | ------------- |\n",
    "| false        | false        | No            |\n",
    "| true         | false        | No            |\n",
    "| false        | true         | No            |\n",
    "| true         | true         | Yes           |\n",
    "```python\n",
    "if condition1 and condition2:\n",
    "    # If both conditions are true, then...\n",
    "    # Do something\n",
    "```\n",
    "---\n",
    "\n",
    "For `not`:\n",
    "\n",
    "| `condition1` | Do something? |\n",
    "| ------------ | ------------- |\n",
    "| false        | Yes           |\n",
    "| true         | No            | \n",
    "\n",
    "```python\n",
    "if not condition1:\n",
    "    # If the condition is not true, then...\n",
    "    # Do something\n",
    "```\n"
   ]
  },
  {
   "cell_type": "markdown",
   "metadata": {
    "id": "5VxDKIjOjoad"
   },
   "source": [
    "### Example"
   ]
  },
  {
   "cell_type": "markdown",
   "metadata": {
    "id": "7EvjGAyJx4ml"
   },
   "source": [
    "In Minecraft, zombies and skeletons burn under sunlight.\n",
    "\n",
    "Suppose the sun shines between 06:00 and 18:00."
   ]
  },
  {
   "cell_type": "code",
   "execution_count": null,
   "metadata": {
    "colab": {
     "base_uri": "https://localhost:8080/"
    },
    "id": "6aAZLF3-j2I7",
    "outputId": "6ac9318f-0720-4a1a-cc1b-006a6fad0cac"
   },
   "outputs": [],
   "source": [
    "time = 13\n",
    "species = \"zombie\"\n",
    "\n",
    "if (species == \"zombie\" or species == \"skeleton\") and (time > 6 and time < 18):\n",
    "  print(\"I am burning!\")\n",
    "elif (species == \"zombie\" or species == \"skeleton\") and (time <= 6 or time >= 18):\n",
    "  print(\"Whew! Luckily, the sun is not up.\")\n",
    "else:\n",
    "  print(\"I am human! I don't burn under sunlight.\")"
   ]
  }
 ],
 "metadata": {
  "colab": {
   "provenance": []
  },
  "kernelspec": {
   "display_name": "Python 3 (ipykernel)",
   "language": "python",
   "name": "python3"
  },
  "language_info": {
   "codemirror_mode": {
    "name": "ipython",
    "version": 3
   },
   "file_extension": ".py",
   "mimetype": "text/x-python",
   "name": "python",
   "nbconvert_exporter": "python",
   "pygments_lexer": "ipython3",
   "version": "3.11.8"
  }
 },
 "nbformat": 4,
 "nbformat_minor": 4
}
