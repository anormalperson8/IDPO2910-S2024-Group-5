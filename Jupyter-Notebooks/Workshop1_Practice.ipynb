{
  "metadata": {
    "kernelspec": {
      "name": "python",
      "display_name": "Python (Pyodide)",
      "language": "python"
    },
    "language_info": {
      "codemirror_mode": {
        "name": "python",
        "version": 3
      },
      "file_extension": ".py",
      "mimetype": "text/x-python",
      "name": "python",
      "nbconvert_exporter": "python",
      "pygments_lexer": "ipython3",
      "version": "3.8"
    },
    "colab": {
      "provenance": []
    }
  },
  "nbformat_minor": 0,
  "nbformat": 4,
  "cells": [
    {
      "cell_type": "markdown",
      "source": [
        "# Game Programming With Python"
      ],
      "metadata": {
        "id": "IKAwgRYlQ4Z0"
      }
    },
    {
      "cell_type": "markdown",
      "source": [
        "## print() Game Title\n",
        "\n",
        "\n",
        "\n",
        "Every time you open a game, you will see the game title, game logo, and some options.\n",
        "\n",
        "There are several ways to show the game title, but today we will use the print() function in Python to do so.\n",
        "\n",
        "For example, when we open League of Legends:"
      ],
      "metadata": {
        "id": "lAyqqdvAQ4Z2"
      }
    },
    {
      "cell_type": "markdown",
      "source": [
        "### Example"
      ],
      "metadata": {
        "id": "y1Ile4oIr3gF"
      }
    },
    {
      "cell_type": "code",
      "source": [
        "print(\"League of Legends\") # Press the little triangle on the left to run the program"
      ],
      "metadata": {
        "id": "dLrc6mWaQ4Z2",
        "outputId": "04db0202-88f7-4a42-93c6-93e7731cdb45",
        "trusted": true,
        "jupyter": {
          "source_hidden": true
        },
        "colab": {
          "base_uri": "https://localhost:8080/"
        }
      },
      "outputs": [
        {
          "output_type": "stream",
          "name": "stdout",
          "text": [
            "League of Legends\n"
          ]
        }
      ],
      "execution_count": null
    },
    {
      "cell_type": "markdown",
      "source": [
        "### Task 1\n",
        "Let's try to type in different game names inside \" \" and see what will happen:"
      ],
      "metadata": {
        "id": "usjfuLyRQ4Z4"
      }
    },
    {
      "cell_type": "code",
      "source": [
        "print(\"\")"
      ],
      "metadata": {
        "id": "MdTQ1qr4Q4Z4"
      },
      "outputs": [],
      "execution_count": null
    },
    {
      "cell_type": "markdown",
      "source": [
        "## Variable -- Storing game information\n",
        "\n",
        "After entering the game you will have to create your account, character, world, etc.\n",
        "\n",
        "**Variables** can store different pieces of information in a game\n",
        "\n",
        "Here are some information commonly seen in different games and the data type they are:\n",
        "<center>\n",
        "\n",
        "|Character Information|Data Type|\n",
        "|---|---|\n",
        "|Character Name|String|\n",
        "|Level|Integer|\n",
        "|HP|Integer|\n",
        "|Alive|Boolean|\n",
        "|Win|Boolean|\n",
        "|Skills|List|\n",
        "|Inventory|List|\n",
        "\n",
        "</center>\n",
        "\n",
        "\n",
        "Format: `variable_name` = data\n"
      ],
      "metadata": {
        "id": "ERC2I6R1Q4Z6"
      }
    },
    {
      "cell_type": "markdown",
      "source": [
        "### Example\n",
        "\n",
        "Welcome to HKUST metaverse, let's create your own character and join us!\n",
        "\n",
        "![image.png](https://hkust.edu.hk/sites/default/files/2022-07/piazza_0.png)"
      ],
      "metadata": {
        "id": "IYRRtGQjTaqa"
      }
    },
    {
      "cell_type": "code",
      "source": [
        "################## UST Student Simulator ##################\n",
        "\n",
        "character_name = \"De@d1ineFighter3000\"  # Character name\n",
        "\n",
        "level = 2 # Level\n",
        "\n",
        "HP = 10  # Happiness Point\n",
        "\n",
        "\n",
        "###########################################################\n",
        "\n",
        "print(\"Hi!\", name + \", welcome to HKUST metaverse. Have you finished your assignment?\")"
      ],
      "metadata": {
        "id": "c2A4-HJbQ4Z6",
        "trusted": true,
        "colab": {
          "base_uri": "https://localhost:8080/"
        },
        "outputId": "a5b6d968-f229-4d5e-af68-8f865cb26250"
      },
      "outputs": [
        {
          "output_type": "stream",
          "name": "stdout",
          "text": [
            "Hi! De@d1ineFighter3000, welcome to HKUST metaverse. Have you finished your assignment?\n"
          ]
        }
      ],
      "execution_count": null
    },
    {
      "cell_type": "markdown",
      "source": [
        "### Task 2\n",
        "\n",
        "Let's try to create your own character here."
      ],
      "metadata": {
        "id": "yy0J2RkTTaqa"
      }
    },
    {
      "cell_type": "code",
      "source": [
        "# let's add more attributes or other information you can think of.\n",
        "# like interest, year of study, favourite subject, etc\n",
        "###########################################################\n",
        "\n",
        "\n",
        "name = \"\" # Enter your character name inside \"\"\n",
        "level = 0 # Change the 0 to any level you like\n",
        "HP = 0 # Change the 0 to any HP you want\n",
        "\n",
        "\n",
        "\n",
        "###########################################################\n",
        "\n",
        "print(\"Welcome to HKUST metaverse!\", name + \"!\")"
      ],
      "metadata": {
        "trusted": true,
        "id": "2NqhGHaHTaqa",
        "outputId": "8dca0370-f15f-4c54-db23-9244a759f2cf"
      },
      "outputs": [
        {
          "name": "stdout",
          "text": "Welcome to  ! !\n",
          "output_type": "stream"
        }
      ],
      "execution_count": null
    },
    {
      "cell_type": "markdown",
      "source": [
        "## Arithmetic -- How Games Calculate Numbers\n",
        "\n",
        "Most of the games involve calculation when dealing with different kinds of game mechanisms like battling, levelling, crafting, etc.\n",
        "\n",
        "Here are some symbols we can use in our program.\n",
        "\n",
        "<center>\n",
        "\n",
        "|Symbol|Use|\n",
        "|---|---|\n",
        "|`+`|Plus|\n",
        "|`-`|Minus|\n",
        "|`*`|Multiply|\n",
        "|`/`|Divide|\n",
        "\n",
        "</center>\n",
        "\n"
      ],
      "metadata": {
        "id": "OVOuG0r6Q4Z8"
      }
    },
    {
      "cell_type": "markdown",
      "source": [
        "### Example\n",
        "\n",
        "\n",
        "Apex Legends is a First-person shooter game.\n",
        "\n",
        "You just finished a gunfight and you defeated your enemies. You only have 12 health points left so you decided to charge your shield first.\n",
        "\n",
        "![image.png](https://i.ytimg.com/vi/KRUK8lL3-kQ/maxresdefault.jpg)"
      ],
      "metadata": {
        "id": "SUIx9BlBTaqa"
      }
    },
    {
      "cell_type": "code",
      "source": [
        "############## APEX ################\n",
        "\n",
        "#########Current Status#############\n",
        "\n",
        "shield = 0   # your shield\n",
        "HP = 12     # health point\n",
        "shieldBattery = 1  # number of shield batteries in your inventory\n",
        "syringe = 2   # number of syringes in your inventory\n",
        "bullet = 61   # number of bullets left\n",
        "\n",
        "####################################\n",
        "\n",
        "print(\"Shield Recharging!! I only have\", shieldBattery, \"battery left.\" )\n",
        "\n",
        "######## After you recharged your shield ##############\n",
        "shieldBattery = shieldBattery - 1\n",
        "shield = shield + 50\n",
        "#######################################################\n",
        "\n",
        "print(\"Shield Charged! I have\", shieldBattery, \"batteries left and my shield is\", shield, \".\")"
      ],
      "metadata": {
        "trusted": true,
        "colab": {
          "base_uri": "https://localhost:8080/"
        },
        "id": "Y0f37giZTaqa",
        "outputId": "8c6b2815-b9c0-4af1-c02b-4f68949c3734"
      },
      "outputs": [
        {
          "output_type": "stream",
          "name": "stdout",
          "text": [
            "Shield Recharging!! I only have 1 battery left.\n",
            "Shield Charged! I have 0 battery left and my shield is 50 .\n"
          ]
        }
      ],
      "execution_count": null
    },
    {
      "cell_type": "code",
      "source": [
        "# Let's discuss with your friends\n",
        "# brainstorm some more scenarios and think of what calcuation can be involved\n",
        "#################################################################################\n",
        "\n",
        "\n",
        "\n",
        "\n",
        "#################################################################################"
      ],
      "metadata": {
        "trusted": true,
        "id": "RVsKNeR4Taqa"
      },
      "outputs": [],
      "execution_count": null
    },
    {
      "cell_type": "markdown",
      "source": [
        "## input() & print()\n",
        "\n",
        "In most of the online games, you might want to chat with your friends, teammates or strangers.\n",
        "\n",
        "So you will need the function input() to do the stuff.\n",
        "\n",
        "After you input the message you want to send, you can use print() to help you print the message out.\n",
        "\n",
        "![image.png](https://miro.medium.com/v2/resize:fit:926/1*wxzbQMkLmM8TMBU9KpbbvA.png)\n",
        "\n",
        "### Example"
      ],
      "metadata": {
        "id": "O6ARapKZQ4Z5"
      }
    },
    {
      "cell_type": "code",
      "source": [
        "input(\"Your message:\")"
      ],
      "metadata": {
        "trusted": true,
        "colab": {
          "base_uri": "https://localhost:8080/",
          "height": 53
        },
        "id": "M0WvmVWWTaqb",
        "outputId": "72dcd868-5afc-4b8a-ffe6-63de125ae5d1"
      },
      "outputs": [
        {
          "name": "stdout",
          "output_type": "stream",
          "text": [
            "Your message:hi\n"
          ]
        },
        {
          "output_type": "execute_result",
          "data": {
            "text/plain": [
              "'hi'"
            ],
            "application/vnd.google.colaboratory.intrinsic+json": {
              "type": "string"
            }
          },
          "metadata": {},
          "execution_count": 10
        }
      ],
      "execution_count": null
    },
    {
      "cell_type": "markdown",
      "source": [
        "\n",
        "\n",
        "You can also use a variable to save the input you just entered:"
      ],
      "metadata": {
        "id": "ysn2Q2WPTaqb"
      }
    },
    {
      "cell_type": "code",
      "source": [
        "message = input(\"Your message:\")"
      ],
      "metadata": {
        "trusted": true,
        "colab": {
          "base_uri": "https://localhost:8080/"
        },
        "id": "6N191vWHTaqb",
        "outputId": "af1b4571-cc07-4446-89f7-a7e3287b839f"
      },
      "outputs": [
        {
          "name": "stdout",
          "output_type": "stream",
          "text": [
            "Your message:hiii\n"
          ]
        }
      ],
      "execution_count": null
    },
    {
      "cell_type": "markdown",
      "source": [
        "Then, you can use print() to print the message you just input\n",
        "\n",
        "**\" ,  \"** inside print() can help us to serperate mulitple strings.\n",
        "\n",
        "For example:"
      ],
      "metadata": {
        "id": "h1CrqBrCTaqb"
      }
    },
    {
      "cell_type": "code",
      "source": [
        "# the output should be something like \"{name} just said: {message}\"\n",
        "print(name, \"just said:\", message)"
      ],
      "metadata": {
        "trusted": true,
        "colab": {
          "base_uri": "https://localhost:8080/"
        },
        "id": "Yx4C0F26Taqb",
        "outputId": "12f0e8f2-e3f0-4855-ba01-8214a7e577b7"
      },
      "outputs": [
        {
          "output_type": "stream",
          "name": "stdout",
          "text": [
            "Jack just said Hello Guys!!\n"
          ]
        }
      ],
      "execution_count": null
    },
    {
      "cell_type": "markdown",
      "source": [
        "### Task 4\n",
        "\n",
        "Try to make your own chat box here"
      ],
      "metadata": {
        "id": "8pU59YJNTaqb"
      }
    },
    {
      "cell_type": "code",
      "source": [
        "\n",
        "message = input(\"Your Message: \")  # your input message\n",
        "\n",
        "print()                           # skip a line\n",
        "print(\"#################################\")\n",
        "\n",
        "\n",
        "print(name, \"entered the chat room.\") # you entered the chat room\n",
        "print(name, \"said:\", message)         # print\n",
        "\n",
        "\n",
        "print(\"#################################\")"
      ],
      "metadata": {
        "trusted": true,
        "colab": {
          "base_uri": "https://localhost:8080/"
        },
        "id": "h4RqSRcFTaqb",
        "outputId": "a33708e6-ff76-4234-f8ac-befe550ee955"
      },
      "outputs": [
        {
          "output_type": "stream",
          "name": "stdout",
          "text": [
            "Your Message: hiii\n",
            "\n",
            "#################################\n",
            "De@d1ineFighter3000 entered chat room.\n",
            "De@d1ineFighter3000 said: hiii\n",
            "#################################\n"
          ]
        }
      ],
      "execution_count": null
    },
    {
      "cell_type": "markdown",
      "source": [
        "## Decision Making\n",
        "\n",
        "Decision-making is frequently used in game programming."
      ],
      "metadata": {
        "id": "g8XRxa3zQ4aB"
      }
    },
    {
      "cell_type": "markdown",
      "source": [
        "```python\n",
        "\n",
        "if condition:\n",
        "    code\n",
        "elif condition:\n",
        "    code\n",
        "else:\n",
        "    code\n",
        "```"
      ],
      "metadata": {
        "id": "l34lUpmRQ4aB"
      }
    },
    {
      "cell_type": "markdown",
      "source": [
        "## Comparsion Operators\n",
        "\n",
        "\n",
        "Here are some comparison operators that can be used inside conditions:\n",
        "\n",
        "<center>\n",
        "\n",
        "| Operator |         Meaning          |\n",
        "| :------: | :----------------------: |\n",
        "|    ==    |         equal to         |\n",
        "|    >     |       larger than        |\n",
        "|    >=    | larger than or equal to  |\n",
        "|    <     |       smaller than       |\n",
        "|    <=    | smaller than or equal to |\n",
        "|    !=    |       not equal to       |\n",
        "\n",
        "</center>\n",
        "\n",
        "For instance:"
      ],
      "metadata": {
        "id": "oMajiUTDQ4aC"
      }
    },
    {
      "cell_type": "markdown",
      "source": [
        "## Logic Operators\n",
        "\n",
        "Other than comparison operators, here are some logic operators: `or`, `and`, `not`\n",
        "\n",
        "If (statement1 **or** statement2): (Either one of the statements has to be fulfilled)\n",
        "\n",
        "If (statement1 **and** statement2): (Both statements have to be fulfilled)\n",
        "\n",
        "If (**not** statement1): (The statement is *not* fulfilled)\n",
        "\n",
        "For instance:"
      ],
      "metadata": {
        "id": "Hb_mW72SQ4aL"
      }
    }
  ]
}