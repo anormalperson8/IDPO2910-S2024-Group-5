{
 "cells": [
  {
   "cell_type": "markdown",
   "id": "58334946-1a45-49b3-b6dc-a3dbff05e0b2",
   "metadata": {},
   "source": [
    "# Workshop Two - Hangman\n",
    "\n",
    "As a way to recap what we've learnt previously, let's make a version of the popular word guessing game Hangman."
   ]
  },
  {
   "cell_type": "markdown",
   "id": "e99e7eb6-4716-4eec-8fe3-0a3881bc0e03",
   "metadata": {},
   "source": [
    "## Task 0: Understanding the Logic\n",
    "Before we begin, let's break down how hangman works.\n",
    "\n",
    "1. User guesses a letter.\n",
    "2. Check if the letter has been guessed or not. If yes, return to 1.\n",
    "3. Check if the letter is in the word.\n",
    "    1. If true, reveal the letter in the word.\n",
    "    2. Otherwise, increase the number of guesses used.\n",
    "4. Add the letter to the guessed pile.\n",
    "5. If the user guessed all the letters or ran out of guesses, end the game. Otherwise, go back to 1.\n",
    "\n",
    "This is what we will be doing today, step by step."
   ]
  },
  {
   "cell_type": "markdown",
   "id": "5d937da7-148a-4613-a583-d2be5c437622",
   "metadata": {},
   "source": [
    "## Task 1: Code Cleanup\n",
    "The first thing we have to do is to write a function to print out the hangman figure. Luckily, someone has written out the code for us already below:"
   ]
  },
  {
   "cell_type": "code",
   "execution_count": 2,
   "id": "527e3970-e822-4aad-a09f-dffa7840175c",
   "metadata": {},
   "outputs": [],
   "source": [
    "import time # for pausing the program\n",
    "from IPython.display import clear_output # for clearning the output\n",
    "import random # For generating random numbers and words\n",
    "from urllib.request import urlopen # a surprise tool that will help us later! (note that this is somewhat different syntax than our usual imports)\n",
    "import json # another surpise tool! We somehow have more tools than what Mickey usually has."
   ]
  },
  {
   "cell_type": "code",
   "execution_count": 3,
   "id": "2733786c-83fd-4ac3-88ae-3f508eaf5ac1",
   "metadata": {},
   "outputs": [],
   "source": [
    "def to_suffix(i): # Helper function to generate st, nd, rd, etc. Should work only for 1 to 9\n",
    "    if i == 1:\n",
    "        return \"st\"\n",
    "    elif i == 2:\n",
    "        return \"nd\"\n",
    "    elif i == 3:\n",
    "        return \"rd\"\n",
    "    else:\n",
    "        return \"th\""
   ]
  },
  {
   "cell_type": "code",
   "execution_count": 4,
   "id": "ff4fc745-626b-450c-a525-bfa3046c703f",
   "metadata": {
    "editable": true,
    "slideshow": {
     "slide_type": ""
    },
    "tags": []
   },
   "outputs": [],
   "source": [
    "def draw_simple(count):\n",
    "    if count == 0:\n",
    "        print('\\n\\n\\n\\n\\n\\n\\n_|_\\n')\n",
    "    elif count == 1:\n",
    "        print(\t'   _____ \\n'\n",
    "\t\t\t'  |      \\n'\n",
    "\t\t\t'  |      \\n'\n",
    "\t\t\t'  |      \\n'\n",
    "\t\t\t'  |      \\n'\n",
    "\t\t\t'  |      \\n'\n",
    "\t\t\t'  |      \\n'\n",
    "            '__|__    \\n')\n",
    "\n",
    "    elif count == 2:\n",
    "        print(\t'   _____  \\n'\n",
    "            '  |     | \\n'\n",
    "            '  |     | \\n'\n",
    "            '  |       \\n'\n",
    "            '  |       \\n'\n",
    "            '  |       \\n'\n",
    "            '  |       \\n'\n",
    "            '__|__     \\n')\n",
    "\n",
    "    elif count == 3:\n",
    "        print(  '   _____  \\n'\n",
    "            '  |     | \\n'\n",
    "            '  |     | \\n'\n",
    "            '  |     | \\n'\n",
    "            '  |       \\n'\n",
    "            '  |       \\n'\n",
    "            '  |       \\n'\n",
    "            '__|__     \\n')\n",
    "\n",
    "    elif count == 4:\n",
    "        print(\t'   _____  \\n'\n",
    "            '  |     | \\n'\n",
    "            '  |     | \\n'\n",
    "            '  |     | \\n'\n",
    "            '  |     O \\n'\n",
    "            '  |       \\n'\n",
    "            '  |       \\n'\n",
    "            '__|__     \\n')\n",
    "\n",
    "    elif count == 5:\n",
    "        print(\t'   _____   \\n'\n",
    "            '  |     |  \\n'\n",
    "            '  |     |  \\n'\n",
    "            '  |     |  \\n'\n",
    "            '  |     O  \\n'\n",
    "            '  |    /|\\ \\n'\n",
    "            '  |        \\n'\n",
    "            '__|__      \\n')\n",
    "\n",
    "    elif count == 6:\n",
    "        print(\t'   _____   \\n'\n",
    "            '  |     |  \\n'\n",
    "            '  |     |  \\n'\n",
    "            '  |     |  \\n'\n",
    "            '  |     O  \\n'\n",
    "            '  |    /|\\ \\n'\n",
    "            '  |    / \\ \\n'\n",
    "            '__|__      \\n')\n",
    "        print()"
   ]
  },
  {
   "cell_type": "markdown",
   "id": "5da73131-bfed-4634-989b-897e79e91a0d",
   "metadata": {
    "editable": true,
    "slideshow": {
     "slide_type": ""
    },
    "tags": []
   },
   "source": [
    "Let's see this in action."
   ]
  },
  {
   "cell_type": "code",
   "execution_count": 5,
   "id": "c1da0d04-824a-4d77-8e93-8a14a299c7c3",
   "metadata": {},
   "outputs": [
    {
     "name": "stdout",
     "output_type": "stream",
     "text": [
      "The 6th loop looks like this:\n",
      "   _____   \n",
      "  |     |  \n",
      "  |     |  \n",
      "  |     |  \n",
      "  |     O  \n",
      "  |    /|\\ \n",
      "  |    / \\ \n",
      "__|__      \n",
      "\n",
      "\n"
     ]
    }
   ],
   "source": [
    "for i in range(7): # from 0 to 6 (not to 7!) do..\n",
    "    print(f\"The {i}{to_suffix(i)} loop looks like this:\")\n",
    "    draw_simple(i) # use our function\n",
    "    time.sleep(1) # pauses the program for one second\n",
    "    clear_output(wait=True) # clears our output so we have an animation"
   ]
  },
  {
   "cell_type": "markdown",
   "id": "594442cc-9211-4b03-bbca-cd68fb119eb7",
   "metadata": {},
   "source": [
    "This definitely works, but the code seems clunky. Can we modify this to not repeat ourselves that much? \n",
    "\n",
    "Try to complete the following function without changing how the code works.\n",
    "\n",
    "Replace all the `None`s with the appropriate conditional.\n",
    "\n",
    "Here, `drawing_number` corresponds to which hangman shape to draw."
   ]
  },
  {
   "cell_type": "code",
   "execution_count": 6,
   "id": "b8aafcc2-3228-4247-9983-58bc02ae40d7",
   "metadata": {},
   "outputs": [],
   "source": [
    "def draw(drawing_number):\n",
    "\n",
    "    # First line of output (the ____)\n",
    "    if drawing_number > 0:\n",
    "        print('   _____ ') # If drawining number > 0, then...\n",
    "\n",
    "        # there are 6 lines that need to be output each time, corresponding to each |\n",
    "        # make a loop which runs 6 times here by replacing the [] in the for loop\n",
    "        # hint: use range()\n",
    "        for line_number in range(6):\n",
    "            print('  |    ', end='') # we print the basic | on the left first, and with 4 spaces (we also use the end='' introduced last to to prevent an extra enter\n",
    "    \n",
    "            # if drawing number > 1 and the line number == 0 or == 1, then...\n",
    "            if drawing_number > 1 and (line_number == 0 or line_number == 1):\n",
    "                print(' |')\n",
    "            elif drawing_number > 2 and line_number == 2: # if drawing number > 2 and the line number == 2, then...\n",
    "                print(' |')\n",
    "            elif drawing_number > 3 and line_number == 3: # if drawing number > 3 and the line number == 3, then...\n",
    "                print(' O')\n",
    "            elif drawing_number > 4 and line_number == 4: # if drawing number > 4 and the line number == 4, then...\n",
    "                print('/|\\\\') # Note that we use \\\\ to represent 1 \\ only in a string\n",
    "            elif drawing_number > 5 and line_number == 5: # if drawing number > 5 and the line number == 5, then...\n",
    "                print('/ \\\\')\n",
    "            else: # we still need to input an enter to make it go to the next line\n",
    "                print()\n",
    "    else:\n",
    "        print(\"\\n\\n\\n\\n\\n\\n\") # To make sure we actually print the empty space even if we have 6 guesses left\n",
    "    print('__|__     \\n') # the floor of the frame, needed every time"
   ]
  },
  {
   "cell_type": "markdown",
   "id": "6464ac38-6b6d-4d4a-8b1e-b2b063efaf0d",
   "metadata": {},
   "source": [
    "## Test: Does your code work?\n",
    "Test if your output is identical to the one above by running this block."
   ]
  },
  {
   "cell_type": "code",
   "execution_count": 7,
   "id": "12285e97-07b4-4756-a5f7-5d78f6f87bdc",
   "metadata": {},
   "outputs": [
    {
     "name": "stdout",
     "output_type": "stream",
     "text": [
      "The 6th loop looks like this:\n",
      "   _____ \n",
      "  |     |\n",
      "  |     |\n",
      "  |     |\n",
      "  |     O\n",
      "  |    /|\\\n",
      "  |    / \\\n",
      "__|__     \n",
      "\n"
     ]
    }
   ],
   "source": [
    "for i in range(0, 7): # from 0 to 6 (not to 7!) do..\n",
    "    print(f\"The {i}{to_suffix(i)} loop looks like this:\")\n",
    "    draw(i) # use our function\n",
    "    time.sleep(1) # pauses the program for one second\n",
    "    clear_output(wait=True) # clears our output so we have an animation"
   ]
  },
  {
   "cell_type": "markdown",
   "id": "3ba7e693-ae53-4369-ac40-c5866ff2bef0",
   "metadata": {},
   "source": [
    "## Generating Random Words\n",
    "As we established last time, generating random stuff is *hard* even for programmers. This goes double for generating words that make sense.\n",
    "\n",
    "Since Python does not have a built-in way to do this, we use our surprise tool (`urllib`) to grab a word list from the web.\n",
    "\n",
    "The list is [here](https://github.com/bevacqua/correcthorse/blob/master/wordlist.json), and is actually inspired by [this XKCD](http://xkcd.com/936/).\n",
    "\n",
    "Note: Please don't run this block (the one with `urlopen`) too much - you are using someone else's resources each time you run this."
   ]
  },
  {
   "cell_type": "code",
   "execution_count": 8,
   "id": "4a706478-8b8f-46be-a98a-23bba9e9a89f",
   "metadata": {},
   "outputs": [],
   "source": [
    "words_json = urlopen(\"https://raw.githubusercontent.com/bevacqua/correcthorse/master/wordlist.json\").read() # reads the word list\n",
    "word_list = json.loads(words_json) # turns the words into a list"
   ]
  },
  {
   "cell_type": "markdown",
   "id": "7883e2e4-3686-4627-b39c-965c834c4f02",
   "metadata": {},
   "source": [
    "Let's generate a random word by using our good friend `random` again.\n",
    "\n",
    "You can run this block however many times you want to get a new random word."
   ]
  },
  {
   "cell_type": "code",
   "execution_count": 9,
   "id": "9ef61415-ee4c-4162-af8f-023bcc7bf946",
   "metadata": {},
   "outputs": [
    {
     "name": "stdout",
     "output_type": "stream",
     "text": [
      "Your random word is: nose\n"
     ]
    }
   ],
   "source": [
    "random_word = random.choice(word_list) # random.choice chooses something random from the word list\n",
    "print(f\"Your random word is: {random_word}\")"
   ]
  },
  {
   "cell_type": "markdown",
   "id": "1f2302e8-86d7-471e-83bf-96f5e87987cf",
   "metadata": {},
   "source": [
    "## Task 2: Making Sure the Input is Valid\n",
    "Before we begin, let's define all the variables we will use.\n",
    "\n",
    "You can re-run this block to reset all the variables to their defaults."
   ]
  },
  {
   "cell_type": "code",
   "execution_count": 10,
   "id": "93337f06-a40a-4d10-844f-aa9b17dd1f3d",
   "metadata": {},
   "outputs": [],
   "source": [
    "guesses_used = 0 # The number of guesses used\n",
    "limit = 6 # The maximum number of guesses before you lose\n",
    "guessed = [] # The guessed number pile; a List\n",
    "display = ['_'] * len(random_word) # The letters to display; Initially a List of all [_]\n",
    "letters = list(random_word) # The actual letters of the word; will not be modified"
   ]
  },
  {
   "cell_type": "markdown",
   "id": "46225a38-503b-4767-bbfc-805b8089db21",
   "metadata": {},
   "source": [
    "First, we write a function to continuously prompt the user to input until they input something valid:"
   ]
  },
  {
   "cell_type": "code",
   "execution_count": 13,
   "id": "df13718f-05e4-4866-a52a-62e4a4d375a5",
   "metadata": {},
   "outputs": [],
   "source": [
    "# guessed is the List of guessed letters, in no particular order\n",
    "def get_guess(guessed):\n",
    "    user_input = \"\" # initialize user_input to empty\n",
    "    input_ok = False # set this to true if the input is something we want\n",
    "    ## TODO HERE\n",
    "    while not input_ok: # while the input is NOT ok (replace None with the correct answer)\n",
    "        user_input = input(\"Please enter a letter: \") # ask user for input\n",
    "        # this is a pretty complex conditonal, so it is given\n",
    "        if (len(user_input) == 1) and user_input[0].isalpha(): # if the input length is 1, and the first letter is a character\n",
    "            ## TODO HERE\n",
    "            # if the user input has not been guessed already...\n",
    "            # Replace the None here with the appropriate condition\n",
    "            # Hint: How do you check if something is in the list?\n",
    "            if user_input not in guessed:\n",
    "                input_ok = True # Input is OK, so we make the loop exit\n",
    "            else: # input has already been guessed\n",
    "                print(\"The input has already been guessed! Please try again.\")\n",
    "        else: # input invalid, length != 1 or first letter not character\n",
    "            print(\"The input is invalid. Please try again.\")\n",
    "    return user_input # give the user_input back"
   ]
  },
  {
   "cell_type": "markdown",
   "id": "699613a8-64aa-43e4-8114-750a01fc6ee4",
   "metadata": {},
   "source": [
    "## Test: Does your code work?\n",
    "Run the block below and test your code with different inputs!\n",
    "\n",
    "(For the sake of testing, we set `a, e, i, o, u` to be guessed letters.)\n",
    "\n",
    "Your code should prevent the user from inputting guessed letters or invalid inputs."
   ]
  },
  {
   "cell_type": "code",
   "execution_count": null,
   "id": "65920865-1ec3-4b05-b0e2-f20ff90b80f9",
   "metadata": {},
   "outputs": [],
   "source": [
    "guessed = ['a', 'e', 'i', 'o', 'u'] # Let's temporarily make [a, e, i, o, u] guessed letters...\n",
    "print(f\"The guess {get_guess(guessed)} is valid!\")\n",
    "guessed = [] # Reset the guessed list"
   ]
  },
  {
   "cell_type": "markdown",
   "id": "325b44bb-58e7-4ea5-ac97-9f8b953a8c9c",
   "metadata": {},
   "source": [
    "## Task 3: Updating the Game State\n",
    "Complete the function below to simulate what happens when a letter is guessed.\n",
    "\n",
    "Please replace all the `None`s with the correct condition."
   ]
  },
  {
   "cell_type": "code",
   "execution_count": 11,
   "id": "d4456c41-be18-4f19-80a3-7fc70c9d0f75",
   "metadata": {},
   "outputs": [],
   "source": [
    "# Here, user_guess is the (valid) guess of the user\n",
    "# random_word is our random word\n",
    "# display is the List of letters to display (think [`_`, `_`, `a`])\n",
    "# guessed is the List of guessed letters, in no particular order\n",
    "def handle_guess(user_guess, random_word, display, guessed):\n",
    "    is_guess_correct = True # We set this to True in the beginning and reset it to false later if the user's guess is wrong\n",
    "    # First, we add the guess to the guessed list\n",
    "    # Add a line of code to add things to the list\n",
    "    guessed.append(user_guess)\n",
    "    # Then, we check if the guess is actually in our word\n",
    "    # Replace the None here with the appropriate test\n",
    "    if (user_guess in random_word):\n",
    "        # We loop over all the letters in the word\n",
    "        # You have to replace the 0 with the length of the word list\n",
    "        # i here is used to access the corresponding letter in the guessed and display lists\n",
    "        for i in range(len(random_word)):\n",
    "            if user_guess == random_word[i]: # if the i-th letter is equal to our guess\n",
    "                display[i] = user_guess # then the display list should be updated\n",
    "                if not (user_guess in guessed): # if the letter is not in the guessed list already...\n",
    "                    # add it to the list\n",
    "                    guessed.append(user_guess)\n",
    "                    # pass # remove this line of code with your code\n",
    "        print(\"Your guess is correct!\")\n",
    "    else:\n",
    "        print(\"Your guess is wrong.\")\n",
    "        is_guess_correct = False # Wrong guess, so we set the guess back to False\n",
    "    return is_guess_correct # Notify the user of the function if our guess is correct or not"
   ]
  },
  {
   "cell_type": "markdown",
   "id": "ff5c8719-0055-41e9-9ea9-65ea3b8a501b",
   "metadata": {},
   "source": [
    "## Test: Does your Code Work?\n",
    "Play with the code block below to test your code\n",
    "\n",
    "Check for a few things:\n",
    "1. Display contains the letters you supplied, if any;\n",
    "2. Guess has no duplicate letters;\n",
    "3. Guesses used should not be increased if your guess is right."
   ]
  },
  {
   "cell_type": "code",
   "execution_count": null,
   "id": "cd921980-22f8-4665-a9ac-7f082d285ce3",
   "metadata": {},
   "outputs": [],
   "source": [
    "random_word_copy = random_word # copy our random word above\n",
    "\n",
    "# Reinitialize the word-related variables\n",
    "random_word = \"pedagogical\"\n",
    "guessed = []\n",
    "display = ['_'] * len(random_word)\n",
    "letters = list(random_word)\n",
    "\n",
    "# The actual test\n",
    "guess_result = handle_guess(get_guess(guessed), random_word, display, guessed)\n",
    "if not guess_result: # if the guess_result is not right, then\n",
    "    guesses_used += 1 # add 1 to guesses_used\n",
    "\n",
    "print(f\"guessed = {guessed}, display = {display}, guesses_used = {guesses_used}\")"
   ]
  },
  {
   "cell_type": "markdown",
   "id": "9fe5326a-22c4-4dad-8c4e-72b7db06461d",
   "metadata": {},
   "source": [
    "Run the block below to reset everything."
   ]
  },
  {
   "cell_type": "code",
   "execution_count": null,
   "id": "4f9862ca-1176-4aed-b3c2-742568c92c7b",
   "metadata": {},
   "outputs": [],
   "source": [
    "# Reset the variables to the pre-test state\n",
    "random_word = random_word_copy\n",
    "guessed = []\n",
    "display = ['_'] * len(random_word)\n",
    "letters = list(random_word)\n",
    "guesses_used = 0"
   ]
  },
  {
   "cell_type": "markdown",
   "id": "d2a9b46d-161d-4306-ae57-64b2fc6ce484",
   "metadata": {},
   "source": [
    "## Task 4: Putting It All Together\n",
    "Let's add everything together to complete our Hangman game."
   ]
  },
  {
   "cell_type": "code",
   "execution_count": 17,
   "id": "30c9e77c-18e9-4298-83b0-efe1196333d2",
   "metadata": {
    "editable": true,
    "slideshow": {
     "slide_type": ""
    },
    "tags": []
   },
   "outputs": [
    {
     "name": "stdout",
     "output_type": "stream",
     "text": [
      "The word is nose. Good job!\n"
     ]
    }
   ],
   "source": [
    "won = False # Indicates whether we have won \n",
    "## TODO HERE\n",
    "# While the guesses_used is less than the limit *and* we have not won yet...\n",
    "while guesses_used < limit and not won:\n",
    "    clear_output(wait=False) # clear the screen\n",
    "    draw(guesses_used)\n",
    "    print(f\"The current revealed letters are: {display}\\nYou have guessed the letters: {guessed}\")\n",
    "    print(f\"You have {limit - guesses_used} guesses remaining.\") # print message for user to know how many guesses they have left \n",
    "    user_guess = get_guess(guessed) # Get the valid user guess\n",
    "    guess_result = handle_guess(user_guess, random_word, display, guessed) # Handle the guess\n",
    "    if not guess_result: # If the guess is wrong, then...\n",
    "        guesses_used = guesses_used + 1 # Add 1 to the guesses_used\n",
    "    draw(guesses_used) # Draw the hangman picture\n",
    "    if display == letters: # if we have revealed every single letter, then\n",
    "        won = True\n",
    "\n",
    "clear_output(wait=True)\n",
    "if not won: # If we exit but have not won, that means we lost\n",
    "    print(f\"You have ran out of guesses. The word is {random_word}. Better luck next time!\")\n",
    "else:\n",
    "    print(f\"The word is {random_word}. Good job!\")"
   ]
  },
  {
   "cell_type": "markdown",
   "id": "e8d9edec-5cc3-476c-9ad5-0ef31a47afcc",
   "metadata": {},
   "source": [
    "## Bonus: Entropy-Based Hangman Solver\n",
    "This is **very hard**. Please only attempt this if you are confident in your mathematics (specifically probability and logarithms)."
   ]
  },
  {
   "cell_type": "markdown",
   "id": "7ce7aadc-27da-4355-9e93-4ce66a75cdf0",
   "metadata": {},
   "source": [
    "## More Math Revision: Exponents and Logarithms\n",
    "\n",
    "**In general, you can treat logarithms as \"black boxes\" here. You don't need to understand all of this block if you only treat logarithms as something which takes an input and gives you another number as the output.**"
   ]
  },
  {
   "cell_type": "markdown",
   "id": "b24f578d-6452-41cf-991a-38c078297240",
   "metadata": {},
   "source": [
    "You should have learnt **exponentiation** before. It is basically $a^b$, and we call $a$ the **base** and $b$ the **exponent**.\n",
    "\n",
    "Exponents are a good way to represent repeated multiplication if the exponent is an integer. Here, we might have to work with non-integer exponents, but they function the same way.\n",
    "\n",
    "What you may not have learnt before are **logarithms**. Logarithms are the opposite of exponentiation, same as division being the opposite of multiplication.\n",
    "\n",
    "Given the base, you can recover the exponent of a number.\n",
    "\n",
    "Logarithms are represented by $log_b(a)$, where $b$ is the base that you want.\n",
    "\n",
    "An example can be found below:\n",
    "\n",
    "$2^3 = 8$. Therefore, $log_2(8) = 3$."
   ]
  },
  {
   "cell_type": "markdown",
   "id": "015227b6-b5bf-4e90-b520-eeaa4bc90c65",
   "metadata": {},
   "source": [
    "## Information: How to Make an Optimal Guess?\n",
    "Last time, we used binary search in order to cut our problems into half. Since we're only working with a limited range of numbers, that was easy.\n",
    "\n",
    "However, the situation is much more complex for Hangman. We have to figure out which of the 26 letters to guess, which isn't very easy.\n",
    "\n",
    "Intuitively, at each point of the game we want to guess the best letter which eliminates the greatest number of possibilities.\n",
    "\n",
    "We measure the ability of a guess to eliminate possibilities by its **entropy** $H$. The higher the entropy, the more powerful the guess is for reducing the number of possibilities.\n",
    "\n",
    "$H$ in our case is the sum of all the possible $-p \\log_2(p)$, where $p$ is basically the probability of each possible outcome given a word list."
   ]
  },
  {
   "cell_type": "markdown",
   "id": "38499d40-6e78-4e68-8b5d-a42c386f738a",
   "metadata": {},
   "source": [
    "## Example: What is the $H$ of a guess?\n",
    "This is pretty vague, so let's illustrate this with an example.\n",
    "\n",
    "Consider a word with three letters (`_`, `_`, `_`), and we have the words `[aca, bcc, fad, ara]`.\n",
    "\n",
    "Let's guess `a`.\n",
    "\n",
    "The list of possible outcomes for this guess is then:\n",
    "- `_`, `_`, `_`;\n",
    "- `a`, `_`, `_`;\n",
    "- `_`, `a`, `_`;\n",
    "- `_`, `_`, `a`;\n",
    "- `a`, `a`, `_`;\n",
    "- `_`, `a`, `a`;\n",
    "- `a`, `_`, `a`; and\n",
    "- `a`, `a`, `a`.\n",
    "\n",
    "We call each outcome a *pattern*.\n",
    "\n",
    "To find the probability of each outcome, we simply find the number of words matching this pattern and divide it by the total number of words.\n",
    "\n",
    "Then the probabilities of each of these outcomes can be calculated like this:\n",
    "| Pattern | Number of words matching | Probability $p$ | \n",
    "|---|---| --- |\n",
    "`_`, `_`, `_` | 1 (bcc) | 0.25 (1/4) |\n",
    "`a`, `_`, `_` | 0 | 0 |\n",
    "`_`, `a`, `_` | 1 (fad) | 0.25 (1/4) |\n",
    "`_`, `_`, `a` | 0 | 0 |\n",
    "`a`, `a`, `_` | 0 | 0 |\n",
    "`_`, `a`, `a` | 0 | 0 |\n",
    "`a`, `_`, `a` | 2 (aca, ara) | 0.5 (2/4) |\n",
    " `a`, `a`, `a`| 0 | 0 \n",
    "\n",
    "Then the entropy of guessing `a` is $H = -0.25 \\log_2(0.25) + -0.25 \\log_2(0.25) + -0.5 \\log_2(0.5) = 1.5$.\n",
    "\n",
    "How do we use this fact?"
   ]
  },
  {
   "cell_type": "markdown",
   "id": "7feeb4df-5385-4ac1-afef-2f50f0ffd0cf",
   "metadata": {},
   "source": [
    "## Using Entropy to Make Guesses\n",
    "Now that we know what entropy is, we can use this to make optimal guesses.\n",
    "\n",
    "1. For each remaining letter:\n",
    "    1. Calculate the entropy of guessing that letter.\n",
    "2. Get the letter with maximum entropy and use that as our guess.\n",
    "3. The guess should give us a new pattern. Remove all words not matching that pattern.\n",
    "\n",
    "Since this is pretty complex to write on your own, I'll be giving you most of the functions you need."
   ]
  },
  {
   "cell_type": "code",
   "execution_count": 19,
   "id": "230eb05b-4cef-464a-b2f5-6f155d0fd28e",
   "metadata": {},
   "outputs": [],
   "source": [
    "import math # We'll be using this a lot\n",
    "from itertools import product # you don't need to care about this, nor should you"
   ]
  },
  {
   "cell_type": "code",
   "execution_count": 20,
   "id": "08e771dd-d608-4860-a0aa-634ed5e7d43a",
   "metadata": {},
   "outputs": [],
   "source": [
    "# Generates all the patterns which can result from a guess.\n",
    "# Uses _ to represent \"not the letter provided\", and the letter to represent the letter itself\n",
    "# for example, the output for the example above would be:\n",
    "# [[`_`, `_`, `_`], [`a`, `_`, `_`], [`_`, `a`, `_`],\n",
    "#  [`_`, `_`, `a`], [`a`, `a`, `_`], [`_`, `a`, `a`],\n",
    "# `[a`, `_`, `a`],  [`a`, `a`, `a`]]\n",
    "def generate_pattern(letter, word_length):\n",
    "    return [[*p] for p in product(f'_{letter}', repeat=word_length)] # don't question it"
   ]
  },
  {
   "cell_type": "code",
   "execution_count": 32,
   "id": "e4fccabf-fac7-4ed7-8b30-46f4c8ef5bbe",
   "metadata": {},
   "outputs": [],
   "source": [
    "# Checks if a word matches the letter (pattern and word are both lists).\n",
    "# pattern are lists like ['_', '_', 'a'], and words are lists like ['a', 'b', 'a']\n",
    "# the \"pattern letter\" is equal to the current letter being guessed\n",
    "def matches(pattern_letter, pattern, word):\n",
    "    if len(pattern) != len(word): # If the pattern is not of the same length as the word\n",
    "        return False\n",
    "\n",
    "    # Since `_` means you need to avoid the current letter (pattern_letter) as well as all letters \n",
    "    # in the pattern string itself, we need to count all the letters to avoid.\n",
    "    # The loop below counts all the letters which are in the pattern\n",
    "    letter_to_avoid = [pattern_letter]\n",
    "    for letter in pattern:\n",
    "        if letter != '_' and letter not in letter_to_avoid:\n",
    "            letter_to_avoid.append(letter)\n",
    "    ## TODO HERE:\n",
    "    # for each i-th position in the word, do:\n",
    "    # change the loop to loop from 0 to the length of the word\n",
    "    for i in range(len(word)):\n",
    "        if pattern[i] == '_': # `_` means you need to avoid all the letters in the List letter_to_avoid...\n",
    "            if word[i] in letter_to_avoid: # if and the word's i-th letter is in letter_to_avoid, then...\n",
    "                return False\n",
    "        else: # we know that pattern[i] must be a letter\n",
    "            if word[i] != pattern[i]: # if the word's letter is not equal to the pattern's i-th letter, then...\n",
    "                return False\n",
    "    return True"
   ]
  },
  {
   "cell_type": "code",
   "execution_count": 33,
   "id": "dbf5e394-3db3-431f-a01b-05cbaa18705c",
   "metadata": {},
   "outputs": [],
   "source": [
    "# Generate the entropy of guessing a letter\n",
    "def calculate_entropy(letter, word_length, word_list):\n",
    "    total_words = len(word_list) # total words left in the word list\n",
    "    total_entropy = 0 # total entropy to be calculated\n",
    "    for pattern in generate_pattern(letter, word_length): # for each generated pattern...\n",
    "        count = 0 # counts the number of words matching this pattern\n",
    "        for word in word_list: # for each word in the word list\n",
    "            if matches(letter, pattern, word): # check if it matches\n",
    "                count += 1 # add 1 if matches\n",
    "        p = count / total_words # calculate the p value\n",
    "        if p != 0.0: # if p is not negative\n",
    "            total_entropy += - p * math.log(p) / math.log(2) # add to total entropy\n",
    "    return total_entropy"
   ]
  },
  {
   "cell_type": "code",
   "execution_count": 35,
   "id": "6e07cc81-f910-4daa-af80-7f692483051c",
   "metadata": {},
   "outputs": [],
   "source": [
    "# Generates the optimal guess\n",
    "def get_optimal_guess(guessed_letters, word_length, word_list):\n",
    "    if len(word_list) == 1:\n",
    "        for letter in word_list[0]:\n",
    "            if letter not in guessed_letters:\n",
    "                return letter\n",
    "    # Loops over all the unguessed letters and gets the letter with the maximum\n",
    "    # associated entropy\n",
    "    best_letter = \"!\" # the best letter to guess\n",
    "    best_entropy = -1 # the best entropy score calculated for this letter\n",
    "    all_letters = \"abcdefghijklmnopqrstuvwxyz\" # all the letters\n",
    "    for letter in all_letters: # for all the letters in the letter string...\n",
    "        if not (letter in guessed_letters): # if it has not been guessed\n",
    "            letter_entropy = calculate_entropy(letter, word_length, word_list) # calculate it's entropy score\n",
    "\n",
    "            # TODO Here\n",
    "            # If the entropy score is better than the current best_entropy,\n",
    "            # update the best_entropy and set best_letter to the current letter\n",
    "            if letter_entropy >= best_entropy:\n",
    "                best_entropy = letter_entropy\n",
    "                best_letter = letter\n",
    "    return best_letter"
   ]
  },
  {
   "cell_type": "markdown",
   "id": "70c7a89d-f6dc-4021-a204-7a2ce09e87fd",
   "metadata": {},
   "source": [
    "Now that we have all the pieces we need, let's play hangman... optimally."
   ]
  },
  {
   "cell_type": "code",
   "execution_count": 36,
   "id": "5ea50544-c894-4a0e-af0a-add1d64fcb3c",
   "metadata": {},
   "outputs": [
    {
     "name": "stdout",
     "output_type": "stream",
     "text": [
      "Your random word is: sorry\n"
     ]
    }
   ],
   "source": [
    "random_word = random.choice(word_list) # random.choice chooses something random from the word list\n",
    "print(f\"Your random word is: {random_word}\")"
   ]
  },
  {
   "cell_type": "code",
   "execution_count": 54,
   "id": "1d962402-43d1-4d96-ba58-1719fdcaab99",
   "metadata": {},
   "outputs": [],
   "source": [
    "random_word = 'car'"
   ]
  },
  {
   "cell_type": "code",
   "execution_count": 55,
   "id": "b120a05f-0c9f-42cd-9b86-164b12efe5a8",
   "metadata": {},
   "outputs": [],
   "source": [
    "guesses_used = 0 # The number of guesses used\n",
    "limit = 6 # The maximum number of guesses before you lose\n",
    "guessed = [] # The guessed number pile; a List\n",
    "display = ['_'] * len(random_word) # The letters to display; Initially a List of all [_]\n",
    "letters = list(random_word) # The actual letters of the word; will not be modified"
   ]
  },
  {
   "cell_type": "code",
   "execution_count": 56,
   "id": "07335daf-0fe0-4699-a515-5dbc203cbd62",
   "metadata": {},
   "outputs": [
    {
     "name": "stdout",
     "output_type": "stream",
     "text": [
      "The current revealed letters are: ['_', '_', '_']\n",
      "You have guessed the letters: []\n",
      "You have 6 guesses remaining.\n",
      "The computer has guessed a!\n",
      "Your guess is correct!\n",
      "\n",
      "\n",
      "\n",
      "\n",
      "\n",
      "\n",
      "\n",
      "__|__     \n",
      "\n",
      "The current revealed letters are: ['_', 'a', '_']\n",
      "You have guessed the letters: ['a']\n",
      "You have 6 guesses remaining.\n",
      "The computer has guessed p!\n",
      "Your guess is wrong.\n",
      "   _____ \n",
      "  |    \n",
      "  |    \n",
      "  |    \n",
      "  |    \n",
      "  |    \n",
      "  |    \n",
      "__|__     \n",
      "\n",
      "The current revealed letters are: ['_', 'a', '_']\n",
      "You have guessed the letters: ['a', 'p']\n",
      "You have 5 guesses remaining.\n",
      "The computer has guessed r!\n",
      "Your guess is correct!\n",
      "   _____ \n",
      "  |    \n",
      "  |    \n",
      "  |    \n",
      "  |    \n",
      "  |    \n",
      "  |    \n",
      "__|__     \n",
      "\n",
      "The current revealed letters are: ['_', 'a', 'r']\n",
      "You have guessed the letters: ['a', 'p', 'r']\n",
      "You have 5 guesses remaining.\n",
      "The computer has guessed w!\n",
      "Your guess is wrong.\n",
      "   _____ \n",
      "  |     |\n",
      "  |     |\n",
      "  |    \n",
      "  |    \n",
      "  |    \n",
      "  |    \n",
      "__|__     \n",
      "\n",
      "The current revealed letters are: ['_', 'a', 'r']\n",
      "You have guessed the letters: ['a', 'p', 'r', 'w']\n",
      "You have 4 guesses remaining.\n",
      "The computer has guessed o!\n",
      "Your guess is wrong.\n",
      "   _____ \n",
      "  |     |\n",
      "  |     |\n",
      "  |     |\n",
      "  |    \n",
      "  |    \n",
      "  |    \n",
      "__|__     \n",
      "\n",
      "The current revealed letters are: ['_', 'a', 'r']\n",
      "You have guessed the letters: ['a', 'p', 'r', 'w', 'o']\n",
      "You have 3 guesses remaining.\n",
      "The computer has guessed f!\n",
      "Your guess is wrong.\n",
      "   _____ \n",
      "  |     |\n",
      "  |     |\n",
      "  |     |\n",
      "  |     O\n",
      "  |    \n",
      "  |    \n",
      "__|__     \n",
      "\n",
      "The current revealed letters are: ['_', 'a', 'r']\n",
      "You have guessed the letters: ['a', 'p', 'r', 'w', 'o', 'f']\n",
      "You have 2 guesses remaining.\n",
      "The computer has guessed e!\n",
      "Your guess is wrong.\n",
      "   _____ \n",
      "  |     |\n",
      "  |     |\n",
      "  |     |\n",
      "  |     O\n",
      "  |    /|\\\n",
      "  |    \n",
      "__|__     \n",
      "\n",
      "The current revealed letters are: ['_', 'a', 'r']\n",
      "You have guessed the letters: ['a', 'p', 'r', 'w', 'o', 'f', 'e']\n",
      "You have 1 guesses remaining.\n",
      "The computer has guessed c!\n",
      "Your guess is correct!\n",
      "   _____ \n",
      "  |     |\n",
      "  |     |\n",
      "  |     |\n",
      "  |     O\n",
      "  |    /|\\\n",
      "  |    \n",
      "__|__     \n",
      "\n",
      "The word is car. Good job!\n"
     ]
    }
   ],
   "source": [
    "won = False # Indicates whether we have won \n",
    "current_word_list = [p for p in word_list if len(p) == len(random_word)] # the list we use every guessing round\n",
    "## TODO HERE\n",
    "# While the guesses_used is less than the limit *and* we have not won yet...\n",
    "while guesses_used < limit and not won:\n",
    "    # clear_output(wait=True) # clear the screen\n",
    "    print(f\"The current revealed letters are: {display}\\nYou have guessed the letters: {guessed}\")\n",
    "    print(f\"You have {limit - guesses_used} guesses remaining.\") # print message for user to know how many guesses they have left \n",
    "    user_guess = get_optimal_guess(guessed, len(random_word), current_word_list) # Get the valid user guess\n",
    "    print(f\"The computer has guessed {user_guess}!\")\n",
    "    guess_result = handle_guess(user_guess, random_word, display, guessed) # Handle the guess\n",
    "    if not guess_result: # If the guess is wrong, then...\n",
    "        guesses_used = guesses_used + 1 # Add 1 to the guesses_used\n",
    "    # Filter away all words which don't fit the current pattern\n",
    "    working_list = current_word_list[:]\n",
    "    for word in current_word_list:\n",
    "        if not matches(user_guess, display, word): # if it does not match?\n",
    "            working_list.remove(word)\n",
    "    current_word_list = working_list[:]\n",
    "    draw(guesses_used)\n",
    "    if display == letters: # if we have revealed every single letter, then\n",
    "        won = True\n",
    "\n",
    "# clear_output(wait=True)\n",
    "if not won: # If we exit but have not won, that means we lost\n",
    "    print(f\"You have ran out of guesses. The word is {random_word}. Better luck next time!\")\n",
    "else:\n",
    "    print(f\"The word is {random_word}. Good job!\")"
   ]
  },
  {
   "cell_type": "markdown",
   "id": "47b6cf8b-856c-4e98-85c9-5ee7fe775291",
   "metadata": {},
   "source": [
    "Congrats on finishing this part! Hopefully you've learnt something new today."
   ]
  },
  {
   "cell_type": "markdown",
   "id": "460b6e22-e880-4c5b-8a15-5e1735a6208c",
   "metadata": {},
   "source": [
    "## Statistical analysis (for the instructor):"
   ]
  },
  {
   "cell_type": "code",
   "execution_count": 53,
   "id": "3082a70c-6074-4578-a8c8-3b6ce6bb3bc2",
   "metadata": {},
   "outputs": [
    {
     "name": "stdout",
     "output_type": "stream",
     "text": [
      "Warning: Failed for axe, remaining words = ['act', 'aim', 'all'].\n"
     ]
    },
    {
     "ename": "KeyboardInterrupt",
     "evalue": "",
     "output_type": "error",
     "traceback": [
      "\u001b[0;31m---------------------------------------------------------------------------\u001b[0m",
      "\u001b[0;31mKeyboardInterrupt\u001b[0m                         Traceback (most recent call last)",
      "Cell \u001b[0;32mIn[53], line 19\u001b[0m\n\u001b[1;32m     15\u001b[0m \u001b[38;5;66;03m## TODO HERE\u001b[39;00m\n\u001b[1;32m     16\u001b[0m \u001b[38;5;66;03m# While the guesses_used is less than the limit *and* we have not won yet...\u001b[39;00m\n\u001b[1;32m     17\u001b[0m \u001b[38;5;28;01mwhile\u001b[39;00m guesses_used \u001b[38;5;241m<\u001b[39m limit \u001b[38;5;129;01mand\u001b[39;00m \u001b[38;5;129;01mnot\u001b[39;00m won:\n\u001b[1;32m     18\u001b[0m     \u001b[38;5;66;03m# clear_output(wait=True) # clear the screen\u001b[39;00m\n\u001b[0;32m---> 19\u001b[0m     user_guess \u001b[38;5;241m=\u001b[39m \u001b[43mget_optimal_guess\u001b[49m\u001b[43m(\u001b[49m\u001b[43mguessed\u001b[49m\u001b[43m,\u001b[49m\u001b[43m \u001b[49m\u001b[38;5;28;43mlen\u001b[39;49m\u001b[43m(\u001b[49m\u001b[43mrandom_word\u001b[49m\u001b[43m)\u001b[49m\u001b[43m,\u001b[49m\u001b[43m \u001b[49m\u001b[43mcurrent_word_list\u001b[49m\u001b[43m)\u001b[49m \u001b[38;5;66;03m# Get the valid user guess\u001b[39;00m\n\u001b[1;32m     20\u001b[0m     \u001b[38;5;28;01mwith\u001b[39;00m io\u001b[38;5;241m.\u001b[39mcapture_output() \u001b[38;5;28;01mas\u001b[39;00m captured:\n\u001b[1;32m     21\u001b[0m         guess_result \u001b[38;5;241m=\u001b[39m handle_guess(user_guess, random_word, display, guessed) \u001b[38;5;66;03m# Handle the guess\u001b[39;00m\n",
      "Cell \u001b[0;32mIn[35], line 14\u001b[0m, in \u001b[0;36mget_optimal_guess\u001b[0;34m(guessed_letters, word_length, word_list)\u001b[0m\n\u001b[1;32m     12\u001b[0m \u001b[38;5;28;01mfor\u001b[39;00m letter \u001b[38;5;129;01min\u001b[39;00m all_letters: \u001b[38;5;66;03m# for all the letters in the letter string...\u001b[39;00m\n\u001b[1;32m     13\u001b[0m     \u001b[38;5;28;01mif\u001b[39;00m \u001b[38;5;129;01mnot\u001b[39;00m (letter \u001b[38;5;129;01min\u001b[39;00m guessed_letters): \u001b[38;5;66;03m# if it has not been guessed\u001b[39;00m\n\u001b[0;32m---> 14\u001b[0m         letter_entropy \u001b[38;5;241m=\u001b[39m \u001b[43mcalculate_entropy\u001b[49m\u001b[43m(\u001b[49m\u001b[43mletter\u001b[49m\u001b[43m,\u001b[49m\u001b[43m \u001b[49m\u001b[43mword_length\u001b[49m\u001b[43m,\u001b[49m\u001b[43m \u001b[49m\u001b[43mword_list\u001b[49m\u001b[43m)\u001b[49m \u001b[38;5;66;03m# calculate it's entropy score\u001b[39;00m\n\u001b[1;32m     16\u001b[0m         \u001b[38;5;66;03m# TODO Here\u001b[39;00m\n\u001b[1;32m     17\u001b[0m         \u001b[38;5;66;03m# If the entropy score is better than the current best_entropy,\u001b[39;00m\n\u001b[1;32m     18\u001b[0m         \u001b[38;5;66;03m# update the best_entropy and set best_letter to the current letter\u001b[39;00m\n\u001b[1;32m     19\u001b[0m         \u001b[38;5;28;01mif\u001b[39;00m letter_entropy \u001b[38;5;241m>\u001b[39m\u001b[38;5;241m=\u001b[39m best_entropy:\n",
      "Cell \u001b[0;32mIn[33], line 8\u001b[0m, in \u001b[0;36mcalculate_entropy\u001b[0;34m(letter, word_length, word_list)\u001b[0m\n\u001b[1;32m      6\u001b[0m count \u001b[38;5;241m=\u001b[39m \u001b[38;5;241m0\u001b[39m \u001b[38;5;66;03m# counts the number of words matching this pattern\u001b[39;00m\n\u001b[1;32m      7\u001b[0m \u001b[38;5;28;01mfor\u001b[39;00m word \u001b[38;5;129;01min\u001b[39;00m word_list: \u001b[38;5;66;03m# for each word in the word list\u001b[39;00m\n\u001b[0;32m----> 8\u001b[0m     \u001b[38;5;28;01mif\u001b[39;00m \u001b[43mmatches\u001b[49m\u001b[43m(\u001b[49m\u001b[43mletter\u001b[49m\u001b[43m,\u001b[49m\u001b[43m \u001b[49m\u001b[43mpattern\u001b[49m\u001b[43m,\u001b[49m\u001b[43m \u001b[49m\u001b[43mword\u001b[49m\u001b[43m)\u001b[49m: \u001b[38;5;66;03m# check if it matches\u001b[39;00m\n\u001b[1;32m      9\u001b[0m         count \u001b[38;5;241m+\u001b[39m\u001b[38;5;241m=\u001b[39m \u001b[38;5;241m1\u001b[39m \u001b[38;5;66;03m# add 1 if matches\u001b[39;00m\n\u001b[1;32m     10\u001b[0m p \u001b[38;5;241m=\u001b[39m count \u001b[38;5;241m/\u001b[39m total_words \u001b[38;5;66;03m# calculate the p value\u001b[39;00m\n",
      "Cell \u001b[0;32mIn[32], line 18\u001b[0m, in \u001b[0;36mmatches\u001b[0;34m(pattern_letter, pattern, word)\u001b[0m\n\u001b[1;32m     14\u001b[0m         letter_to_avoid\u001b[38;5;241m.\u001b[39mappend(letter)\n\u001b[1;32m     15\u001b[0m \u001b[38;5;66;03m## TODO HERE:\u001b[39;00m\n\u001b[1;32m     16\u001b[0m \u001b[38;5;66;03m# for each i-th position in the word, do:\u001b[39;00m\n\u001b[1;32m     17\u001b[0m \u001b[38;5;66;03m# change the loop to loop from 0 to the length of the word\u001b[39;00m\n\u001b[0;32m---> 18\u001b[0m \u001b[38;5;28;01mfor\u001b[39;00m i \u001b[38;5;129;01min\u001b[39;00m \u001b[38;5;28mrange\u001b[39m(\u001b[38;5;28mlen\u001b[39m(word)):\n\u001b[1;32m     19\u001b[0m     \u001b[38;5;28;01mif\u001b[39;00m pattern[i] \u001b[38;5;241m==\u001b[39m \u001b[38;5;124m'\u001b[39m\u001b[38;5;124m_\u001b[39m\u001b[38;5;124m'\u001b[39m: \u001b[38;5;66;03m# `_` means you need to avoid all the letters in the List letter_to_avoid...\u001b[39;00m\n\u001b[1;32m     20\u001b[0m         \u001b[38;5;28;01mif\u001b[39;00m word[i] \u001b[38;5;129;01min\u001b[39;00m letter_to_avoid: \u001b[38;5;66;03m# if and the word's i-th letter is in letter_to_avoid, then...\u001b[39;00m\n",
      "\u001b[0;31mKeyboardInterrupt\u001b[0m: "
     ]
    }
   ],
   "source": [
    "from IPython.utils import io\n",
    "\n",
    "guesses_needed = []\n",
    "counter = 0\n",
    "word_list_len = len(word_list)\n",
    "for word in word_list:\n",
    "    random_word = word\n",
    "    guesses_used = 0 # The number of guesses used\n",
    "    limit = 6 # The maximum number of guesses before you lose\n",
    "    guessed = [] # The guessed number pile; a List\n",
    "    display = ['_'] * len(random_word) # The letters to display; Initially a List of all [_]\n",
    "    letters = list(random_word) # The actual letters of the word; will not be modified\n",
    "    won = False # Indicates whether we have won \n",
    "    current_word_list = [p for p in word_list if len(p) == len(random_word)] # the list we use every guessing round\n",
    "    ## TODO HERE\n",
    "    # While the guesses_used is less than the limit *and* we have not won yet...\n",
    "    while guesses_used < limit and not won:\n",
    "        # clear_output(wait=True) # clear the screen\n",
    "        user_guess = get_optimal_guess(guessed, len(random_word), current_word_list) # Get the valid user guess\n",
    "        with io.capture_output() as captured:\n",
    "            guess_result = handle_guess(user_guess, random_word, display, guessed) # Handle the guess\n",
    "        if not guess_result: # If the guess is wrong, then...\n",
    "            guesses_used = guesses_used + 1 # Add 1 to the guesses_used\n",
    "        # Filter away all words which don't fit the current pattern\n",
    "        working_list = current_word_list[:]\n",
    "        for word in current_word_list:\n",
    "            if not matches(user_guess, display, word): # if it does not match?\n",
    "                working_list.remove(word)\n",
    "        current_word_list = working_list[:]\n",
    "        if display == letters: # if we have revealed every single letter, then\n",
    "            won = True\n",
    "    if not won:\n",
    "        print(f\"Warning: Failed for {word}, remaining words = {current_word_list}.\")\n",
    "    guesses_needed.append(guesses_used)\n",
    "    # clear_output()\n",
    "    # print(f\"Guessed {word}, {counter} / {word_list_len}\")\n",
    "    counter += 1\n",
    "\n",
    "from collections import Counter\n",
    "print(Counter(guesses_needed))"
   ]
  },
  {
   "cell_type": "code",
   "execution_count": null,
   "id": "f594d5f2-8df6-499c-8444-79f732ab0eb1",
   "metadata": {},
   "outputs": [],
   "source": []
  }
 ],
 "metadata": {
  "kernelspec": {
   "display_name": "Python 3 (ipykernel)",
   "language": "python",
   "name": "python3"
  },
  "language_info": {
   "codemirror_mode": {
    "name": "ipython",
    "version": 3
   },
   "file_extension": ".py",
   "mimetype": "text/x-python",
   "name": "python",
   "nbconvert_exporter": "python",
   "pygments_lexer": "ipython3",
   "version": "3.11.8"
  }
 },
 "nbformat": 4,
 "nbformat_minor": 5
}
