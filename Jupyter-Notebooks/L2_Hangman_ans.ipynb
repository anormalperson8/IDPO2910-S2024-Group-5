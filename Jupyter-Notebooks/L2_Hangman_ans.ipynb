{
  "cells": [
    {
      "cell_type": "markdown",
      "id": "58334946-1a45-49b3-b6dc-a3dbff05e0b2",
      "metadata": {
        "id": "58334946-1a45-49b3-b6dc-a3dbff05e0b2"
      },
      "source": [
        "# Workshop Two - Hangman\n",
        "\n",
        "As a way to recap what we've learnt previously, let's make a version of the popular word guessing game Hangman."
      ]
    },
    {
      "cell_type": "markdown",
      "id": "e99e7eb6-4716-4eec-8fe3-0a3881bc0e03",
      "metadata": {
        "id": "e99e7eb6-4716-4eec-8fe3-0a3881bc0e03"
      },
      "source": [
        "## Task 0: Understanding the Logic\n",
        "Before we begin, let's break down how hangman works.\n",
        "\n",
        "1. User guesses a letter.\n",
        "2. Check if the letter has been guessed or not. If yes, return to 1.\n",
        "3. Check if the letter is in the word.\n",
        "    1. If true, reveal the letter in the word.\n",
        "    2. Otherwise, increase the number of guesses used.\n",
        "4. Add the letter to the guessed pile.\n",
        "5. If the user guessed all the letters or ran out of guesses, end the game. Otherwise, go back to 1.\n",
        "\n",
        "This is what we will be doing today, step by step."
      ]
    },
    {
      "cell_type": "markdown",
      "id": "5d937da7-148a-4613-a583-d2be5c437622",
      "metadata": {
        "id": "5d937da7-148a-4613-a583-d2be5c437622"
      },
      "source": [
        "## Displaying the Hangman Figure\n",
        "The first thing we have to do is to write a function to print out the hangman figure. Luckily, someone has written out the code for us already below:"
      ]
    },
    {
      "cell_type": "code",
      "execution_count": 5,
      "id": "527e3970-e822-4aad-a09f-dffa7840175c",
      "metadata": {
        "id": "527e3970-e822-4aad-a09f-dffa7840175c"
      },
      "outputs": [],
      "source": [
        "import time # For pausing the program\n",
        "from IPython.display import clear_output # For clearning the output\n",
        "import random # For generating random numbers and words\n",
        "from urllib.request import urlopen # A surprise tool that will help us later! (note that this is somewhat different syntax than our usual imports)\n",
        "import json # Another surpise tool! We somehow have more tools than what Mickey usually has."
      ]
    },
    {
      "cell_type": "code",
      "execution_count": 6,
      "id": "2733786c-83fd-4ac3-88ae-3f508eaf5ac1",
      "metadata": {
        "id": "2733786c-83fd-4ac3-88ae-3f508eaf5ac1"
      },
      "outputs": [],
      "source": [
        "def to_suffix(i): # Helper function to generate st, nd, rd, etc. Should work only for 1 to 9\n",
        "    if i == 1:\n",
        "        return \"st\"\n",
        "    elif i == 2:\n",
        "        return \"nd\"\n",
        "    elif i == 3:\n",
        "        return \"rd\"\n",
        "    else:\n",
        "        return \"th\""
      ]
    },
    {
      "cell_type": "code",
      "execution_count": null,
      "id": "ff4fc745-626b-450c-a525-bfa3046c703f",
      "metadata": {
        "editable": true,
        "tags": [],
        "id": "ff4fc745-626b-450c-a525-bfa3046c703f"
      },
      "outputs": [],
      "source": [
        "def draw(count):\n",
        "    if count == 0:\n",
        "        print('\\n\\n\\n\\n\\n\\n\\n_|_\\n')\n",
        "    elif count == 1:\n",
        "        print(\t'   _____ \\n'\n",
        "\t\t\t'  |      \\n'\n",
        "\t\t\t'  |      \\n'\n",
        "\t\t\t'  |      \\n'\n",
        "\t\t\t'  |      \\n'\n",
        "\t\t\t'  |      \\n'\n",
        "\t\t\t'  |      \\n'\n",
        "            '__|__    \\n')\n",
        "\n",
        "    elif count == 2:\n",
        "        print(\t'   _____  \\n'\n",
        "            '  |     | \\n'\n",
        "            '  |     | \\n'\n",
        "            '  |       \\n'\n",
        "            '  |       \\n'\n",
        "            '  |       \\n'\n",
        "            '  |       \\n'\n",
        "            '__|__     \\n')\n",
        "\n",
        "    elif count == 3:\n",
        "        print(  '   _____  \\n'\n",
        "            '  |     | \\n'\n",
        "            '  |     | \\n'\n",
        "            '  |     | \\n'\n",
        "            '  |       \\n'\n",
        "            '  |       \\n'\n",
        "            '  |       \\n'\n",
        "            '__|__     \\n')\n",
        "\n",
        "    elif count == 4:\n",
        "        print(\t'   _____  \\n'\n",
        "            '  |     | \\n'\n",
        "            '  |     | \\n'\n",
        "            '  |     | \\n'\n",
        "            '  |     O \\n'\n",
        "            '  |       \\n'\n",
        "            '  |       \\n'\n",
        "            '__|__     \\n')\n",
        "\n",
        "    elif count == 5:\n",
        "        print(\t'   _____   \\n'\n",
        "            '  |     |  \\n'\n",
        "            '  |     |  \\n'\n",
        "            '  |     |  \\n'\n",
        "            '  |     O  \\n'\n",
        "            '  |    /|\\ \\n'\n",
        "            '  |        \\n'\n",
        "            '__|__      \\n')\n",
        "\n",
        "    elif count == 6:\n",
        "        print(\t'   _____   \\n'\n",
        "            '  |     |  \\n'\n",
        "            '  |     |  \\n'\n",
        "            '  |     |  \\n'\n",
        "            '  |     O  \\n'\n",
        "            '  |    /|\\ \\n'\n",
        "            '  |    / \\ \\n'\n",
        "            '__|__      \\n')"
      ]
    },
    {
      "cell_type": "markdown",
      "id": "5da73131-bfed-4634-989b-897e79e91a0d",
      "metadata": {
        "editable": true,
        "tags": [],
        "id": "5da73131-bfed-4634-989b-897e79e91a0d"
      },
      "source": [
        "Let's see this in action."
      ]
    },
    {
      "cell_type": "code",
      "execution_count": null,
      "id": "c1da0d04-824a-4d77-8e93-8a14a299c7c3",
      "metadata": {
        "colab": {
          "base_uri": "https://localhost:8080/"
        },
        "id": "c1da0d04-824a-4d77-8e93-8a14a299c7c3",
        "outputId": "603be6ad-e0b2-449d-ab07-9f60b0c249ba"
      },
      "outputs": [
        {
          "output_type": "stream",
          "name": "stdout",
          "text": [
            "The 6th loop looks like this:\n",
            "   _____   \n",
            "  |     |  \n",
            "  |     |  \n",
            "  |     |  \n",
            "  |     O  \n",
            "  |    /|\\ \n",
            "  |    / \\ \n",
            "__|__      \n",
            "\n"
          ]
        }
      ],
      "source": [
        "for i in range(7): # From 0 to 6 (not to 7!) do..\n",
        "    print(f\"The {i}{to_suffix(i)} loop looks like this:\")\n",
        "    draw(i) # Use our function\n",
        "    time.sleep(1) # Pauses the program for one second\n",
        "    clear_output(wait=True) # Clears our output so we have an animation"
      ]
    },
    {
      "cell_type": "markdown",
      "id": "594442cc-9211-4b03-bbca-cd68fb119eb7",
      "metadata": {
        "id": "594442cc-9211-4b03-bbca-cd68fb119eb7"
      },
      "source": [
        "## Bonus: Simplify the `draw()` Function\n",
        "The code above definitely works, but the code seems clunky. Can we modify this to not repeat ourselves that much?\n",
        "\n",
        "Try to complete the following function without changing how the code works.\n",
        "\n",
        "Replace all the `None`s with the appropriate conditional.\n",
        "\n",
        "Here, `drawing_number` corresponds to which hangman shape to draw."
      ]
    },
    {
      "cell_type": "code",
      "execution_count": 8,
      "id": "b8aafcc2-3228-4247-9983-58bc02ae40d7",
      "metadata": {
        "id": "b8aafcc2-3228-4247-9983-58bc02ae40d7"
      },
      "outputs": [],
      "source": [
        "def draw(drawing_number):\n",
        "\n",
        "    # First line of output (the ____)\n",
        "    if drawing_number > 0:\n",
        "        print('   _____ ') # If drawining number > 0, then...\n",
        "\n",
        "        # There are 6 lines that need to be output each time, corresponding to each |\n",
        "        # Make a loop which runs 6 times here by replacing the [] in the for loop\n",
        "        # Hint: use range()\n",
        "        for line_number in range(6):\n",
        "            print('  |    ', end='') # We print the basic | on the left first, and with 4 spaces (we also use the end='' to prevent an extra enter\n",
        "\n",
        "            # If drawing number > 1 and the line number == 0 or == 1, then...\n",
        "            if drawing_number > 1 and (line_number == 0 or line_number == 1):\n",
        "                print(' |')\n",
        "            elif drawing_number > 2 and line_number == 2: # If drawing number > 2 and the line number == 2, then...\n",
        "                print(' |')\n",
        "            elif drawing_number > 3 and line_number == 3: # If drawing number > 3 and the line number == 3, then...\n",
        "                print(' O')\n",
        "            elif drawing_number > 4 and line_number == 4: # If drawing number > 4 and the line number == 4, then...\n",
        "                print('/|\\\\') # Note that we use \\\\ to represent 1 \\ only in a string\n",
        "            elif drawing_number > 5 and line_number == 5: # If drawing number > 5 and the line number == 5, then...\n",
        "                print('/ \\\\')\n",
        "            else: # We still need to input an enter to make it go to the next line\n",
        "                print()\n",
        "    else:\n",
        "        print(\"\\n\\n\\n\\n\\n\\n\") # To make sure we actually print the empty space even if we have 6 guesses left\n",
        "    print('__|__     \\n') # The floor of the frame, needed every time"
      ]
    },
    {
      "cell_type": "markdown",
      "id": "6464ac38-6b6d-4d4a-8b1e-b2b063efaf0d",
      "metadata": {
        "id": "6464ac38-6b6d-4d4a-8b1e-b2b063efaf0d"
      },
      "source": [
        "## Test: Does your code work?\n",
        "Test if your output is identical to the one above by running this block."
      ]
    },
    {
      "cell_type": "code",
      "execution_count": 9,
      "id": "12285e97-07b4-4756-a5f7-5d78f6f87bdc",
      "metadata": {
        "id": "12285e97-07b4-4756-a5f7-5d78f6f87bdc",
        "outputId": "05f13947-cb0b-4fc2-a317-f34f9f43e01a",
        "colab": {
          "base_uri": "https://localhost:8080/"
        }
      },
      "outputs": [
        {
          "output_type": "stream",
          "name": "stdout",
          "text": [
            "The 6th loop looks like this:\n",
            "   _____ \n",
            "  |     |\n",
            "  |     |\n",
            "  |     |\n",
            "  |     O\n",
            "  |    /|\\\n",
            "  |    / \\\n",
            "__|__     \n",
            "\n"
          ]
        }
      ],
      "source": [
        "for i in range(0, 7): # From 0 to 6 (not to 7!) do..\n",
        "    print(f\"The {i}{to_suffix(i)} loop looks like this:\")\n",
        "    draw(i) #Uuse our function\n",
        "    time.sleep(1) # Pauses the program for one second\n",
        "    clear_output(wait=True) # Clears our output so we have an animation"
      ]
    },
    {
      "cell_type": "markdown",
      "id": "3ba7e693-ae53-4369-ac40-c5866ff2bef0",
      "metadata": {
        "id": "3ba7e693-ae53-4369-ac40-c5866ff2bef0"
      },
      "source": [
        "## Generating Random Words\n",
        "As we established last time, generating random stuff is *hard* even for programmers. This goes double for generating words that make sense.\n",
        "\n",
        "Since Python does not have a built-in way to do this, we use our surprise tool (`urllib`) to grab a word list from the web.\n",
        "\n",
        "The list is [here](https://github.com/bevacqua/correcthorse/blob/master/wordlist.json), and is actually inspired by [this XKCD](http://xkcd.com/936/).\n",
        "\n",
        "Note: Please don't run this block (the one with `urlopen`) too much - you are using someone else's resources each time you run this."
      ]
    },
    {
      "cell_type": "code",
      "execution_count": 10,
      "id": "4a706478-8b8f-46be-a98a-23bba9e9a89f",
      "metadata": {
        "id": "4a706478-8b8f-46be-a98a-23bba9e9a89f"
      },
      "outputs": [],
      "source": [
        "words_json = urlopen(\"https://raw.githubusercontent.com/bevacqua/correcthorse/master/wordlist.json\").read() # Reads the word list"
      ]
    },
    {
      "cell_type": "code",
      "execution_count": 11,
      "id": "b62261ba-30e3-43a2-963a-7e80130ec59e",
      "metadata": {
        "id": "b62261ba-30e3-43a2-963a-7e80130ec59e"
      },
      "outputs": [],
      "source": [
        "word_list = json.loads(words_json) # Turns the words into a list"
      ]
    },
    {
      "cell_type": "markdown",
      "id": "7883e2e4-3686-4627-b39c-965c834c4f02",
      "metadata": {
        "id": "7883e2e4-3686-4627-b39c-965c834c4f02"
      },
      "source": [
        "Let's generate a random word by using our good friend `random` again.\n",
        "\n",
        "You can run this block however many times you want to get a new random word."
      ]
    },
    {
      "cell_type": "code",
      "execution_count": 12,
      "id": "9ef61415-ee4c-4162-af8f-023bcc7bf946",
      "metadata": {
        "colab": {
          "base_uri": "https://localhost:8080/"
        },
        "id": "9ef61415-ee4c-4162-af8f-023bcc7bf946",
        "outputId": "5f27dc1f-9fb3-4abc-e79a-9878f589b05a"
      },
      "outputs": [
        {
          "output_type": "stream",
          "name": "stdout",
          "text": [
            "Your random word is: deceit\n"
          ]
        }
      ],
      "source": [
        "random_word = random.choice(word_list) # random.choice chooses something random from the word list\n",
        "print(f\"Your random word is: {random_word}\")"
      ]
    },
    {
      "cell_type": "markdown",
      "id": "1f2302e8-86d7-471e-83bf-96f5e87987cf",
      "metadata": {
        "id": "1f2302e8-86d7-471e-83bf-96f5e87987cf"
      },
      "source": [
        "## Task 1: Making Sure the Input is Valid\n",
        "Before we begin, let's define all the variables we will use.\n",
        "\n",
        "You can re-run this block to reset all the variables to their defaults."
      ]
    },
    {
      "cell_type": "code",
      "execution_count": 13,
      "id": "93337f06-a40a-4d10-844f-aa9b17dd1f3d",
      "metadata": {
        "id": "93337f06-a40a-4d10-844f-aa9b17dd1f3d"
      },
      "outputs": [],
      "source": [
        "guesses_used = 0 # The number of guesses used\n",
        "limit = 6 # The maximum number of guesses before you lose\n",
        "guessed = [] # The guessed number pile; a List\n",
        "display = [] # Initially, an empty list. This is used to hold the letters to display\n",
        "for i in range(len(random_word)):\n",
        "    display.append('_')\n",
        "letters = list(random_word) # The actual letters of the word; will not be modified"
      ]
    },
    {
      "cell_type": "markdown",
      "id": "46225a38-503b-4767-bbfc-805b8089db21",
      "metadata": {
        "id": "46225a38-503b-4767-bbfc-805b8089db21"
      },
      "source": [
        "First, we write a function to continuously prompt the user to input until they input something valid:"
      ]
    },
    {
      "cell_type": "code",
      "execution_count": 14,
      "id": "df13718f-05e4-4866-a52a-62e4a4d375a5",
      "metadata": {
        "id": "df13718f-05e4-4866-a52a-62e4a4d375a5"
      },
      "outputs": [],
      "source": [
        "# guessed is the List of guessed letters, in no particular order\n",
        "def get_guess(guessed):\n",
        "    user_input = \"\" # Initialize user_input to empty\n",
        "    input_ok = False # Set this to true if the input is something we want\n",
        "    ## TODO HERE\n",
        "    while not input_ok: # While the input is NOT ok (replace None with the correct answer)\n",
        "        user_input = input(\"Please enter a letter: \") # ask user for input\n",
        "        # This is a pretty complex conditonal, so it is given\n",
        "        if (len(user_input) == 1) and user_input[0].isalpha(): # if the input length is 1, and the first letter is a character\n",
        "            ## TODO HERE\n",
        "            # If the user input has not been guessed already...\n",
        "            # Replace the None here with the appropriate condition\n",
        "            # Hint: How do you check if something is not in the list?\n",
        "            if user_input not in guessed:\n",
        "                input_ok = True # Input is OK, so we make the loop exit\n",
        "            else: # Input has already been guessed\n",
        "                print(\"The input has already been guessed! Please try again.\")\n",
        "        else: # Input invalid, length != 1 or first letter not character\n",
        "            print(\"The input is invalid. Please try again.\")\n",
        "    return user_input # Give the user_input back"
      ]
    },
    {
      "cell_type": "markdown",
      "id": "699613a8-64aa-43e4-8114-750a01fc6ee4",
      "metadata": {
        "id": "699613a8-64aa-43e4-8114-750a01fc6ee4"
      },
      "source": [
        "## Test: Does your code work?\n",
        "Run the block below and test your code with different inputs!\n",
        "\n",
        "(For the sake of testing, we set `a, e, i, o, u` to be guessed letters.)\n",
        "\n",
        "Your code should prevent the user from inputting guessed letters or invalid inputs."
      ]
    },
    {
      "cell_type": "code",
      "execution_count": 15,
      "id": "65920865-1ec3-4b05-b0e2-f20ff90b80f9",
      "metadata": {
        "id": "65920865-1ec3-4b05-b0e2-f20ff90b80f9",
        "outputId": "1cb10f04-5c13-422c-e769-1607a714c4e4",
        "colab": {
          "base_uri": "https://localhost:8080/"
        }
      },
      "outputs": [
        {
          "output_type": "stream",
          "name": "stdout",
          "text": [
            "Please enter a letter: a\n",
            "The input has already been guessed! Please try again.\n",
            "Please enter a letter: e\n",
            "The input has already been guessed! Please try again.\n",
            "Please enter a letter: p\n",
            "The guess p is valid!\n"
          ]
        }
      ],
      "source": [
        "guessed = ['a', 'e', 'i', 'o', 'u'] # Let's temporarily make [a, e, i, o, u] guessed letters...\n",
        "print(f\"The guess {get_guess(guessed)} is valid!\")\n",
        "guessed = [] # Reset the guessed list"
      ]
    },
    {
      "cell_type": "markdown",
      "id": "325b44bb-58e7-4ea5-ac97-9f8b953a8c9c",
      "metadata": {
        "id": "325b44bb-58e7-4ea5-ac97-9f8b953a8c9c"
      },
      "source": [
        "## Task 2: Updating the Game State\n",
        "Complete the function below to simulate what happens when a letter is guessed.\n",
        "\n",
        "Please replace all the `None`s with the correct condition."
      ]
    },
    {
      "cell_type": "code",
      "execution_count": 16,
      "id": "d4456c41-be18-4f19-80a3-7fc70c9d0f75",
      "metadata": {
        "id": "d4456c41-be18-4f19-80a3-7fc70c9d0f75"
      },
      "outputs": [],
      "source": [
        "# Here, user_guess is the (valid) guess of the user\n",
        "# letters is our random word, as a List.\n",
        "# display is the List of letters to display (think [`_`, `_`, `a`])\n",
        "# guessed is the List of guessed letters, in no particular order\n",
        "def handle_guess(user_guess, letters, display, guessed):\n",
        "    is_guess_correct = True # We set this to True in the beginning and reset it to false later if the user's guess is wrong\n",
        "    # First, we add the guess to the guessed list\n",
        "    # Add a line of code to add things to the list\n",
        "    ### TODO: REPLACE ME\n",
        "    guessed.append(user_guess)\n",
        "    # Then, we check if the guess is actually in our word\n",
        "    if user_guess in letters:\n",
        "\n",
        "        # We loop over all the letters in the word\n",
        "        # You have to replace the 0 with the length of the word list\n",
        "        # i here is used to access the corresponding letter in the guessed and display lists\n",
        "        # TODO: Fill this in to loop over every letter\n",
        "        for i in range(len(letters)):\n",
        "            # TODO: Fill this line in to check if the i-th letter is equal to our guess\n",
        "            if letters[i] == user_guess: # If the i-th letter is equal to our guess\n",
        "                display[i] = user_guess # Then the display list should be updated\n",
        "        print(\"Your guess is correct!\")\n",
        "    else:\n",
        "        print(\"Your guess is wrong.\")\n",
        "        is_guess_correct = False # Wrong guess, so we set the guess back to False\n",
        "    return is_guess_correct # Notify the user of the function if our guess is correct or not"
      ]
    },
    {
      "cell_type": "markdown",
      "id": "ff5c8719-0055-41e9-9ea9-65ea3b8a501b",
      "metadata": {
        "id": "ff5c8719-0055-41e9-9ea9-65ea3b8a501b"
      },
      "source": [
        "## Test: Does your Code Work?\n",
        "Play with the code block below to test your code\n",
        "\n",
        "Check for a few things:\n",
        "1. Display contains the letters you supplied, if any;\n",
        "2. Guess has no duplicate letters;\n",
        "3. Guesses used should not be increased if your guess is right."
      ]
    },
    {
      "cell_type": "code",
      "execution_count": 17,
      "id": "cd921980-22f8-4665-a9ac-7f082d285ce3",
      "metadata": {
        "colab": {
          "base_uri": "https://localhost:8080/"
        },
        "id": "cd921980-22f8-4665-a9ac-7f082d285ce3",
        "outputId": "3efe7330-228a-4ef5-dc88-dc1f44497b3f"
      },
      "outputs": [
        {
          "output_type": "stream",
          "name": "stdout",
          "text": [
            "Please enter a letter: h\n",
            "Your guess is correct!\n",
            "guessed = ['h'], display = ['h', '_', '_', '_', '_'], guesses_used = 0\n"
          ]
        }
      ],
      "source": [
        "random_word_copy = random_word # Copy our random word above\n",
        "\n",
        "# Reinitialize the word-related variables\n",
        "random_word = \"happy\"\n",
        "guessed = []\n",
        "display = ['_'] * len(random_word)\n",
        "letters = list(random_word)\n",
        "\n",
        "# The actual test\n",
        "guess_result = handle_guess(get_guess(guessed), letters, display, guessed)\n",
        "if not guess_result: # If the guess_result is not right, then\n",
        "    guesses_used += 1 # Add 1 to guesses_used\n",
        "\n",
        "print(f\"guessed = {guessed}, display = {display}, guesses_used = {guesses_used}\")"
      ]
    },
    {
      "cell_type": "markdown",
      "id": "9fe5326a-22c4-4dad-8c4e-72b7db06461d",
      "metadata": {
        "id": "9fe5326a-22c4-4dad-8c4e-72b7db06461d"
      },
      "source": [
        "Run the block below to reset everything."
      ]
    },
    {
      "cell_type": "code",
      "execution_count": 18,
      "id": "4f9862ca-1176-4aed-b3c2-742568c92c7b",
      "metadata": {
        "id": "4f9862ca-1176-4aed-b3c2-742568c92c7b"
      },
      "outputs": [],
      "source": [
        "# Reset the variables to the pre-test state\n",
        "random_word = random_word_copy\n",
        "guessed = []\n",
        "display = ['_'] * len(random_word)\n",
        "letters = list(random_word)\n",
        "guesses_used = 0"
      ]
    },
    {
      "cell_type": "markdown",
      "id": "d2a9b46d-161d-4306-ae57-64b2fc6ce484",
      "metadata": {
        "id": "d2a9b46d-161d-4306-ae57-64b2fc6ce484"
      },
      "source": [
        "## Task 3: Putting It All Together\n",
        "Let's add everything together to complete our Hangman game."
      ]
    },
    {
      "cell_type": "code",
      "execution_count": 19,
      "id": "30c9e77c-18e9-4298-83b0-efe1196333d2",
      "metadata": {
        "editable": true,
        "tags": [],
        "colab": {
          "base_uri": "https://localhost:8080/"
        },
        "id": "30c9e77c-18e9-4298-83b0-efe1196333d2",
        "outputId": "3421b23c-aa44-4774-8b1a-257ff1392a41"
      },
      "outputs": [
        {
          "output_type": "stream",
          "name": "stdout",
          "text": [
            "The word is deceit. Good job!\n"
          ]
        }
      ],
      "source": [
        "won = False # Indicates whether we have won\n",
        "## TODO HERE\n",
        "# While the guesses_used is less than the limit *and* we have not won yet...\n",
        "while (guesses_used < limit) and not won:\n",
        "    clear_output(wait=False) # Clear the screen\n",
        "    draw(guesses_used)\n",
        "    print(f\"The current revealed letters are: {display}\\nYou have guessed the letters: {guessed}\")\n",
        "    print(f\"You have {limit - guesses_used} guesses remaining.\") # Print message for user to know how many guesses they have left\n",
        "    user_guess = get_guess(guessed) # Get the valid user guess\n",
        "    guess_result = handle_guess(user_guess, letters, display, guessed) # Handle the guess\n",
        "    if not guess_result: # If the guess is wrong, then...\n",
        "        guesses_used = guesses_used + 1 # Add 1 to the guesses_used\n",
        "    draw(guesses_used) # Draw the hangman picture\n",
        "    if display == letters: # If we have revealed every single letter, then\n",
        "        won = True\n",
        "\n",
        "if not won: # If we exit but have not won, that means we lost\n",
        "    print(f\"You have ran out of guesses. The word is {random_word}. Better luck next time!\")\n",
        "else:\n",
        "    clear_output(wait=True)\n",
        "    print(f\"The word is {random_word}. Good job!\")"
      ]
    },
    {
      "cell_type": "markdown",
      "id": "e8d9edec-5cc3-476c-9ad5-0ef31a47afcc",
      "metadata": {
        "id": "e8d9edec-5cc3-476c-9ad5-0ef31a47afcc"
      },
      "source": [
        "## Bonus: Entropy-Based Hangman Solver\n",
        "This is **very hard**. Please only attempt this if you are confident in your mathematics (specifically probability and logarithms)."
      ]
    },
    {
      "cell_type": "markdown",
      "id": "7ce7aadc-27da-4355-9e93-4ce66a75cdf0",
      "metadata": {
        "id": "7ce7aadc-27da-4355-9e93-4ce66a75cdf0"
      },
      "source": [
        "## More Math Revision: Exponents and Logarithms\n",
        "\n",
        "**In general, you can treat logarithms as \"black boxes\" here. You don't need to understand all of this block if you only treat logarithms as something which takes an input and gives you another number as the output.**"
      ]
    },
    {
      "cell_type": "markdown",
      "id": "b24f578d-6452-41cf-991a-38c078297240",
      "metadata": {
        "id": "b24f578d-6452-41cf-991a-38c078297240"
      },
      "source": [
        "You should have learnt **exponentiation** before. It is basically $a^b$, and we call $a$ the **base** and $b$ the **exponent**.\n",
        "\n",
        "Exponents are a good way to represent repeated multiplication if the exponent is an integer. Here, we might have to work with non-integer exponents, but they function the same way.\n",
        "\n",
        "What you may not have learnt before are **logarithms**. Logarithms are the opposite of exponentiation, same as division being the opposite of multiplication.\n",
        "\n",
        "Given the base, you can recover the exponent of a number.\n",
        "\n",
        "Logarithms are represented by $log_b(a)$, where $b$ is the base that you want.\n",
        "\n",
        "An example can be found below:\n",
        "\n",
        "$2^3 = 8$. Therefore, $log_2(8) = 3$."
      ]
    },
    {
      "cell_type": "markdown",
      "id": "015227b6-b5bf-4e90-b520-eeaa4bc90c65",
      "metadata": {
        "id": "015227b6-b5bf-4e90-b520-eeaa4bc90c65"
      },
      "source": [
        "## Information: How to Make an Optimal Guess?\n",
        "Last time, we used binary search in order to cut our problems into half. Since we're only working with a limited range of numbers, that was easy.\n",
        "\n",
        "However, the situation is much more complex for Hangman. We have to figure out which of the 26 letters to guess, which isn't very easy.\n",
        "\n",
        "Intuitively, at each point of the game we want to guess the best letter which eliminates the greatest number of possibilities.\n",
        "\n",
        "We measure the ability of a guess to eliminate possibilities by its **entropy** $H$. The higher the entropy, the more powerful the guess is for reducing the number of possibilities.\n",
        "\n",
        "$H$ in our case is the sum of all the possible $-p \\log_2(p)$, where $p$ is basically the probability of each possible outcome given a word list."
      ]
    },
    {
      "cell_type": "markdown",
      "id": "38499d40-6e78-4e68-8b5d-a42c386f738a",
      "metadata": {
        "id": "38499d40-6e78-4e68-8b5d-a42c386f738a"
      },
      "source": [
        "## Example: What is the $H$ of a guess?\n",
        "This is pretty vague, so let's illustrate this with an example.\n",
        "\n",
        "Consider a word with three letters (`_`, `_`, `_`), and we have the words `[aca, bcc, fad, ara]`.\n",
        "\n",
        "Let's guess `a`.\n",
        "\n",
        "The list of possible outcomes for this guess is then:\n",
        "- `_`, `_`, `_`;\n",
        "- `a`, `_`, `_`;\n",
        "- `_`, `a`, `_`;\n",
        "- `_`, `_`, `a`;\n",
        "- `a`, `a`, `_`;\n",
        "- `_`, `a`, `a`;\n",
        "- `a`, `_`, `a`; and\n",
        "- `a`, `a`, `a`.\n",
        "\n",
        "We call each outcome a *pattern*.\n",
        "\n",
        "To find the probability of each outcome, we simply find the number of words matching this pattern and divide it by the total number of words.\n",
        "\n",
        "Then the probabilities of each of these outcomes can be calculated like this:\n",
        "\n",
        "| Pattern     | Number of words matching | Probability $p$ |\n",
        "|------------ | ------------------------ | --------------- |\n",
        "| `_`, `_`, `_` | 1 (bcc)                | 0.25 (1/4)      |\n",
        "| `a`, `_`, `_` | 0                      | 0               |\n",
        "| `_`, `a`, `_` | 1 (fad)                | 0.25 (1/4)      |\n",
        "| `_`, `_`, `a` | 0                      | 0               |\n",
        "| `a`, `a`, `_` | 0                      | 0               |\n",
        "| `_`, `a`, `a` | 0                      | 0               |\n",
        "| `a`, `_`, `a` | 2 (aca, ara)           | 0.5 (2/4)       |\n",
        "|  `a`, `a`, `a`| 0                      | 0               |\n",
        "\n",
        "Then the entropy of guessing `a` is $H = -0.25 \\log_2(0.25) + -0.25 \\log_2(0.25) + -0.5 \\log_2(0.5) = 1.5$.\n",
        "\n",
        "How do we use this fact?"
      ]
    },
    {
      "cell_type": "markdown",
      "id": "7feeb4df-5385-4ac1-afef-2f50f0ffd0cf",
      "metadata": {
        "id": "7feeb4df-5385-4ac1-afef-2f50f0ffd0cf"
      },
      "source": [
        "## Using Entropy to Make Guesses\n",
        "Now that we know what entropy is, we can use this to make optimal guesses.\n",
        "\n",
        "1. For each remaining letter:\n",
        "    1. Calculate the entropy of guessing that letter.\n",
        "2. Get the letter with maximum entropy and use that as our guess.\n",
        "3. The guess should give us a new pattern. Remove all words not matching that pattern.\n",
        "\n",
        "Since this is pretty complex to write on your own, I'll be giving you most of the functions you need."
      ]
    },
    {
      "cell_type": "code",
      "execution_count": 24,
      "id": "230eb05b-4cef-464a-b2f5-6f155d0fd28e",
      "metadata": {
        "id": "230eb05b-4cef-464a-b2f5-6f155d0fd28e"
      },
      "outputs": [],
      "source": [
        "import math # We'll be using this a lot\n",
        "from itertools import product # You don't need to care about this, nor should you"
      ]
    },
    {
      "cell_type": "code",
      "execution_count": 23,
      "id": "08e771dd-d608-4860-a0aa-634ed5e7d43a",
      "metadata": {
        "id": "08e771dd-d608-4860-a0aa-634ed5e7d43a"
      },
      "outputs": [],
      "source": [
        "# Generates all the patterns which can result from a guess.\n",
        "# Uses _ to represent \"not the letter provided\", and the letter to represent the letter itself\n",
        "# For example, the output for the example above would be:\n",
        "# [[`_`, `_`, `_`], [`a`, `_`, `_`], [`_`, `a`, `_`],\n",
        "#  [`_`, `_`, `a`], [`a`, `a`, `_`], [`_`, `a`, `a`],\n",
        "# `[a`, `_`, `a`],  [`a`, `a`, `a`]]\n",
        "def generate_pattern(letter, word_length):\n",
        "    return [[*p] for p in product(f'_{letter}', repeat=word_length)] # don't question it"
      ]
    },
    {
      "cell_type": "code",
      "execution_count": 28,
      "id": "e4fccabf-fac7-4ed7-8b30-46f4c8ef5bbe",
      "metadata": {
        "id": "e4fccabf-fac7-4ed7-8b30-46f4c8ef5bbe"
      },
      "outputs": [],
      "source": [
        "# Checks if a word matches the letter (pattern and word are both lists).\n",
        "# pattern are lists like ['_', '_', 'a'], and words are lists like ['a', 'b', 'a']\n",
        "# The \"pattern letter\" is equal to the current letter being guessed\n",
        "def matches(pattern_letter, pattern, word):\n",
        "    if len(pattern) != len(word): # If the pattern is not of the same length as the word\n",
        "        return False\n",
        "\n",
        "    # Since `_` means you need to avoid the current letter (pattern_letter) as well as all letters\n",
        "    # in the pattern string itself, we need to count all the letters to avoid.\n",
        "    # The loop below counts all the letters which are in the pattern\n",
        "    letter_to_avoid = [pattern_letter]\n",
        "    for letter in pattern:\n",
        "        if letter != '_' and letter not in letter_to_avoid:\n",
        "            letter_to_avoid.append(letter)\n",
        "    ## TODO HERE:\n",
        "    # For each i-th position in the word, do:\n",
        "    # Change the loop to loop from 0 to the length of the word\n",
        "    for i in range(len(word)):\n",
        "        if pattern[i] == '_': # `_` means you need to avoid all the letters in the List letter_to_avoid...\n",
        "            if word[i] in letter_to_avoid: # If and the word's i-th letter is in letter_to_avoid, then...\n",
        "                return False\n",
        "        else: # We know that pattern[i] must be a letter\n",
        "            if word[i] != pattern[i]: # If the word's letter is not equal to the pattern's i-th letter, then...\n",
        "                return False\n",
        "    return True"
      ]
    },
    {
      "cell_type": "code",
      "execution_count": 21,
      "id": "dbf5e394-3db3-431f-a01b-05cbaa18705c",
      "metadata": {
        "id": "dbf5e394-3db3-431f-a01b-05cbaa18705c"
      },
      "outputs": [],
      "source": [
        "# Generate the entropy of guessing a letter\n",
        "def calculate_entropy(letter, word_length, word_list):\n",
        "    total_words = len(word_list) # Total words left in the word list\n",
        "    total_entropy = 0 # Total entropy to be calculated\n",
        "    for pattern in generate_pattern(letter, word_length): # For each generated pattern...\n",
        "        count = 0 # Counts the number of words matching this pattern\n",
        "        for word in word_list: # For each word in the word list\n",
        "            if matches(letter, pattern, word): # Check if it matches\n",
        "                count += 1 # Add 1 if matches\n",
        "        p = count / total_words # Calculate the p value\n",
        "        if p != 0.0: # If p is not negative\n",
        "            total_entropy += - p * math.log(p) / math.log(2) # Add to total entropy\n",
        "    return total_entropy"
      ]
    },
    {
      "cell_type": "code",
      "execution_count": 20,
      "id": "6e07cc81-f910-4daa-af80-7f692483051c",
      "metadata": {
        "id": "6e07cc81-f910-4daa-af80-7f692483051c"
      },
      "outputs": [],
      "source": [
        "# Generates the optimal guess\n",
        "def get_optimal_guess(guessed_letters, word_length, word_list):\n",
        "    if len(word_list) == 1:\n",
        "        for letter in word_list[0]:\n",
        "            if letter not in guessed_letters:\n",
        "                return letter\n",
        "    # Loops over all the unguessed letters and gets the letter with the maximum\n",
        "    # associated entropy\n",
        "    best_letter = \"!\" # The best letter to guess\n",
        "    best_entropy = -1 # The best entropy score calculated for this letter\n",
        "    all_letters = \"abcdefghijklmnopqrstuvwxyz\" # All the letters\n",
        "    for letter in all_letters: # For all the letters in the letter string...\n",
        "        if not (letter in guessed_letters): # If it has not been guessed\n",
        "            letter_entropy = calculate_entropy(letter, word_length, word_list) # Calculate it's entropy score\n",
        "\n",
        "            # TODO Here\n",
        "            # If the entropy score is better than the current best_entropy,\n",
        "            # update the best_entropy and set best_letter to the current letter\n",
        "            if letter_entropy > best_entropy:\n",
        "              best_entropy = letter_entropy\n",
        "              best_letter = letter\n",
        "    return best_letter"
      ]
    },
    {
      "cell_type": "markdown",
      "id": "70c7a89d-f6dc-4021-a204-7a2ce09e87fd",
      "metadata": {
        "id": "70c7a89d-f6dc-4021-a204-7a2ce09e87fd"
      },
      "source": [
        "Now that we have all the pieces we need, let's play hangman... optimally."
      ]
    },
    {
      "cell_type": "code",
      "execution_count": 25,
      "id": "5ea50544-c894-4a0e-af0a-add1d64fcb3c",
      "metadata": {
        "id": "5ea50544-c894-4a0e-af0a-add1d64fcb3c",
        "outputId": "2b546b51-025f-4040-8b58-3bc96cd01ef1",
        "colab": {
          "base_uri": "https://localhost:8080/"
        }
      },
      "outputs": [
        {
          "output_type": "stream",
          "name": "stdout",
          "text": [
            "Your random word is: polish\n"
          ]
        }
      ],
      "source": [
        "random_word = random.choice(word_list) # random.choice chooses something random from the word list\n",
        "print(f\"Your random word is: {random_word}\")"
      ]
    },
    {
      "cell_type": "code",
      "execution_count": 26,
      "id": "b120a05f-0c9f-42cd-9b86-164b12efe5a8",
      "metadata": {
        "id": "b120a05f-0c9f-42cd-9b86-164b12efe5a8"
      },
      "outputs": [],
      "source": [
        "guesses_used = 0 # The number of guesses used\n",
        "limit = 6 # The maximum number of guesses before you lose\n",
        "guessed = [] # The guessed number pile; a List\n",
        "display = ['_'] * len(random_word) # The letters to display; Initially a List of all [_]\n",
        "letters = list(random_word) # The actual letters of the word; will not be modified"
      ]
    },
    {
      "cell_type": "code",
      "execution_count": 29,
      "id": "07335daf-0fe0-4699-a515-5dbc203cbd62",
      "metadata": {
        "id": "07335daf-0fe0-4699-a515-5dbc203cbd62",
        "outputId": "ae407702-b1ab-48f8-eede-45e0af77fb30",
        "colab": {
          "base_uri": "https://localhost:8080/"
        }
      },
      "outputs": [
        {
          "output_type": "stream",
          "name": "stdout",
          "text": [
            "The current revealed letters are: ['_', '_', '_', '_', '_', '_']\n",
            "You have guessed the letters: []\n",
            "You have 6 guesses remaining.\n",
            "The computer has guessed e!\n",
            "Your guess is wrong.\n",
            "   _____ \n",
            "  |    \n",
            "  |    \n",
            "  |    \n",
            "  |    \n",
            "  |    \n",
            "  |    \n",
            "__|__     \n",
            "\n",
            "The current revealed letters are: ['_', '_', '_', '_', '_', '_']\n",
            "You have guessed the letters: ['e']\n",
            "You have 5 guesses remaining.\n",
            "The computer has guessed o!\n",
            "Your guess is correct!\n",
            "   _____ \n",
            "  |    \n",
            "  |    \n",
            "  |    \n",
            "  |    \n",
            "  |    \n",
            "  |    \n",
            "__|__     \n",
            "\n",
            "The current revealed letters are: ['_', 'o', '_', '_', '_', '_']\n",
            "You have guessed the letters: ['e', 'o']\n",
            "You have 5 guesses remaining.\n",
            "The computer has guessed r!\n",
            "Your guess is wrong.\n",
            "   _____ \n",
            "  |     |\n",
            "  |     |\n",
            "  |    \n",
            "  |    \n",
            "  |    \n",
            "  |    \n",
            "__|__     \n",
            "\n",
            "The current revealed letters are: ['_', 'o', '_', '_', '_', '_']\n",
            "You have guessed the letters: ['e', 'o', 'r']\n",
            "You have 4 guesses remaining.\n",
            "The computer has guessed c!\n",
            "Your guess is wrong.\n",
            "   _____ \n",
            "  |     |\n",
            "  |     |\n",
            "  |     |\n",
            "  |    \n",
            "  |    \n",
            "  |    \n",
            "__|__     \n",
            "\n",
            "The current revealed letters are: ['_', 'o', '_', '_', '_', '_']\n",
            "You have guessed the letters: ['e', 'o', 'r', 'c']\n",
            "You have 3 guesses remaining.\n",
            "The computer has guessed p!\n",
            "Your guess is correct!\n",
            "   _____ \n",
            "  |     |\n",
            "  |     |\n",
            "  |     |\n",
            "  |    \n",
            "  |    \n",
            "  |    \n",
            "__|__     \n",
            "\n",
            "The current revealed letters are: ['p', 'o', '_', '_', '_', '_']\n",
            "You have guessed the letters: ['e', 'o', 'r', 'c', 'p']\n",
            "You have 3 guesses remaining.\n",
            "The computer has guessed l!\n",
            "Your guess is correct!\n",
            "   _____ \n",
            "  |     |\n",
            "  |     |\n",
            "  |     |\n",
            "  |    \n",
            "  |    \n",
            "  |    \n",
            "__|__     \n",
            "\n",
            "The current revealed letters are: ['p', 'o', 'l', '_', '_', '_']\n",
            "You have guessed the letters: ['e', 'o', 'r', 'c', 'p', 'l']\n",
            "You have 3 guesses remaining.\n",
            "The computer has guessed i!\n",
            "Your guess is correct!\n",
            "   _____ \n",
            "  |     |\n",
            "  |     |\n",
            "  |     |\n",
            "  |    \n",
            "  |    \n",
            "  |    \n",
            "__|__     \n",
            "\n",
            "The current revealed letters are: ['p', 'o', 'l', 'i', '_', '_']\n",
            "You have guessed the letters: ['e', 'o', 'r', 'c', 'p', 'l', 'i']\n",
            "You have 3 guesses remaining.\n",
            "The computer has guessed s!\n",
            "Your guess is correct!\n",
            "   _____ \n",
            "  |     |\n",
            "  |     |\n",
            "  |     |\n",
            "  |    \n",
            "  |    \n",
            "  |    \n",
            "__|__     \n",
            "\n",
            "The current revealed letters are: ['p', 'o', 'l', 'i', 's', '_']\n",
            "You have guessed the letters: ['e', 'o', 'r', 'c', 'p', 'l', 'i', 's']\n",
            "You have 3 guesses remaining.\n",
            "The computer has guessed h!\n",
            "Your guess is correct!\n",
            "   _____ \n",
            "  |     |\n",
            "  |     |\n",
            "  |     |\n",
            "  |    \n",
            "  |    \n",
            "  |    \n",
            "__|__     \n",
            "\n",
            "The word is polish. Good job!\n"
          ]
        }
      ],
      "source": [
        "won = False # Indicates whether we have won\n",
        "current_word_list = [p for p in word_list if len(p) == len(random_word)] # the list we use every guessing round\n",
        "## TODO HERE\n",
        "# While the guesses_used is less than the limit *and* we have not won yet...\n",
        "while (guesses_used < limit) and not won:\n",
        "    # clear_output(wait=True) # clear the screen\n",
        "    print(f\"The current revealed letters are: {display}\\nYou have guessed the letters: {guessed}\")\n",
        "    print(f\"You have {limit - guesses_used} guesses remaining.\") # Print message for user to know how many guesses they have left\n",
        "    user_guess = get_optimal_guess(guessed, len(random_word), current_word_list) # Get the valid user guess\n",
        "    print(f\"The computer has guessed {user_guess}!\")\n",
        "    guess_result = handle_guess(user_guess, letters, display, guessed) # Handle the guess\n",
        "    if not guess_result: # If the guess is wrong, then...\n",
        "        guesses_used = guesses_used + 1 # Add 1 to the guesses_used\n",
        "    # Filter away all words which don't fit the current pattern\n",
        "    working_list = current_word_list[:]\n",
        "    for word in current_word_list:\n",
        "        if not matches(user_guess, display, word): # If it does not match?\n",
        "            working_list.remove(word)\n",
        "    current_word_list = working_list[:]\n",
        "    draw(guesses_used)\n",
        "    if display == letters: # If we have revealed every single letter, then\n",
        "        won = True\n",
        "\n",
        "# clear_output(wait=True)\n",
        "if not won: # If we exit but have not won, that means we lost\n",
        "    print(f\"You have ran out of guesses. The word is {random_word}. Better luck next time!\")\n",
        "else:\n",
        "    print(f\"The word is {random_word}. Good job!\")"
      ]
    },
    {
      "cell_type": "markdown",
      "id": "47b6cf8b-856c-4e98-85c9-5ee7fe775291",
      "metadata": {
        "id": "47b6cf8b-856c-4e98-85c9-5ee7fe775291"
      },
      "source": [
        "Congrats on finishing this part! Hopefully you've learnt something new today.\n",
        "\n",
        "You might notice that our solver is unable to solve quite a few short words. This is due how entropy works - we guess the letter which gives us the most information, but short words don't really yield a lot of information per letter. That makes it impossible to guess quite a few of the three-/four-letter words. This also means that finishing three-/four- letter words might be luck-based."
      ]
    },
    {
      "cell_type": "markdown",
      "id": "460b6e22-e880-4c5b-8a15-5e1735a6208c",
      "metadata": {
        "id": "460b6e22-e880-4c5b-8a15-5e1735a6208c"
      },
      "source": [
        "## Statistical analysis (for the instructor):"
      ]
    },
    {
      "cell_type": "code",
      "execution_count": null,
      "id": "3082a70c-6074-4578-a8c8-3b6ce6bb3bc2",
      "metadata": {
        "id": "3082a70c-6074-4578-a8c8-3b6ce6bb3bc2",
        "outputId": "e43c4ded-de04-49d3-c8b1-c1ced187b29e"
      },
      "outputs": [
        {
          "name": "stdout",
          "output_type": "stream",
          "text": [
            "Counter({1: 514, 0: 505, 2: 400, 3: 314, 7: 211, 4: 205, 5: 137})\n"
          ]
        }
      ],
      "source": [
        "from IPython.utils import io\n",
        "\n",
        "guesses_needed = []\n",
        "counter = 0\n",
        "word_list_len = len(word_list)\n",
        "for word in word_list:\n",
        "    random_word = word\n",
        "    guesses_used = 0 # The number of guesses used\n",
        "    limit = 6 # The maximum number of guesses before you lose\n",
        "    guessed = [] # The guessed number pile; a List\n",
        "    display = ['_'] * len(random_word) # The letters to display; Initially a List of all [_]\n",
        "    letters = list(random_word) # The actual letters of the word; will not be modified\n",
        "    won = False # Indicates whether we have won\n",
        "    current_word_list = [p for p in word_list if len(p) == len(random_word)] # the list we use every guessing round\n",
        "    stack = []\n",
        "    guess_stack = []\n",
        "    # print(len(current_word_list), random_word)\n",
        "    # print(current_word_list)\n",
        "    ## TODO HERE\n",
        "    # While the guesses_used is less than the limit *and* we have not won yet...\n",
        "    while guesses_used < limit and not won:\n",
        "        # clear_output(wait=True) # clear the screen\n",
        "        user_guess = get_optimal_guess(guessed, len(random_word), current_word_list) # Get the valid user guess\n",
        "        guess_stack.append(user_guess)\n",
        "        with io.capture_output() as captured:\n",
        "            guess_result = handle_guess(user_guess, random_word, display, guessed) # Handle the guess\n",
        "        if not guess_result: # If the guess is wrong, then...\n",
        "            guesses_used = guesses_used + 1 # Add 1 to the guesses_used\n",
        "        # Filter away all words which don't fit the current pattern\n",
        "        working_list = list(current_word_list)\n",
        "        for word in current_word_list:\n",
        "            if not matches(user_guess, display, word): # if it does not match?\n",
        "                working_list.remove(word)\n",
        "        current_word_list = list(working_list)\n",
        "        stack.append(display)\n",
        "        if display == letters: # if we have revealed every single letter, then\n",
        "            won = True\n",
        "    if not won:\n",
        "        # print(f\"Warning: Failed for {random_word}, remaining words = {current_word_list}.\")\n",
        "        # print(f\"Stack trace: {stack}\")\n",
        "        # print(f\"Guess trace: {guess_stack}\")\n",
        "        guesses_used = 7\n",
        "    guesses_needed.append(guesses_used)\n",
        "    # clear_output()\n",
        "    # print(f\"Guessed {word}, {counter} / {word_list_len}\")\n",
        "    counter += 1\n",
        "\n",
        "from collections import Counter\n",
        "print(Counter(guesses_needed))"
      ]
    }
  ],
  "metadata": {
    "kernelspec": {
      "display_name": "Python 3 (ipykernel)",
      "language": "python",
      "name": "python3"
    },
    "language_info": {
      "codemirror_mode": {
        "name": "ipython",
        "version": 3
      },
      "file_extension": ".py",
      "mimetype": "text/x-python",
      "name": "python",
      "nbconvert_exporter": "python",
      "pygments_lexer": "ipython3",
      "version": "3.11.8"
    },
    "colab": {
      "provenance": []
    }
  },
  "nbformat": 4,
  "nbformat_minor": 5
}