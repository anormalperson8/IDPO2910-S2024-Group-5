{
 "cells": [
  {
   "cell_type": "markdown",
   "metadata": {
    "id": "IKAwgRYlQ4Z0"
   },
   "source": [
    "# Python101\n"
   ]
  },
  {
   "cell_type": "markdown",
   "metadata": {
    "id": "lAyqqdvAQ4Z2"
   },
   "source": [
    "## print()\n",
    "\n",
    "\n",
    "When we are learning a new programming language, we always want to print \"Hello World!\" first.\n",
    "\n",
    "To do so, we will need the `print()` function.\n",
    "\n",
    "Example:"
   ]
  },
  {
   "cell_type": "code",
   "execution_count": null,
   "metadata": {
    "id": "dLrc6mWaQ4Z2",
    "outputId": "26074544-2a86-4a06-d1f4-f6d99c0fc857"
   },
   "outputs": [],
   "source": [
    "print(\"Hello World!\") # Press the little triangle on the left to compile"
   ]
  },
  {
   "cell_type": "markdown",
   "metadata": {
    "id": "usjfuLyRQ4Z4"
   },
   "source": [
    "Let's try to modify the content inside \" \" and see what will happen:"
   ]
  },
  {
   "cell_type": "code",
   "execution_count": null,
   "metadata": {
    "id": "MdTQ1qr4Q4Z4",
    "outputId": "e001c6bb-61ef-412d-cb09-9c9ba4e55dcb"
   },
   "outputs": [],
   "source": [
    "print(\"\")"
   ]
  },
  {
   "cell_type": "markdown",
   "metadata": {
    "id": "O6ARapKZQ4Z5"
   },
   "source": [
    "## input()\n",
    "\n",
    "`input()` is a way for users to interact with a program.\n",
    "Example:"
   ]
  },
  {
   "cell_type": "code",
   "execution_count": null,
   "metadata": {
    "id": "LlJV_5-JQ4Z5",
    "outputId": "75046ae4-52c8-48f5-d252-c5a726045dd1"
   },
   "outputs": [],
   "source": [
    "input(\"Enter a number: \") # Try to input some number inside the message box"
   ]
  },
  {
   "cell_type": "markdown",
   "metadata": {
    "id": "ERC2I6R1Q4Z6"
   },
   "source": [
    "## Variable\n",
    "\n",
    "**Variables** the a way you nahe data in computer worl\n",
    "\n",
    "Like dog have different breeds, **variable** have different types:\n",
    "\n",
    "<center>\n",
    "\n",
    "|Data Type|name|\n",
    "|---|---|\n",
    "|Integer|`int`|\n",
    "|Boolean|`bool`|\n",
    "|Float|`float`|\n",
    "|String|`str`|\n",
    "\n",
    "</center>\n",
    "\n",
    "Format: `variable_name` = data\n",
    "\n",
    "Example:"
   ]
  },
  {
   "cell_type": "code",
   "execution_count": null,
   "metadata": {
    "id": "c2A4-HJbQ4Z6"
   },
   "outputs": [],
   "source": [
    "one = 1 # integer\n",
    "\n",
    "two = True # boolean\n",
    "\n",
    "three = \"three\" # string \"\"\n",
    "\n",
    "four = False # boolean\n",
    "\n",
    "pi = 3.14 # float\n",
    "\n",
    "horse = 'deer' # string but ''"
   ]
  },
  {
   "cell_type": "markdown",
   "metadata": {
    "id": "kswqLJsCQ4Z7"
   },
   "source": [
    "<br>\n",
        "Now, lets try to save your math teacher:\n",
    "<br>"
   ]
  },
  {
   "cell_type": "code",
   "execution_count": null,
   "metadata": {
    "id": "kl81OQM8Q4Z7"
   },
   "outputs": [],
   "source": [
    "two = 1 # Modify this line of code to save your math teacher\n",
    "\n",
    "\n",
    "################ Don't touch the code below #######################\n",
    "ans = two + two\n",
    "print(\"Two plus two is:\", ans)\n",
    "if(ans == 4):\n",
    "    print(\"Math teacher is happy!\")\n",
    "else:\n",
    "    print(\"Math teacher is sad.\")\n",
    "###################################################################"
   ]
  },
  {
   "cell_type": "markdown",
   "metadata": {
    "id": "OVOuG0r6Q4Z8"
   },
   "source": [
    "## Arithmetic operators: $+ - \\times \\div$\n",
    "\n",
    "In computer worldthe world of programming, some symbol are being used to help us do math inside computer\n",
    "\n",
    "<center>\n",
    "\n",
    "|Symbol|Use|\n",
    "|---|---|\n",
    "|`+`|Plus|\n",
    "|`-`|Minus|\n",
    "|`*`|Multiply|\n",
    "|`/`|Divide|\n",
    "|`%`|Remainder|\n",
    "|`//`|Floor Division/Quotient|\n",
    "|`**`|Exponent|\n",
    "\n",
    "</center>\n",
    "\n",
    "Lets see some examples:"
   ]
  },
  {
   "cell_type": "code",
   "execution_count": null,
   "metadata": {
    "id": "vq70924iQ4Z8"
   },
   "outputs": [],
   "source": [
    "one = 1\n",
    "two = 1 + 1\n",
    "three = 1 + 1 + 1"
   ]
  },
  {
   "cell_type": "markdown",
   "metadata": {
    "id": "37LTjg1yQ4Z9"
   },
   "source": [
    "<br>\n",
    "So, what is four equals to?"
   ]
  },
  {
   "cell_type": "code",
   "execution_count": null,
   "metadata": {
    "id": "89kYuO0eQ4Z9",
    "scrolled": true
   },
   "outputs": [],
   "source": [
    "############## Multiple Choice #####################\n",
    "a = 1 + 1 + 1 + 1\n",
    "b = -2 * -2\n",
    "c = 200 / 50\n",
    "d = 0.5 * 8\n",
    "e = 14 % 5\n",
    "f = True + True + True + True\n",
    "g = 45 // 10\n",
    "h = 2 ** 2\n",
    "####################################################\n",
    "\n",
    "# Try to modify the variable inside print() and complie to check the result\n",
    "print(a)\n"
   ]
  },
  {
   "cell_type": "markdown",
   "metadata": {
    "id": "1L6w6YlqQ4Z9"
   },
   "source": [
    "Are those too easy? Lets try something harder!\n",
    "\n",
    "Can you read and understand this?"
   ]
  },
  {
   "cell_type": "code",
   "execution_count": null,
   "metadata": {
    "id": "ZPPGHTO6Q4Z9"
   },
   "outputs": [],
   "source": [
    "one = 1\n",
    "\n",
    "two = one + one\n",
    "three = one + one + one\n",
    "four = two * two\n",
    "five = two * two + one\n",
    "six = four / two + one * two + five % three\n",
    "\n",
    "\n",
    "\n",
    "print(six)"
   ]
  },
  {
   "cell_type": "markdown",
   "metadata": {
    "id": "u-r6F82-Q4Z-"
   },
   "source": [
    "Apart from numbers, we can also put string together by using `+` or `,`\n",
    "\n",
    "Using `+` will concatenate the string together directly.\n",
    "\n",
    "Using `,` in `print()` will append the string together with a space between."
   ]
  },
  {
   "cell_type": "code",
   "execution_count": null,
   "metadata": {
    "id": "9FnhRLO7Q4Z-"
   },
   "outputs": [],
   "source": [
    "first_phrase = \"four + four =\"\n",
    "second_phrase = \"two\"\n",
    "\n",
    "\n",
    "print(\"Using \\\"+\\\" :\" + first_phrase + second_phrase)\n",
    "print(\"Using \\\",\\\" :\" , first_phrase, second_phrase)\n",
    "\n",
    "print(\"After small modifications:\")\n",
    "\n",
    "print(\"Using \\\"+\\\" :\" + first_phrase + \" \" +  second_phrase) # Add a space in between\n",
    "print(\"Using \\\",\\\" :\" , first_phrase, second_phrase)\n",
    "\n"
   ]
  },
  {
   "cell_type": "markdown",
   "metadata": {
    "id": "bq-6KunaQ4Z-"
   },
   "source": [
    "<br>\n",
    "\n",
    "## Type Conversion\n",
    "\n",
    "We can change the type of a variable by using type casting\n",
    "\n",
    "<center>\n",
    "\n",
    "| Function | Syntax |\n",
    "| --- | --- |\n",
    "| `int()` | Cast to `int` type |\n",
    "| `float()` | Cast to `float` type |\n",
    "| `bool()` | Cast to `bool` type |\n",
    "| `str()` | Cast to `str` type |\n",
    "\n",
    "</center>\n",
    "\n",
    "Examples:"
   ]
  },
  {
   "cell_type": "code",
   "execution_count": null,
   "metadata": {
    "id": "_4lqo9HnQ4Z_"
   },
   "outputs": [],
   "source": [
    "four = \"4\"\n",
    "\n",
    "\n",
    "str_output = four + four\n",
    "int_output = int(four) + int(four)\n",
    "\n",
    "\n",
    "print(\"string: \" + str_output)\n",
    "print(\"integer: \" + str(int_output))\n"
   ]
  },
  {
   "cell_type": "markdown",
   "metadata": {
    "id": "zk00NUgyQ4Z_"
   },
   "source": [
    "<br>\n",
    "\n",
    "## End\n",
    "\n",
    "You thought this is the end of our lesson? Haha, you think too much :D\n",
    "\n",
    "`end` is a parameter inside `print()` function.\n",
    "It refers to the ending of the output.\n",
    "\n",
    "By default, `end='\\n'` <-- `\\n` is the symbol that represents a new line\n",
    "\n",
    "For instance:"
   ]
  },
  {
   "cell_type": "code",
   "execution_count": null,
   "metadata": {
    "id": "0hZo0g9CQ4Z_"
   },
   "outputs": [],
   "source": [
    "print(\"four + four = \", end=\"two\\n\")"
   ]
  },
  {
   "cell_type": "code",
   "execution_count": null,
   "metadata": {
    "id": "WJ2KtwAAQ4aA"
   },
   "outputs": [],
   "source": [
    "print(\"four\", end=\" \")\n",
    "print(\"+\", end=\" \")\n",
    "print(\"four\", end=\" \")\n",
    "print(\"=\", end=\" \")\n",
    "print(\"two\", end=\"\\t\")\n",
    "print(\"?_? Why am I here\", end = \"\\n\")\n",
    "print(\"OuO I should be here\")\n"
   ]
  },
  {
   "cell_type": "markdown",
   "metadata": {
    "id": "zLRK7z6CQ4aA"
   },
   "source": [
    "## Separation\n",
    "\n",
    "`sep` is the other parameter inside `print()`\n",
    "\n",
    "It refers to seperation of the output, when a comma `,` is used.\n",
    "\n",
    "Normally, as taught above, a space is inserted whenever a comma `,` is used. (i.e. default: `sep=' '`)\n",
    "\n",
    "We can actually change that!\n",
    "\n",
    "For instance:"
   ]
  },
  {
   "cell_type": "code",
   "execution_count": null,
   "metadata": {
    "id": "r-cVQZ4CQ4aA"
   },
   "outputs": [],
   "source": [
    "print(\"four\",\"+\",\"four\",\"=\",\"two\", sep=\"_\")"
   ]
  },
  {
   "cell_type": "code",
   "execution_count": null,
   "metadata": {
    "id": "p5uUUBB1Q4aA"
   },
   "outputs": [],
   "source": [
    "print(\"four\",\"+\",\"four\",\"=\", sep=\"_\", end=\"two\")"
   ]
  },
  {
   "cell_type": "code",
   "execution_count": null,
   "metadata": {
    "id": "iBE_Dm_qQ4aB"
   },
   "outputs": [],
   "source": [
    "print(\"four\",\"+\",\"four\",\"=\", end=\"two\", sep=\"_\") # Order of sep and end doesn't matter"
   ]
  },
  {
   "cell_type": "markdown",
   "metadata": {},
   "source": [
    "Note that `end` and `sep` must always be **behind** the contents you want to print."
   ]
  },
  {
   "cell_type": "markdown",
   "metadata": {
    "id": "g8XRxa3zQ4aB"
   },
   "source": [
    "## Decision Making\n",
    "\n",
    "How do we decide which code to run when there are different scenarios?"
   ]
  },
  {
   "cell_type": "markdown",
   "metadata": {
    "id": "l34lUpmRQ4aB"
   },
   "source": [
    "```python\n",
    "\n",
    "if condition:\n",
    "    code\n",
    "elif condition:\n",
    "    code\n",
    "else:\n",
    "    code\n",
    "```"
   ]
  },
  {
   "cell_type": "markdown",
   "metadata": {
    "id": "9n2aTjf0Q4aB"
   },
   "source": [
    "Do you remember the game \"save your math teacher\"?"
   ]
  },
  {
   "cell_type": "code",
   "execution_count": null,
   "metadata": {
    "id": "y3vvkB8XQ4aB"
   },
   "outputs": [],
   "source": [
    "two = 1 # Modify this line of code to save your math teacher\n",
    "\n",
    "\n",
    "################ Don't touch the code below #######################\n",
    "ans = two + two\n",
    "print(\"Two plus two is \" + str(ans))\n",
    "if ans == 4:\n",
    "    print(\"Math teacher happy!\")\n",
    "elif ans != 4:\n",
    "    print(\"Math teacher is sad.\")\n",
    "else:\n",
    "    print(\"You should not be here.\")\n",
    "###################################################################"
   ]
  },
  {
   "cell_type": "markdown",
   "metadata": {
    "id": "MeyW9ZZPQ4aC"
   },
   "source": [
    "Apart from modifying the line of code: two = 1\n",
    "\n",
        "you can actually modify the statement inside if(): to save your math teacher!"
   ]
  },
  {
   "cell_type": "code",
   "execution_count": null,
   "metadata": {
    "id": "fzmHvJBeQ4aC"
   },
   "outputs": [],
   "source": [
    "two = 1 # Instead of modify this line of code\n",
    "\n",
    "ans = two + two\n",
    "print(\"two plus two is \" + str(ans))\n",
    "\n",
    "if ans == 4: # Try to modify the number (Hint: when two=1, two + two = ? )\n",
    "    print(\"Math teacher happy!\")\n",
    "elif ans != 4:\n",
    "    print(\"Math teacher is sad.\")\n",
    "else:\n",
    "    print(\"You should not be here.\")\n"
   ]
  },
  {
   "cell_type": "markdown",
   "metadata": {
    "id": "oMajiUTDQ4aC"
   },
   "source": [
    "## Comparsion Operators\n",
    "\n",
    "\n",
    "Here are some comparison operators that can be used inside conditions:\n",
    "\n",
    "<center>\n",
    "\n",
    "| Operator |         Meaning          |\n",
    "| :------: | :----------------------: |\n",
    "|    ==    |         equal to         |\n",
    "|    >     |       larger than        |\n",
    "|    >=    | larger than or equal to  |\n",
    "|    <     |       smaller than       |\n",
    "|    <=    | smaller than or equal to |\n",
    "|    !=    |       not equal to       |\n",
    "\n",
    "</center>\n",
    "\n",
    "For instance:"
   ]
  },
  {
   "cell_type": "code",
   "execution_count": null,
   "metadata": {
    "id": "l7fiuObaQ4aK"
   },
   "outputs": [],
   "source": [
    "one = 1\n",
    "two = 2\n",
    "three = 3\n",
    "four = 4\n",
    "\n",
    "if four < one:  # Try to modify the comparsion operators (symbol between four and one)\n",
    "    print(True)\n",
    "else:\n",
    "    print(False)"
   ]
  },
  {
   "cell_type": "markdown",
   "metadata": {
    "id": "Hb_mW72SQ4aL"
   },
   "source": [
    "## Logic Operators\n",
    "\n",
    "Other than comparison operators, here are some logic operator: `or`, `and`, `not`\n",
    "\n",
    "If statement1 **or** statement2: (Either one of the statements have to be fulfilled)\n",
    "\n",
    "If statement **and** statement2: (Both statements have to be fulfilled)\n",
    "\n",
    "If **not** statement1: (The statement is *not* fulfilled)\n",
    "\n",
    "For instance:"
   ]
  },
  {
   "cell_type": "code",
   "execution_count": null,
   "metadata": {
    "id": "lZfGF3i5Q4aL"
   },
   "outputs": [],
   "source": [
    "four = 4\n",
    "\n",
    "if four == 4 or four == 5:\n",
    "    print(True)\n",
    "else:\n",
    "    print(False)"
   ]
  },
  {
   "cell_type": "code",
   "execution_count": null,
   "metadata": {
    "id": "IuKHOPr7Q4aL"
   },
   "outputs": [],
   "source": [
    "four = 4\n",
    "\n",
    "if four == 4 and four == 5:\n",
    "    print(True)\n",
    "else:\n",
    "    print(False)"
   ]
  },
  {
   "cell_type": "markdown",
   "metadata": {
    "id": "E1v8nt_xQ4aL"
   },
   "source": [
    "## random\n",
    "\n",
    "`random` is a libary that provide functions for us to generate random numbers.\n",
    "\n",
    "But before we call the function, we have to import the libary first.\n",
    "\n",
    "from the libary `random` we are now calling function `randint`: random integer\n",
    "\n",
    "```python\n",
    "randoom.randint(a, b)\n",
    "```\n",
    "\n",
    "`a` and `b` refers to the range of the random integer.\n",
    "\n",
    "i.e. if the generated value is `n`, `a` $\\leq$ `n` $\\leq$ `b`.\n",
    "\n",
    "`random.randint(1,10)` will generate random integer between 1 to 10, including 1 and 10.\n",
    "\n",
    "Try it out below!"
   ]
  },
  {
   "cell_type": "code",
   "execution_count": null,
   "metadata": {
    "id": "MYdK4Aq8Q4aM"
   },
   "outputs": [],
   "source": [
    "import random\n",
    "\n",
    "number = random.randint(1, 10)\n",
    "\n",
    "print(number)"
   ]
  },
  {
   "cell_type": "markdown",
   "metadata": {
    "id": "T9y2uOGQQ4aM"
   },
   "source": [
    "# End\n",
    "\n",
    "This is the actual end :D\n",
    "\n",
    "You can move on to the Number Guessing Game now!"
   ]
  }
 ],
 "metadata": {
  "colab": {
   "provenance": []
  },
  "kernelspec": {
   "display_name": "Python 3 (ipykernel)",
   "language": "python",
   "name": "python3"
  },
  "language_info": {
   "codemirror_mode": {
    "name": "ipython",
    "version": 3
   },
   "file_extension": ".py",
   "mimetype": "text/x-python",
   "name": "python",
   "nbconvert_exporter": "python",
   "pygments_lexer": "ipython3",
   "version": "3.11.8"
  }
 },
 "nbformat": 4,
 "nbformat_minor": 4
}
