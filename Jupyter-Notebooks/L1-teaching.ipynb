{
 "cells": [
  {
   "cell_type": "markdown",
   "id": "fdccbfad-20a9-4a19-ad06-e4e6e21bc228",
   "metadata": {},
   "source": [
    "# Workshop One - Number Guessing Game\n",
    "\n",
    "<img src=\"https://github.com/anormalperson8/IDPO2910-S2024-Group-5/blob/main/images/guessingGame.jpg?raw=true\" alt=\"drawing\" width=\"800\"/>\n",
    "\n",
    "(Credit: [image source](https://www.studytonight.com/python-projects/number-guessing-game-in-python))\n",
    "\n",
    "Today, our final goal is to learn how to create a number guessing game for you to play with.\n",
    "\n",
    "There's a lot to cover, so let's get started!"
   ]
  },
  {
   "cell_type": "markdown",
   "id": "69bd4c76-ff9d-4dc7-8903-742471b09a58",
   "metadata": {},
   "source": [
    "## Input and Output (I/O)"
   ]
  },
  {
   "cell_type": "markdown",
   "id": "719da184-a50c-419f-a478-a58f128aa7fa",
   "metadata": {
    "jp-MarkdownHeadingCollapsed": true
   },
   "source": [
    "### Output (The `O` part)\n",
    "To display something on the screen, we use the `print` function."
   ]
  },
  {
   "cell_type": "code",
   "execution_count": 7,
   "id": "a53b3670-bc2f-4260-a211-91ac1d1aec6d",
   "metadata": {},
   "outputs": [
    {
     "name": "stdout",
     "output_type": "stream",
     "text": [
      "Hello World!\n"
     ]
    }
   ],
   "source": [
    "print(\"Hello World!\") # Prints \"Hello World!\""
   ]
  },
  {
   "cell_type": "markdown",
   "id": "5c55bb4f-8ba2-47a0-942b-8194a2efe808",
   "metadata": {},
   "source": [
    "You can print multiple things by adding commas (`,`) after each thing to print. Python helps you add a space between each comma when it displays the given text."
   ]
  },
  {
   "cell_type": "code",
   "execution_count": 14,
   "id": "616cd753-2459-4154-9abc-85e4a7c467e9",
   "metadata": {},
   "outputs": [
    {
     "name": "stdout",
     "output_type": "stream",
     "text": [
      "Alpha Beta Gamma\n",
      "Our curiosity goes with you on your journey. You walk in the footsteps of those who came before you, and your path guides those who will follow later.\n"
     ]
    }
   ],
   "source": [
    "print(\"Alpha\", \"Beta\", \"Gamma\")\n",
    "print(\"Our curiosity goes with you on your journey.\", \n",
    "      \"You walk in the footsteps of those who came before you,\", \n",
    "      \"and your path guides those who will follow later.\")"
   ]
  },
  {
   "cell_type": "markdown",
   "id": "ebc8b441-adfd-4885-9ce9-b219261876ad",
   "metadata": {},
   "source": [
    "You can also start a new line *after* each comma. This is quite helpful if you have a long sentence, like the second example here."
   ]
  },
  {
   "cell_type": "markdown",
   "id": "59052e6c-7b82-445c-aca3-c491bb1a6baa",
   "metadata": {},
   "source": [
    "### `print`ing with Variables\n",
    "We can also display variables. This is actually a good way for you to figure out what is going on in your program, or to understand why someone goes wrong."
   ]
  },
  {
   "cell_type": "code",
   "execution_count": 4,
   "id": "dfa625f8-f40b-4cbc-9272-d557ed515d71",
   "metadata": {},
   "outputs": [
    {
     "name": "stdout",
     "output_type": "stream",
     "text": [
      "5\n",
      "six\n",
      "six\n",
      "8\n"
     ]
    }
   ],
   "source": [
    "x = 5 # Set x to 5\n",
    "print(x) # Prints the value of x\n",
    "\n",
    "x = \"six\" # Set x to the word \"six\"\n",
    "print(x) # Now 6 is printed, since x now \"holds\" x\n",
    "\n",
    "y = 8 # Set y to 8\n",
    "print(x) # Since we didn't change x, what is the value?\n",
    "print(y) # What is this value?"
   ]
  },
  {
   "cell_type": "markdown",
   "id": "3c2664e8-73ee-4fc6-8ef7-fbec39740b56",
   "metadata": {},
   "source": [
    "`print` works well when you mix variables and (fixed) text as well.\n",
    "\n",
    "(You can use the variables more than once in a `print` statement, as you can see in the 2nd example.)"
   ]
  },
  {
   "cell_type": "code",
   "execution_count": 20,
   "id": "d9848e77-356c-453c-8b4e-b18d55a63cbe",
   "metadata": {},
   "outputs": [
    {
     "name": "stdout",
     "output_type": "stream",
     "text": [
      "Light a man on fire, and they'll be warm for the rest of their life.\n",
      "The Southern Observatory is asking if creating a 22 minute interval is possible (that is, to have something arrive 22 minutes before it is actually sent through the warp).\n"
     ]
    }
   ],
   "source": [
    "x = \"Light a man on fire,\"\n",
    "print(x, \"and they'll be warm for the rest of their life.\")\n",
    "\n",
    "x = 22\n",
    "print(\"The Southern Observatory is asking if creating a\", x,\n",
    "      \"minute interval is possible (that is, to have something arrive\", x, \n",
    "      \"minutes before it is actually sent through the warp).\")"
   ]
  },
  {
   "cell_type": "markdown",
   "id": "0df2b392-3a13-4dac-85c1-f114463ff6a0",
   "metadata": {},
   "source": [
    "You can also calculate things in `print`s."
   ]
  },
  {
   "cell_type": "code",
   "execution_count": 7,
   "id": "1ae813cc-bad1-4728-b1aa-d23185332132",
   "metadata": {},
   "outputs": [
    {
     "name": "stdout",
     "output_type": "stream",
     "text": [
      "5\n",
      "1\n",
      "15\n",
      "16777216\n"
     ]
    }
   ],
   "source": [
    "print(2 + 3)\n",
    "\n",
    "print(7 % 2)\n",
    "\n",
    "print(7 + y) # You can mix it for constants and variables...\n",
    "\n",
    "print(y ** y) # and variables only too!"
   ]
  },
  {
   "cell_type": "markdown",
   "id": "be3fcb0c-f1fa-4062-ba05-3086378922b8",
   "metadata": {},
   "source": [
    "## Task 1: Using Print to Output Useful Text\n",
    "Now that we know how to output things to the screen, let's use that to write some of the print statements we will use in the program.\n",
    "\n",
    "Try to output the following text (in order):\n",
    "```\n",
    "Welcome to the number guessing game! Your objective is to guess a random number generated by the computer.\n",
    "Your guess is correct! The secret number is 50 for this round. Well done!\n",
    "Your guess is correct! The secret number is 42 for this round. Well done!\n",
    "```"
   ]
  },
  {
   "cell_type": "code",
   "execution_count": 31,
   "id": "3be1208e-ae93-48c1-b418-005e0b5c9890",
   "metadata": {},
   "outputs": [
    {
     "name": "stdout",
     "output_type": "stream",
     "text": [
      "\n",
      "\n",
      "\n"
     ]
    }
   ],
   "source": [
    "correct_number = 50\n",
    "print() # TODO: Fill in the first print statement to print the first line\n",
    "print() # TODO: Fill in the second print statement to print the second line\n",
    "\n",
    "correct_number = 42\n",
    "print() # TODO: Copy your second print statment here by replacing this line. It should output the third line."
   ]
  },
  {
   "cell_type": "code",
   "execution_count": 30,
   "id": "edf78dd0-76e0-40c2-bd72-ccb4be74ba66",
   "metadata": {},
   "outputs": [
    {
     "name": "stdout",
     "output_type": "stream",
     "text": [
      "Welcome to the number guessing game! Your objective is to guess a random number generated by the computer.\n",
      "Your guess is correct! The secret number is 50 for this round. Well done!\n",
      "Your guess is correct! The secret number is 42 for this round. Well done!\n"
     ]
    }
   ],
   "source": [
    "### Answers: Delete Before Distribution\n",
    "correct_number = 50\n",
    "print(\"Welcome to the number guessing game!\",\n",
    "      \"Your objective is to guess a random number generated by the computer.\") # TODO: Fill in the first print statement to print the first line\n",
    "print(\"Your guess is correct! The secret number is\", correct_number, \"for this round. Well done!\") # TODO: Fill in the second print statement to print the second line\n",
    "\n",
    "correct_number = 42\n",
    "print(\"Your guess is correct! The secret number is\", correct_number, \"for this round. Well done!\") # TODO: Copy your second print statment here by replacing this line. It should output the third line."
   ]
  },
  {
   "cell_type": "markdown",
   "id": "c0539e03-dc0b-4652-9ab6-eefd2b00ef31",
   "metadata": {},
   "source": [
    "### Input (The `I` Part)\n",
    "Input in Python is done using the (aptly named) `input()` function.\n",
    "\n",
    "Test it out with the block below:"
   ]
  },
  {
   "cell_type": "code",
   "execution_count": 33,
   "id": "0a70df95-07b2-42f2-9797-793f59cb1933",
   "metadata": {},
   "outputs": [
    {
     "name": "stdin",
     "output_type": "stream",
     "text": [
      " abc\n"
     ]
    },
    {
     "name": "stdout",
     "output_type": "stream",
     "text": [
      "abc\n"
     ]
    }
   ],
   "source": [
    "x = input()\n",
    "print(x)"
   ]
  },
  {
   "cell_type": "markdown",
   "id": "3555e03f-5d6b-49a0-abe2-9850261d3f15",
   "metadata": {},
   "source": [
    "You can also add text to the `input()` function to display a prompt to ask the user for input."
   ]
  },
  {
   "cell_type": "code",
   "execution_count": 3,
   "id": "231e0101-b6f1-4501-a095-3caf9aceada6",
   "metadata": {},
   "outputs": [
    {
     "name": "stdin",
     "output_type": "stream",
     "text": [
      "O Romeo, Romeo, wherefore art thou Romeo? Deny thy father and refuse thy name.\n"
     ]
    },
    {
     "name": "stdout",
     "output_type": "stream",
     "text": [
      "Deny thy father and refuse thy name.\n"
     ]
    }
   ],
   "source": [
    "y = input(\"O Romeo, Romeo, wherefore art thou Romeo?\")\n",
    "print(y)"
   ]
  },
  {
   "cell_type": "markdown",
   "id": "350584d5-3514-4b83-86cc-5fc2940ee6b8",
   "metadata": {},
   "source": [
    "Remember that inputs are of `string` type. If you want to perform mathematical operations on inputs, you need to use `int()` first\n",
    "\n",
    "Try to predict what the first and the second line of code output when you run it."
   ]
  },
  {
   "cell_type": "code",
   "execution_count": 1,
   "id": "7e80227c-a5e4-4c9d-a08e-68917a7ba60f",
   "metadata": {},
   "outputs": [
    {
     "name": "stdin",
     "output_type": "stream",
     "text": [
      "Input a number:  1\n",
      "Input another number:  2\n"
     ]
    },
    {
     "name": "stdout",
     "output_type": "stream",
     "text": [
      "The unconverted output is 12\n",
      "The converted output is 3\n"
     ]
    }
   ],
   "source": [
    "x = input(\"Input a number: \")\n",
    "y = input(\"Input another number: \")\n",
    "print(\"The unconverted output is\", x + y)\n",
    "x = int(x)\n",
    "y = int(y)\n",
    "print(\"The converted output is\", x + y)"
   ]
  },
  {
   "cell_type": "markdown",
   "id": "43842c28-d795-4718-be44-c7d2511ad51c",
   "metadata": {},
   "source": [
    "## Task 2: Getting the User's Guess\n",
    "Let's put what we've learnt into practice by asking the user to input a number to guess.\n",
    "\n",
    "Please use the following prompt: `\"Please enter a number from 1 to 100. Type \\\"exit\\\" to quit the game: \"`.\n",
    "\n",
    "Note: You can copy the given words exactly. Remember to include the quotes!"
   ]
  },
  {
   "cell_type": "code",
   "execution_count": 6,
   "id": "7d1bcfd0-6c69-4b70-b689-70191e011fab",
   "metadata": {},
   "outputs": [],
   "source": [
    "user_input = None # TODO: Replace None with the appropriate input()\n",
    "\n",
    "# TODO: Turn user_input into an integer\n"
   ]
  },
  {
   "cell_type": "code",
   "execution_count": 11,
   "id": "295642eb-944f-473b-aeb9-40cd93fb8ead",
   "metadata": {},
   "outputs": [
    {
     "name": "stdin",
     "output_type": "stream",
     "text": [
      "Please enter a number from 1 to 100. Type \"exit\" to quit the game:  -1\n"
     ]
    }
   ],
   "source": [
    "### Anwers: Please delete in the final version\n",
    "user_input = input(\"Please enter a number from 1 to 100. Type \\\"exit\\\" to quit the game: \") # TODO: Replace None with the appropriate input()\n",
    "\n",
    "# TODO: Turn user_input into an integer\n",
    "user_input = int(user_input)"
   ]
  },
  {
   "cell_type": "markdown",
   "id": "c4943e32-493e-48ef-9f6e-c30bb563e221",
   "metadata": {},
   "source": [
    "### Test: Does your Code Work?\n",
    "Run the block below to verify your code."
   ]
  },
  {
   "cell_type": "code",
   "execution_count": 12,
   "id": "43aa512f-a0a2-4619-ac03-391fff1a83c9",
   "metadata": {},
   "outputs": [
    {
     "name": "stdout",
     "output_type": "stream",
     "text": [
      "-2\n"
     ]
    }
   ],
   "source": [
    "print(user_input + user_input) # Does this output what you expect?"
   ]
  },
  {
   "cell_type": "markdown",
   "id": "b016cc52-1df7-44ae-b4af-a73046b92747",
   "metadata": {},
   "source": [
    "You may notice that this version of input accepts negative numbers (and zero) as valid. Invalid input will also crash the program. This is why a way to validate the input will be provided."
   ]
  },
  {
   "cell_type": "markdown",
   "id": "5ac8c7c3-f1f4-4c6f-ad81-67f96f2ee031",
   "metadata": {},
   "source": [
    "## Quick Math Revision - \"In the range of\"\n",
    "In the notebook below, **in the range of** `a` and `b` means that a number must be between `a` and `b`.\n",
    "\n",
    "In mathematical terms, `a` $\\leq$ your number $\\leq$ `b`.\n",
    "Let's see the following examples:\n",
    "\n",
    "69 is in the range of 1 and 100.\n",
    "\n",
    "69 is in the range of 69 and 69.\n",
    "\n",
    "1 is not in the range of 2 to 100."
   ]
  },
  {
   "cell_type": "markdown",
   "id": "4be2553d-eba8-4010-8ffe-6652b97b865c",
   "metadata": {},
   "source": [
    "## Generating Random Numbers\n",
    "Generating random numbers are a **hard** task, even for most programmers. Thankfully, Python provides many built-in tools.\n",
    "\n",
    "One such tool is `random`. (In Computer Science, we usually call these tools *libraries*.) \n",
    "\n",
    "Before using it, we have to `import` it like the code below.\n",
    "\n",
    "The code `random.randint(lower, upper)` creates random numbers in the range of `lower` to `upper`.\n",
    "\n",
    "Let's assign it to `secret_number` so we can reuse it later.\n",
    "\n",
    "Note: If you want to generate a new number, simply re-run the code block below."
   ]
  },
  {
   "cell_type": "code",
   "execution_count": null,
   "id": "4851369e-d98a-4c67-a050-760010edd088",
   "metadata": {},
   "outputs": [],
   "source": [
    "import random # Import the random library\n",
    "secret_number = random.randint(1, 100) # Generate a random number from 1 to 100, and assign it to secret_number"
   ]
  },
  {
   "cell_type": "markdown",
   "id": "b05bad7c-6558-4e90-8af2-fbc3a3c23c8e",
   "metadata": {},
   "source": [
    "To see what your secret number is, run the block below."
   ]
  },
  {
   "cell_type": "code",
   "execution_count": null,
   "id": "3bc2716d-517b-46c1-8bca-8829345daf0f",
   "metadata": {},
   "outputs": [],
   "source": [
    "print(secret_number)"
   ]
  },
  {
   "cell_type": "markdown",
   "id": "4470793d-428b-461a-8623-e086ec4bd124",
   "metadata": {},
   "source": [
    "## Making Decisions: `if`, `else`\n",
    "To make a game, the next thing to learn is how to run different statements depending on user input.\n",
    "\n",
    "We use the `if` statement for that.\n",
    "\n",
    "### True and False in Python \n",
    "\n",
    "In the example below, let's use `work_done` to store the work done by your groupmate for a group project.\n",
    "\n",
    "Then, we have to compare if the `work_done` is larger than 0.\n",
    "\n",
    "If we have to think of a value for this comparison, what would be all the possible values?\n",
    "\n",
    "Let's assign the value of the comparison to `is_working` and print it!"
   ]
  },
  {
   "cell_type": "code",
   "execution_count": 21,
   "id": "0f0993c8-34e1-4a55-b402-bab285524d7a",
   "metadata": {},
   "outputs": [
    {
     "name": "stdout",
     "output_type": "stream",
     "text": [
      "The value of is_working if work_done is -1 is: False\n",
      "The value of is_working if work_done is 1 is: True\n"
     ]
    }
   ],
   "source": [
    "# First case: The groupmate contributes negative work (maybe they delayed the progress of the entire project?)\n",
    "work_done = -1\n",
    "is_working = work_done > 0\n",
    "print(\"The value of is_working if work_done is -1 is:\", is_working)\n",
    "\n",
    "# Second case: The groupmate contributes some work (maybe they helped you finish the report?)\n",
    "work_done = 1\n",
    "is_working = work_done > 0\n",
    "print(\"The value of is_working if work_done is 1 is:\", is_working)"
   ]
  },
  {
   "cell_type": "markdown",
   "id": "cf8bf2e5-ceec-43f0-82f5-a4bbd94b37ae",
   "metadata": {},
   "source": [
    "We can see that the value of `is_working` is either `True` or `False`.\n",
    "\n",
    "Note for programmers from other programming languages: Python **does not use `true` or `false`**. You **must** use `True` or `False`."
   ]
  },
  {
   "cell_type": "markdown",
   "id": "378e7672-d837-4c64-b43a-e3794d6783e3",
   "metadata": {},
   "source": [
    "### Introducing `if` and `else`\n",
    "We want to print `\"My groupmate is working!\"` if they are working.\n",
    "\n",
    "In Python terms, we write that as follows:\n",
    "\n",
    "```py\n",
    "if {a value}: # If the value is True\n",
    "    # do things\n",
    "```\n",
    "\n",
    "An example of real code is given below."
   ]
  },
  {
   "cell_type": "code",
   "execution_count": 25,
   "id": "f5af4af8-d3cd-4d3e-bf96-2d79e2254f22",
   "metadata": {},
   "outputs": [],
   "source": [
    "is_working = False # Change this to True after running this block!\n",
    "if is_working: # If the groupmate is working, then...\n",
    "    print(\"My groupmate is working!\")"
   ]
  },
  {
   "cell_type": "markdown",
   "id": "5c48c58b-6808-4bfb-a249-a66ca0641149",
   "metadata": {},
   "source": [
    "You might notice that when `is_working` is False, nothing occurs.\n",
    "\n",
    "To make something happen when the groupmate isn't working (maybe report them?), we use the `else` statement."
   ]
  },
  {
   "cell_type": "code",
   "execution_count": 31,
   "id": "fc1457f0-ed7c-4b79-ab6e-8035321a68b6",
   "metadata": {},
   "outputs": [
    {
     "name": "stdout",
     "output_type": "stream",
     "text": [
      "My groupmate is free-riding :(\n"
     ]
    }
   ],
   "source": [
    "is_working = False # Change this to True after running this block!\n",
    "if is_working: # If the groupmate is working, then...\n",
    "    print(\"My groupmate is working!\")\n",
    "else: # Otherwise...\n",
    "    print(\"My groupmate is free-riding :(\")"
   ]
  },
  {
   "cell_type": "markdown",
   "id": "4fe424b0-a18a-4dab-9a21-2c784a66f1be",
   "metadata": {},
   "source": [
    "This might be a good time to mention that **spaces matter in Python**.\n",
    "\n",
    "For `if` and `else` blocks, please add 4 `space`s (or a single `Tab`) in front of the statements belonging to the `if` or `else`.\n",
    "\n",
    "Otherwise, you might run into the following:"
   ]
  },
  {
   "cell_type": "code",
   "execution_count": 29,
   "id": "dd196c2f-7ca8-4999-a610-675cc057a31e",
   "metadata": {},
   "outputs": [
    {
     "name": "stdout",
     "output_type": "stream",
     "text": [
      "Let's celebrate with a party!\n"
     ]
    }
   ],
   "source": [
    "is_working = False\n",
    "if is_working: # If the groupmate is working, then...\n",
    "    print(\"My groupmate is working!\")\n",
    "print(\"Let's celebrate with a party!\") # Let's have some fun since everyone is working!"
   ]
  },
  {
   "cell_type": "markdown",
   "id": "63e395f0-0909-4353-99ab-5718862e5a43",
   "metadata": {},
   "source": [
    "Here, the program outputs `\"Let's celebrate with a party!\"` **no matter if your groupmate is working or not**. That is probably *not* what you want.\n",
    "\n",
    "To fix that, push the second `print` statement \"back into\" the `if` block."
   ]
  },
  {
   "cell_type": "code",
   "execution_count": 32,
   "id": "4f1242af-1520-4074-a5f5-f7c845c73ca3",
   "metadata": {},
   "outputs": [],
   "source": [
    "is_working = False\n",
    "if is_working: # If the groupmate is working, then...\n",
    "    print(\"My groupmate is working!\")\n",
    "    print(\"Let's celebrate with a party!\") # Let's have some fun since everyone is working!"
   ]
  },
  {
   "cell_type": "markdown",
   "id": "aeeaa57d-1c2a-4a02-afec-c164d68bc2aa",
   "metadata": {},
   "source": [
    "Now the free-rider does not get to have a party."
   ]
  },
  {
   "cell_type": "markdown",
   "id": "91d37fb5-903a-4a9a-8517-dab6768fe4a6",
   "metadata": {},
   "source": [
    "We can directly put the comparison inside the `if` as well. Python will calculate the value of everything inside the `if` before actually executing the `if` itself."
   ]
  },
  {
   "cell_type": "code",
   "execution_count": 35,
   "id": "549d1a17-ef2f-4e54-9a9b-2ee6192f825d",
   "metadata": {},
   "outputs": [
    {
     "name": "stdout",
     "output_type": "stream",
     "text": [
      "My groupmate is working!\n",
      "Let's celebrate with a party!\n"
     ]
    }
   ],
   "source": [
    "if work_done > 0: # If my groupmate is working, then...\n",
    "    print(\"My groupmate is working!\")\n",
    "    print(\"Let's celebrate with a party!\") # Let's have some fun since everyone is working!"
   ]
  },
  {
   "cell_type": "markdown",
   "id": "a6bebd3d-56ab-4e6a-a2b7-c9dd2af2ffbd",
   "metadata": {},
   "source": [
    "### Comparison Operators"
   ]
  },
  {
   "cell_type": "markdown",
   "id": "6afba3f0-acea-4667-9405-4646c8d5e575",
   "metadata": {},
   "source": [
    "In the code above, we used `>` to check if a number is *greater than* another.\n",
    "\n",
    "We call symbols like `>` **comparison operators**. Let's briefly take a look at the other comparison operators you can use."
   ]
  },
  {
   "cell_type": "code",
   "execution_count": 8,
   "id": "c562972a-16b8-439a-bb5d-3f5b42c84d54",
   "metadata": {},
   "outputs": [
    {
     "name": "stdout",
     "output_type": "stream",
     "text": [
      "...and then I don't feel so bad.\n"
     ]
    }
   ],
   "source": [
    "sound = \"music\"\n",
    "if sound == \"music\": # This is the == operator. It compares if two things are equal.\n",
    "    print(\"...and then I don't feel so bad.\")"
   ]
  },
  {
   "cell_type": "code",
   "execution_count": 11,
   "id": "642337af-e763-4ee0-bb22-32ae576c159a",
   "metadata": {},
   "outputs": [
    {
     "name": "stdout",
     "output_type": "stream",
     "text": [
      "The sum is greater than its parts!\n"
     ]
    }
   ],
   "source": [
    "part_one = 3\n",
    "part_two = 4\n",
    "whole = 6\n",
    "# This is the > operator, as seen before. It compares if the first thing is larger than the second thing. \n",
    "# If yes, then the entire expression is True. Otherwise, it is False.\n",
    "if (part_one + part_two) > whole:\n",
    "    print(\"The sum is greater than its parts!\")"
   ]
  },
  {
   "cell_type": "code",
   "execution_count": 13,
   "id": "1ae7660a-c2b2-4795-990b-fa51f717f841",
   "metadata": {},
   "outputs": [
    {
     "name": "stdout",
     "output_type": "stream",
     "text": [
      "You should plant strawberries instead of potatoes!\n"
     ]
    }
   ],
   "source": [
    "potato_profit = 14.05\n",
    "strawberry_profit = 22.49\n",
    "# This is the < operator. It compares if the first thing is smaller than the second thing. \n",
    "# If yes, then the entire expression is True. Otherwise, it is False.\n",
    "if potato_profit < strawberry_profit:\n",
    "    print(\"You should plant strawberries instead of potatoes!\")"
   ]
  },
  {
   "cell_type": "code",
   "execution_count": 14,
   "id": "6fe324d0-960d-4a6b-b0cf-ae29b270f8e0",
   "metadata": {},
   "outputs": [
    {
     "name": "stdout",
     "output_type": "stream",
     "text": [
      "You passed Chinese!\n",
      "Sorry, you cannot apply for universities under JUPAS.\n"
     ]
    }
   ],
   "source": [
    "dse_chinese = 2\n",
    "# This is the >= operator. It compares if the first thing is larger or equal than the second thing. \n",
    "# If yes, then the entire expression is True. Otherwise, it is False.\n",
    "if dse_chinese >= 2:\n",
    "    print(\"You passed Chinese!\")\n",
    "\n",
    "# This is the <= operator. It compares if the first thing is smaller or equal than the second thing. \n",
    "# If yes, then the entire expression is True. Otherwise, it is False.\n",
    "if dse_chinese <= 2:\n",
    "    print(\"Sorry, you cannot apply for universities under JUPAS.\")"
   ]
  },
  {
   "cell_type": "code",
   "execution_count": 15,
   "id": "84717a24-8013-4f8e-abc7-1d94696d5bbd",
   "metadata": {},
   "outputs": [
    {
     "name": "stdout",
     "output_type": "stream",
     "text": [
      "The password isn't password. Now what?\n"
     ]
    }
   ],
   "source": [
    "password = \"correct horse battery staple\"\n",
    "# This is the != operator. It compares if two things are NOT equal.\n",
    "if password != \"password\":\n",
    "    print(\"The password isn't password. Now what?\")"
   ]
  },
  {
   "cell_type": "markdown",
   "id": "8b7f796f-5963-4ec7-b5fe-5a038fb09f93",
   "metadata": {},
   "source": [
    "### Boolean Logic\n",
    "Sometimes, we might want to do something when two conditions are true at the same time.\n",
    "\n",
    "We can do it like the following by putting another `if` inside our original `if`:"
   ]
  },
  {
   "cell_type": "code",
   "execution_count": 16,
   "id": "432d92b8-fd34-4a5b-a115-fa073e3df3bc",
   "metadata": {},
   "outputs": [
    {
     "name": "stdout",
     "output_type": "stream",
     "text": [
      "We can travel to our destination.\n"
     ]
    }
   ],
   "source": [
    "ticket_date_correct = True\n",
    "train_has_space = True\n",
    "if ticket_date_correct:\n",
    "    if train_has_space:\n",
    "        print(\"We can travel to our destination.\")"
   ]
  },
  {
   "cell_type": "markdown",
   "id": "336fdc9b-2599-4678-8011-2a892e8e6b38",
   "metadata": {},
   "source": [
    "If we have more conditions, we can continue this by adding more `if`s."
   ]
  },
  {
   "cell_type": "code",
   "execution_count": 18,
   "id": "04b03343-21a5-436f-96b5-599447427ecd",
   "metadata": {},
   "outputs": [
    {
     "name": "stdout",
     "output_type": "stream",
     "text": [
      "We can travel to our destination.\n"
     ]
    }
   ],
   "source": [
    "ticket_date_correct = True\n",
    "train_has_space = True\n",
    "has_unreserved_seat = True\n",
    "train_not_exploding = True\n",
    "no_earthquake = True\n",
    "earth_exists = True\n",
    "if ticket_date_correct:\n",
    "    if train_has_space:\n",
    "        if has_unreserved_seat:\n",
    "            if train_not_exploding:\n",
    "                if no_earthquake:\n",
    "                    if earth_exists:\n",
    "                        print(\"We can travel to our destination.\")"
   ]
  },
  {
   "cell_type": "markdown",
   "id": "d2d49f5e-f651-416f-9148-3c15b5c284af",
   "metadata": {},
   "source": [
    "This approach works, but gets *really* hard to read *really* quickly.\n",
    "\n",
    "To simplify this, we can use the `and` operator."
   ]
  },
  {
   "cell_type": "code",
   "execution_count": 20,
   "id": "6ed70c4f-4a82-4833-9259-b25fceb02d88",
   "metadata": {},
   "outputs": [
    {
     "name": "stdout",
     "output_type": "stream",
     "text": [
      "We can travel to our destination.\n"
     ]
    }
   ],
   "source": [
    "ticket_date_correct = True\n",
    "train_has_space = True\n",
    "# If the ticket date is correct *and* the train has space:\n",
    "if ticket_date_correct and train_has_space:\n",
    "        print(\"We can travel to our destination.\")"
   ]
  },
  {
   "cell_type": "code",
   "execution_count": 21,
   "id": "f2e28b9c-a462-435c-b15d-ce6010b16cd6",
   "metadata": {},
   "outputs": [
    {
     "name": "stdout",
     "output_type": "stream",
     "text": [
      "We can travel to our destination.\n"
     ]
    }
   ],
   "source": [
    "ticket_date_correct = True\n",
    "train_has_space = True\n",
    "has_unreserved_seat = True\n",
    "train_not_exploding = True\n",
    "no_earthquake = True\n",
    "earth_exists = True\n",
    "# If the ticket date is correct *and* the train has space *and* there are unreserved seats *and* the train is not exploding *and* there is no earthquake *and* Earth still exists, then:\n",
    "if ticket_date_correct and train_has_space and has_unreserved_seat and train_not_exploding and no_earthquake and earth_exists:\n",
    "    print(\"We can travel to our destination.\")"
   ]
  },
  {
   "cell_type": "markdown",
   "id": "542b562b-fe1c-4e70-8a8f-c1018887c720",
   "metadata": {},
   "source": [
    "One of the ways to explain how `and` works is like this:\n",
    "\n",
    "`and` operates on `True` and `False` values as follows.\n",
    "\n",
    "| `a` | `b` | `a and b`|\n",
    "|-----|-----|----------|\n",
    "| `True` | `True` | `True` |\n",
    "| `True` | `False` | `False` |\n",
    "| `False` | `True` | `False` |\n",
    "| `False` | `False` | `False` |\n",
    "\n",
    "But that's really overcomplicating things. The golden rule is:\n",
    "\n",
    "**<center>`and` is only `True` if both inputs are `True`.</center>**"
   ]
  },
  {
   "cell_type": "markdown",
   "id": "94e79855-090c-4b44-9e12-6eb1998db844",
   "metadata": {},
   "source": [
    "## Task 3: Game Logic\n",
    "To build the game, we have to tell if the user input is larger, smaller, or equal to our secret number.\n",
    "\n",
    "For now, ignore the lines starting with `def` and `return`. This is related to a concept called the *function* which will be introduced in the next workshop.\n",
    "\n",
    "Functions allow us to reuse our code in many places, so they are very nice tools to have in your toolbox.\n",
    "\n",
    "Complete the code below by replacing the `None`s and the `{CHANGE HERE}` such that your code creates the correct output in the test below.\n",
    "\n",
    "In this function, use `user_number` as the number the user chose, and `secret_number` as our secret number."
   ]
  },
  {
   "cell_type": "code",
   "execution_count": 32,
   "id": "117c2450-dbff-4253-a74c-e4c0d4ee3421",
   "metadata": {},
   "outputs": [],
   "source": [
    "def check_number(user_number): # In this function, the user's input (in number form) is user_number\n",
    "    if None: # If the user's input is equal to the secret number:\n",
    "        pass # TODO: Add the line we've finished earlier here! (The Your guess is correct.... line)\n",
    "        return True # Indicate to the game that the user guessed correctly\n",
    "    elif None: # Otherwise, if the user's input is smaller than the secret number:\n",
    "        print(\"The random number is larger than your guess! Please try again.\")\n",
    "        return False # Indicate to the game that the user guessed incorrectly\n",
    "    else: # What else is left? What is the relationship between user_number and secret_number?\n",
    "        print(\"The random number is {CHANGE HERE} than your guess! Please try again.\") # Fill in the code here such that running the code block below produces the right result.\n",
    "        return False  # Indicate to the game that the user guessed incorrectly"
   ]
  },
  {
   "cell_type": "markdown",
   "id": "37bf7822-52da-46f7-b4e9-e004d1e04398",
   "metadata": {},
   "source": [
    "### Test: Does your code work?\n",
    "Run the code below and see if the output matches what you expect."
   ]
  },
  {
   "cell_type": "code",
   "execution_count": null,
   "id": "6ba6806b-1200-414b-8a5d-0b44521c6f6a",
   "metadata": {},
   "outputs": [],
   "source": [
    "saved_secret_number = secret_number # Save the secret number so that running these tests won't change the one you generated\n",
    "\n",
    "# Test one: The input is equal to the secret number\n",
    "secret_number = 50\n",
    "check_number(50)\n",
    "\n",
    "# Test two: The input is larger than the secret number\n",
    "secret_number = 75\n",
    "check_number(99)\n",
    "\n",
    "# Test three: The input is smaller than the secret number\n",
    "secret_number = 25\n",
    "check_number(0)\n",
    "\n",
    "secret_number = saved_secret_number # Restore the saved number"
   ]
  },
  {
   "cell_type": "markdown",
   "id": "4723c394-7e83-4eec-84c6-e91dc6946c61",
   "metadata": {},
   "source": [
    "## Running a Game Round\n",
    "Now that we have (nearly) all the pieces, let's create the simplest version of the game where the user can only guess once.\n",
    "\n",
    "Run **both** code blocks. The first block is a function which helps us handle inputs which are invalid.\n",
    "\n",
    "The second block of code is the main game."
   ]
  },
  {
   "cell_type": "code",
   "execution_count": null,
   "id": "cc730bc0-3409-4daf-af6b-5f3fa4de2a89",
   "metadata": {},
   "outputs": [],
   "source": [
    "# You don't need to understand this for now - we will elaborate more on this next workshop.\n",
    "# If you're interested, ask the instructors.\n",
    "# In this function, user_input is the user's input (as text), \n",
    "# min is the smallest number which can be entered, \n",
    "# and max is the largest number which can be entered.\n",
    "def check_input(user_input, min, max):\n",
    "    result = -1 # By default, the function uses -1 to indicate an error\n",
    "    if '-' in user_input or '.' in user_input:\n",
    "        print(\"Negative numbers or decimals are not allowed. Please try again.\")\n",
    "    elif not user_input.isnumeric(): # If the result is not a number\n",
    "        print(\"Your input does not seem to be a number. Please try again.\")\n",
    "    else: # Otherwise, user_input should be a valid non-negative integer\n",
    "        user_number = int(user_input) # turn the text into an integer\n",
    "        if user_number < min: # If the user number is too small:\n",
    "            print(\"The number is out of bounds - it is too small. Please try again.\")\n",
    "        elif user_number > max: # If the user number is too large:\n",
    "            print(\"The number is out of bounds - it is too large. Please try again.\")\n",
    "        else: # Everything checks out, so we can assign that to the result\n",
    "            result = user_number \n",
    "    return result # give the number we've converted (or -1 in case of an error) back"
   ]
  },
  {
   "cell_type": "code",
   "execution_count": null,
   "id": "40e9ed19-0289-43e6-ad4a-e71c4d9e384f",
   "metadata": {},
   "outputs": [],
   "source": [
    "# This is the main game:\n",
    "print(\"Welcome to the number guessing game! Your objective is to guess a random number generated by the computer.\")\n",
    "print(\"The random number will not be smaller than 1 or larger than 100.\")\n",
    "\n",
    "user_input = input(\"Please enter a number from 1 to 100. Type \\\"exit\\\" to quit the game: \") # Ask for user input\n",
    "if \"exit\" in user_input: # The user wants to leave\n",
    "    print(\"Bye!\")\n",
    "else:\n",
    "    user_num = check_input(user_input, 1, 100) # check if our input is valid, using min = 1 and max = 100\n",
    "    if user_num != -1: # If the input is not an error:\n",
    "        check_number(user_num) # Check if the input is correct"
   ]
  },
  {
   "cell_type": "markdown",
   "id": "19af46bb-c9a8-4166-ad99-fbcc4f62e04a",
   "metadata": {},
   "source": [
    "## Extending The Game for More Rounds\n",
    "Right now, the game is very hard to play correctly. The user has to re-run the game each time they want to play. They also only have a $1\\%$ chance to guess the number correctly.\n",
    "\n",
    "Let's extend the game by using a *loop* to repeat each round. We'll talk more about how to use a loop next workshop, but you can use our code here for now. The modified code repeats the entire game above until the user gets the number correct (which sets `correctly_guessed` to `True`)."
   ]
  },
  {
   "cell_type": "code",
   "execution_count": null,
   "id": "dc145d52-db54-4434-9bc3-c8d330b67490",
   "metadata": {},
   "outputs": [],
   "source": [
    "# This is the main game (take two):\n",
    "print(\"Welcome to the number guessing game! Your objective is to guess a random number generated by the computer.\")\n",
    "print(\"The random number will not be smaller than 1 or larger than 100.\")\n",
    "\n",
    "correctly_guessed = False # Set correctly_guessed to false\n",
    "while not correctly_guessed: # We run the code below when correctly_guessed is False: \n",
    "    user_input = input(\"Please enter a number from 1 to 100. Type \\\"exit\\\" to quit the game: \") # Ask for user input\n",
    "    if \"exit\" in user_input: # The user wants to leave\n",
    "        print(\"Bye!\")\n",
    "        break # Exit the loop\n",
    "    else:\n",
    "        user_num = check_input(user_input, 1, 100) # check if our input is valid, using min = 1 and max = 100\n",
    "        if user_num != -1: # If the input is not an error:\n",
    "            correctly_guessed = check_number(user_num) # Check if the input is correct, and set correctly_guessed to the result"
   ]
  },
  {
   "cell_type": "markdown",
   "id": "538066d8-8190-478d-bdbf-887e74266e03",
   "metadata": {},
   "source": [
    "## Further Work: Making the Lower and Upper Range Change\n",
    "In most normal versions of this game, the range of numbers you can input shrinks as you go.\n",
    "\n",
    "To improve this game more, let's add this functionality to our game.\n",
    "\n",
    "This is also another chance for you to practice `if` and `elif`. Replace the `None`s in the code (near `START YOUR WORK HERE`) with the correct code such that the range of numbers change as you play.\n",
    "\n",
    "`max` and `min` means the current maximum and minimum respectively. If the user must choose between 5 and 60, `max = 60` and `min = 5`. "
   ]
  },
  {
   "cell_type": "code",
   "execution_count": null,
   "id": "d441669a-904c-4bc4-8a0c-9015b6105fb1",
   "metadata": {},
   "outputs": [],
   "source": [
    "# This is the main game (take three):\n",
    "print(\"Welcome to the number guessing game! Your objective is to guess a random number generated by the computer.\")\n",
    "print(\"The random number will not be smaller than 1 or larger than 100.\")\n",
    "\n",
    "min = 1 # The current minimum number you can input\n",
    "max = 100 # The current maximum number you can input\n",
    "correctly_guessed = False # Set correctly_guessed to false\n",
    "while not correctly_guessed: # We run the code below when correctly_guessed is False: \n",
    "    # Note for interested students: The f in front of the string makes this an \"fstring\", which allows you to print more easily\n",
    "    user_input = input(f\"Please enter a number from {min} to {max}. Type \\\"exit\\\" to quit the game: \") # Ask for user input\n",
    "    if \"exit\" in user_input: # The user wants to leave\n",
    "        print(\"Bye!\")\n",
    "        break # Exit the loop\n",
    "    elif \"cheat\" in user_input: # Hmmm.....\n",
    "        print(f\"Shh... your secret number is {secret_number}!\")\n",
    "    else:\n",
    "        user_num = check_input(user_input, min, max) # check if our input is valid, using min = 1 and max = 100\n",
    "        if user_num != -1: # If the input is not an error:\n",
    "            correctly_guessed = check_number(user_num) # Check if the input is correct, and set correctly_guessed to the result\n",
    "\n",
    "            ### START YOUR WORK HERE\n",
    "            if None: # If the guessed number is larger than the random number:\n",
    "                max = user_num # Change the maximum to the guessed number\n",
    "            elif None: # If the guessed number is smaller than the random number:\n",
    "                min = user_num # Change the minimum to the guessed number"
   ]
  },
  {
   "cell_type": "markdown",
   "id": "1f054e75-1448-4145-b072-9fae070d8dba",
   "metadata": {},
   "source": [
    "## Bonus: Making Optimal Guesses\n",
    "This part is for interested students who may want to learn a bit more. Please complete the parts above first.\n",
    "\n",
    "The maximum number of guesses one would need is actually 7 (or 8). Given the current maximum and minimum, can you fill in the code below to give you the most optimal guess each time?"
   ]
  },
  {
   "cell_type": "code",
   "execution_count": null,
   "id": "ebf66cd8-374e-4b80-bff2-d89dcfae56cd",
   "metadata": {},
   "outputs": [],
   "source": [
    "# Let's first generate a new random number:\n",
    "import random # Import the random library\n",
    "secret_number = random.randint(1, 100) # Generate a random number from 1 to 100, and assign it to secret_number\n",
    "\n",
    "# Here, min is the current minimum you can input, and max is the current maximum you can input\n",
    "# Please change -1 to your answer:\n",
    "def optimal_guess(min, max):\n",
    "    return -1\n",
    "\n",
    "print(\"Welcome to the number guessing game! Your objective is to guess a random number generated by the computer.\")\n",
    "print(\"The random number will not be smaller than 1 or larger than 100.\")\n",
    "\n",
    "min = 1 # The current minimum number you can input\n",
    "max = 100 # The current maximum number you can input\n",
    "correctly_guessed = False # Set correctly_guessed to false\n",
    "while not correctly_guessed: # We run the code below when correctly_guessed is False: \n",
    "    user_num = int(optimal_guess(min, max)) # use our new function\n",
    "    if user_num != -1: # If the input is not an error:\n",
    "        correctly_guessed = check_number(user_num) # Check if the input is correct, and set correctly_guessed to the result\n",
    "        if user_num > secret_number: # If the guessed number is larger than the random number:\n",
    "            max = user_num # Change the maximum to the guessed number\n",
    "        elif user_num < secret_number: # If the guessed number is smaller than the random number:\n",
    "            min = user_num # Change the minimum to the guessed number\n",
    "    else:\n",
    "        break # to prevent infinite loops"
   ]
  },
  {
   "cell_type": "markdown",
   "id": "511394b6-9346-48b7-bd2a-0fcfcafc4238",
   "metadata": {},
   "source": [
    "What we've made here is actually called [binary search](https://en.wikipedia.org/wiki/Binary_search_algorithm). This is a way to solve problems by cutting our problems into half* (figuratively), and choosing the half which works for us.\n",
    "\n",
    "Can you figure out why the maximum number of guesses needed is 7 (or 8)?\n",
    "  \n",
    "  \n",
    "  \n",
    "  \n",
    "  \n",
    "  \n",
    "  \n",
    "  \n",
    "<br/><br/>  \n",
    "\\* Please do not actually cut your problems in half. The instructors disclaim all responsibility for your actions."
   ]
  }
 ],
 "metadata": {
  "kernelspec": {
   "display_name": "Python 3 (ipykernel)",
   "language": "python",
   "name": "python3"
  },
  "language_info": {
   "codemirror_mode": {
    "name": "ipython",
    "version": 3
   },
   "file_extension": ".py",
   "mimetype": "text/x-python",
   "name": "python",
   "nbconvert_exporter": "python",
   "pygments_lexer": "ipython3",
   "version": "3.11.8"
  }
 },
 "nbformat": 4,
 "nbformat_minor": 5
}
