{
 "cells": [
  {
   "cell_type": "markdown",
   "id": "fdccbfad-20a9-4a19-ad06-e4e6e21bc228",
   "metadata": {},
   "source": [
    "# Workshop One - Number Guessing Game\n",
    "\n",
    "Note: Please insert image here.\n",
    "\n",
    "For today's final task, we're going to create a number guessing game for you to play with."
   ]
  },
  {
   "cell_type": "markdown",
   "id": "4be2553d-eba8-4010-8ffe-6652b97b865c",
   "metadata": {},
   "source": [
    "## Generating Random Numbers\n",
    "Generating random numbers are a **hard** task, even for most programmers. Thankfully, Python provides many built-in tools.\n",
    "\n",
    "One such tool is `random`. (In Computer Science, we usually call these *libraries*.) \n",
    "\n",
    "Before using it, we have to `import` it like the code below.\n",
    "\n",
    "The code `random.randint(lower, upper)` creates random numbers in the range of `lower` to `upper`.\n",
    "\n",
    "Let's assign it to `secret_number` so we can reuse it later.\n",
    "\n",
    "Note: If you want to generate a new number, simply re-run the code block below."
   ]
  },
  {
   "cell_type": "code",
   "execution_count": 19,
   "id": "4851369e-d98a-4c67-a050-760010edd088",
   "metadata": {},
   "outputs": [],
   "source": [
    "import random # Import the random library\n",
    "secret_number = random.randint(1, 100) # Generate a random number from 1 to 100, and assign it to secret_number"
   ]
  },
  {
   "cell_type": "markdown",
   "id": "b05bad7c-6558-4e90-8af2-fbc3a3c23c8e",
   "metadata": {},
   "source": [
    "To see what your secret number is, run the block below."
   ]
  },
  {
   "cell_type": "code",
   "execution_count": 20,
   "id": "3bc2716d-517b-46c1-8bca-8829345daf0f",
   "metadata": {},
   "outputs": [
    {
     "name": "stdout",
     "output_type": "stream",
     "text": [
      "13\n"
     ]
    }
   ],
   "source": [
    "print(secret_number)"
   ]
  },
  {
   "cell_type": "markdown",
   "id": "94e79855-090c-4b44-9e12-6eb1998db844",
   "metadata": {},
   "source": [
    "## Game Logic\n",
    "To build the game, we have to tell if the user input is larger, smaller, or equal to our secret number.\n",
    "\n",
    "For now, ignore the lines starting with `def` and `return`. This is related to a concept called the *function* which will be introduced in the next workshop.\n",
    "\n",
    "Functions allow us to reuse our code in many places, so they are very nice tools to have in your toolbox.\n",
    "\n",
    "Complete the code below by replacing the `None`s and the `{CHANGE HERE}` such that your code creates the correct output in the test below.\n",
    "\n",
    "In this function, use `user_number` as the number the user chose, and `secret_number` as our secret number."
   ]
  },
  {
   "cell_type": "code",
   "execution_count": 24,
   "id": "117c2450-dbff-4253-a74c-e4c0d4ee3421",
   "metadata": {},
   "outputs": [],
   "source": [
    "def check_number(user_number): # In this function, the user's input (in number form) is user_number\n",
    "    if None: # If the user's input is equal to the secret number:\n",
    "        print(f\"Your guess is correct! The number is {secret_number}. Well done!\")\n",
    "        return True # Indicate to the game that the user guessed correctly\n",
    "    elif None: # Otherwise, if the user's input is smaller than the secret number:\n",
    "        print(\"The random number is larger than your guess! Please try again.\")\n",
    "        return False # Indicate to the game that the user guessed incorrectly\n",
    "    else: # What else is left? What is the relationship between user_number and secret_number?\n",
    "        print(\"The random number is {CHANGE HERE} than your guess! Please try again.\") # Fill in the code here such that running the code block below produces the right result.\n",
    "        return False"
   ]
  },
  {
   "cell_type": "code",
   "execution_count": 22,
   "id": "605ed3d4-29be-4072-bdd5-9d32b3b0e226",
   "metadata": {},
   "outputs": [],
   "source": [
    "# This is for the instructor's use only. Please delete this before publishing it.\n",
    "def check_number_ans(user_number):\n",
    "    if user_number == secret_number:\n",
    "        print(f\"Your guess is correct! The number is {secret_number}. Well done!\")\n",
    "        return True\n",
    "    elif user_number < secret_number:\n",
    "        print(\"The random number is larger than your guess! Please try again.\")\n",
    "        return False\n",
    "    else:\n",
    "        print(\"The random number is smaller than your guess! Please try again.\")\n",
    "        return False"
   ]
  },
  {
   "cell_type": "markdown",
   "id": "37bf7822-52da-46f7-b4e9-e004d1e04398",
   "metadata": {},
   "source": [
    "### Test: Does your code work?\n",
    "Run the code below and see if the output matches what you expect."
   ]
  },
  {
   "cell_type": "code",
   "execution_count": 23,
   "id": "6ba6806b-1200-414b-8a5d-0b44521c6f6a",
   "metadata": {},
   "outputs": [
    {
     "name": "stdout",
     "output_type": "stream",
     "text": [
      "Your guess is correct! The number is 50. Well done!\n",
      "The random number is smaller than your guess! Please try again.\n",
      "The random number is larger than your guess! Please try again.\n"
     ]
    }
   ],
   "source": [
    "saved_secret_number = secret_number # Save the secret number so that running these tests won't change the one you generated\n",
    "\n",
    "# Test one: The input is equal to the secret number\n",
    "secret_number = 50\n",
    "check_number_ans(50)\n",
    "\n",
    "# Test two: The input is larger than the secret number\n",
    "secret_number = 75\n",
    "check_number_ans(99)\n",
    "\n",
    "# Test three: The input is smaller than the secret number\n",
    "secret_number = 25\n",
    "check_number_ans(0)\n",
    "\n",
    "secret_number = saved_secret_number # Restore the saved number"
   ]
  },
  {
   "cell_type": "markdown",
   "id": "4723c394-7e83-4eec-84c6-e91dc6946c61",
   "metadata": {},
   "source": [
    "## Running a Game Round\n",
    "Now that we have (nearly) all the pieces, let's create the simplest version of the game where the user can only guess once.\n",
    "\n",
    "Run **both** code blocks. The first block is a function which helps us handle inputs which are invalid.\n",
    "\n",
    "The second block of code is the main game."
   ]
  },
  {
   "cell_type": "code",
   "execution_count": 31,
   "id": "cc730bc0-3409-4daf-af6b-5f3fa4de2a89",
   "metadata": {},
   "outputs": [],
   "source": [
    "# You don't need to understand this for now - we will elaborate more on this next workshop.\n",
    "# If you're interested, ask the instructors.\n",
    "# In this function, user_input is the user's input (as text), \n",
    "# min is the smallest number which can be entered, \n",
    "# and max is the largest number which can be entered.\n",
    "def check_input(user_input, min, max):\n",
    "    result = -1 # By default, the function uses -1 to indicate an error\n",
    "    if '-' in user_input or '.' in user_input:\n",
    "        print(\"Negative numbers or decimals are not allowed. Please try again.\")\n",
    "    elif not user_input.isnumeric(): # If the result is not a number\n",
    "        print(\"Your input does not seem to be a number. Please try again.\")\n",
    "    else: # Otherwise, user_input should be a valid non-negative integer\n",
    "        user_number = int(user_input) # turn the text into an integer\n",
    "        if user_number < min: # If the user number is too small:\n",
    "            print(\"The number is out of bounds - it is too small. Please try again.\")\n",
    "        elif user_number > max: # If the user number is too large:\n",
    "            print(\"The number is out of bounds - it is too large. Please try again.\")\n",
    "        else: # Everything checks out, so we can assign that to the result\n",
    "            result = user_number \n",
    "    return result # give the number we've converted (or -1 in case of an error) back"
   ]
  },
  {
   "cell_type": "code",
   "execution_count": 35,
   "id": "40e9ed19-0289-43e6-ad4a-e71c4d9e384f",
   "metadata": {},
   "outputs": [
    {
     "name": "stdout",
     "output_type": "stream",
     "text": [
      "Welcome to the number guessing game! Your objective is to guess a random number generated by the computer.\n",
      "The random number will not be smaller than 1 or larger than 100.\n"
     ]
    },
    {
     "name": "stdin",
     "output_type": "stream",
     "text": [
      "Please enter a number from 1 to 100. Type \"exit\" to quit the game:  13\n"
     ]
    },
    {
     "name": "stdout",
     "output_type": "stream",
     "text": [
      "Your guess is correct! The number is 13. Well done!\n"
     ]
    }
   ],
   "source": [
    "# This is the main game:\n",
    "print(\"Welcome to the number guessing game! Your objective is to guess a random number generated by the computer.\")\n",
    "print(\"The random number will not be smaller than 1 or larger than 100.\")\n",
    "\n",
    "user_input = input(\"Please enter a number from 1 to 100. Type \\\"exit\\\" to quit the game: \") # Ask for user input\n",
    "if \"exit\" in user_input: # The user wants to leave\n",
    "    print(\"Bye!\")\n",
    "else:\n",
    "    user_num = check_input(user_input, 1, 100) # check if our input is valid, using min = 1 and max = 100\n",
    "    if user_num != -1: # If the input is not an error:\n",
    "        check_number_ans(user_num) # Check if the input is correct"
   ]
  },
  {
   "cell_type": "markdown",
   "id": "19af46bb-c9a8-4166-ad99-fbcc4f62e04a",
   "metadata": {},
   "source": [
    "## Extending The Game for More Rounds\n",
    "Right now, the game is very hard to play correctly. The user has to re-run the game each time they want to play.\n",
    "\n",
    "Let's extend the game by using a *loop* to repeat each round. We'll talk more about how to use a loop next workshop, but you can use our code here for now."
   ]
  },
  {
   "cell_type": "code",
   "execution_count": 37,
   "id": "dc145d52-db54-4434-9bc3-c8d330b67490",
   "metadata": {},
   "outputs": [
    {
     "name": "stdout",
     "output_type": "stream",
     "text": [
      "Welcome to the number guessing game! Your objective is to guess a random number generated by the computer.\n",
      "The random number will not be smaller than 1 or larger than 100.\n"
     ]
    },
    {
     "name": "stdin",
     "output_type": "stream",
     "text": [
      "Please enter a number from 1 to 100. Type \"exit\" to quit the game:  wjklskefjwhkjds kj\n"
     ]
    },
    {
     "name": "stdout",
     "output_type": "stream",
     "text": [
      "Your input does not seem to be a number. Please try again.\n"
     ]
    },
    {
     "name": "stdin",
     "output_type": "stream",
     "text": [
      "Please enter a number from 1 to 100. Type \"exit\" to quit the game:  sdjabfkj bd.223\n"
     ]
    },
    {
     "name": "stdout",
     "output_type": "stream",
     "text": [
      "Negative numbers or decimals are not allowed. Please try again.\n"
     ]
    },
    {
     "name": "stdin",
     "output_type": "stream",
     "text": [
      "Please enter a number from 1 to 100. Type \"exit\" to quit the game:  sdkjdfbk jwbdkjdsb as fe..\n"
     ]
    },
    {
     "name": "stdout",
     "output_type": "stream",
     "text": [
      "Negative numbers or decimals are not allowed. Please try again.\n"
     ]
    },
    {
     "name": "stdin",
     "output_type": "stream",
     "text": [
      "Please enter a number from 1 to 100. Type \"exit\" to quit the game:  -2i3o2ohkj sk \n"
     ]
    },
    {
     "name": "stdout",
     "output_type": "stream",
     "text": [
      "Negative numbers or decimals are not allowed. Please try again.\n"
     ]
    },
    {
     "name": "stdin",
     "output_type": "stream",
     "text": [
      "Please enter a number from 1 to 100. Type \"exit\" to quit the game:  -223o9304732\n"
     ]
    },
    {
     "name": "stdout",
     "output_type": "stream",
     "text": [
      "Negative numbers or decimals are not allowed. Please try again.\n"
     ]
    },
    {
     "name": "stdin",
     "output_type": "stream",
     "text": [
      "Please enter a number from 1 to 100. Type \"exit\" to quit the game:  -22\n"
     ]
    },
    {
     "name": "stdout",
     "output_type": "stream",
     "text": [
      "Negative numbers or decimals are not allowed. Please try again.\n"
     ]
    },
    {
     "name": "stdin",
     "output_type": "stream",
     "text": [
      "Please enter a number from 1 to 100. Type \"exit\" to quit the game:  333333333333333333333333333333333333333333333333333333333333333333333333333333333333333333337897987987987987987988979879879879879879879879879879879879879\n"
     ]
    },
    {
     "name": "stdout",
     "output_type": "stream",
     "text": [
      "The number is out of bounds - it is too large. Please try again.\n"
     ]
    },
    {
     "name": "stdin",
     "output_type": "stream",
     "text": [
      "Please enter a number from 1 to 100. Type \"exit\" to quit the game:  13\n"
     ]
    },
    {
     "name": "stdout",
     "output_type": "stream",
     "text": [
      "Your guess is correct! The number is 13. Well done!\n"
     ]
    }
   ],
   "source": [
    "# This is the main game (take two):\n",
    "print(\"Welcome to the number guessing game! Your objective is to guess a random number generated by the computer.\")\n",
    "print(\"The random number will not be smaller than 1 or larger than 100.\")\n",
    "\n",
    "correctly_guessed = False # Set correctly_guessed to false\n",
    "while not correctly_guessed: # We run the code below when correctly_guessed is False: \n",
    "    user_input = input(\"Please enter a number from 1 to 100. Type \\\"exit\\\" to quit the game: \") # Ask for user input\n",
    "    if \"exit\" in user_input: # The user wants to leave\n",
    "        print(\"Bye!\")\n",
    "        break # Exit the loop\n",
    "    else:\n",
    "        user_num = check_input(user_input, 1, 100) # check if our input is valid, using min = 1 and max = 100\n",
    "        if user_num != -1: # If the input is not an error:\n",
    "            correctly_guessed = check_number_ans(user_num) # Check if the input is correct, and set correctly_guessed to the result"
   ]
  },
  {
   "cell_type": "markdown",
   "id": "538066d8-8190-478d-bdbf-887e74266e03",
   "metadata": {},
   "source": [
    "## Further Work: Making the Lower and Upper Range Change\n",
    "In most normal versions of this game, the range of numbers you can input shrinks as you go.\n",
    "\n",
    "To improve this game more, let's add this functionality to our game.\n",
    "\n",
    "This is also another chance for you to practice `if` and `elif`. Replace the `None`s in the code with the correct code such that the range of numbers change as you play."
   ]
  },
  {
   "cell_type": "code",
   "execution_count": 41,
   "id": "d441669a-904c-4bc4-8a0c-9015b6105fb1",
   "metadata": {},
   "outputs": [
    {
     "name": "stdout",
     "output_type": "stream",
     "text": [
      "Welcome to the number guessing game! Your objective is to guess a random number generated by the computer.\n",
      "The random number will not be smaller than 1 or larger than 100.\n"
     ]
    },
    {
     "name": "stdin",
     "output_type": "stream",
     "text": [
      "Please enter a number from 1 to 100. Type \"exit\" to quit the game:  exit\n"
     ]
    },
    {
     "name": "stdout",
     "output_type": "stream",
     "text": [
      "Bye!\n"
     ]
    }
   ],
   "source": [
    "# This is the main game (take three):\n",
    "print(\"Welcome to the number guessing game! Your objective is to guess a random number generated by the computer.\")\n",
    "print(\"The random number will not be smaller than 1 or larger than 100.\")\n",
    "\n",
    "min = 1 # The current minimum number you can input\n",
    "max = 100 # The current maximum number you can input\n",
    "correctly_guessed = False # Set correctly_guessed to false\n",
    "while not correctly_guessed: # We run the code below when correctly_guessed is False: \n",
    "    # Note for interested students: The f in front of the string makes this an \"fstring\", which allows you to print more easily\n",
    "    user_input = input(f\"Please enter a number from {min} to {max}. Type \\\"exit\\\" to quit the game: \") # Ask for user input\n",
    "    if \"exit\" in user_input: # The user wants to leave\n",
    "        print(\"Bye!\")\n",
    "        break # Exit the loop\n",
    "    elif \"cheat\" in user_input: # Hmmm.....\n",
    "        print(f\"Shh... your secret number is {secret_number}!\")\n",
    "    else:\n",
    "        user_num = check_input(user_input, min, max) # check if our input is valid, using min = 1 and max = 100\n",
    "        if user_num != -1: # If the input is not an error:\n",
    "            correctly_guessed = check_number_ans(user_num) # Check if the input is correct, and set correctly_guessed to the result\n",
    "            if None: # If the guessed number is larger than the random number:\n",
    "                min = user_num # Change the maximum to the guessed number\n",
    "            elif None: # If the guessed number is smaller than the random number:\n",
    "                max = user_num # Change the minimum to the guessed number"
   ]
  },
  {
   "cell_type": "code",
   "execution_count": 40,
   "id": "e1ff8a0f-351f-4fba-ba67-d984c161bea9",
   "metadata": {},
   "outputs": [
    {
     "name": "stdout",
     "output_type": "stream",
     "text": [
      "Welcome to the number guessing game! Your objective is to guess a random number generated by the computer.\n",
      "The random number will not be smaller than 1 or larger than 100.\n"
     ]
    },
    {
     "name": "stdin",
     "output_type": "stream",
     "text": [
      "Please enter a number from 1 to 100. Type \"exit\" to quit the game:  100\n"
     ]
    },
    {
     "name": "stdout",
     "output_type": "stream",
     "text": [
      "The random number is smaller than your guess! Please try again.\n"
     ]
    },
    {
     "name": "stdin",
     "output_type": "stream",
     "text": [
      "Please enter a number from 1 to 100. Type \"exit\" to quit the game:  100\n"
     ]
    },
    {
     "name": "stdout",
     "output_type": "stream",
     "text": [
      "The random number is smaller than your guess! Please try again.\n"
     ]
    },
    {
     "name": "stdin",
     "output_type": "stream",
     "text": [
      "Please enter a number from 1 to 100. Type \"exit\" to quit the game:  2\n"
     ]
    },
    {
     "name": "stdout",
     "output_type": "stream",
     "text": [
      "The random number is larger than your guess! Please try again.\n"
     ]
    },
    {
     "name": "stdin",
     "output_type": "stream",
     "text": [
      "Please enter a number from 2 to 100. Type \"exit\" to quit the game:  3\n"
     ]
    },
    {
     "name": "stdout",
     "output_type": "stream",
     "text": [
      "The random number is larger than your guess! Please try again.\n"
     ]
    },
    {
     "name": "stdin",
     "output_type": "stream",
     "text": [
      "Please enter a number from 3 to 100. Type \"exit\" to quit the game:  4\n"
     ]
    },
    {
     "name": "stdout",
     "output_type": "stream",
     "text": [
      "The random number is larger than your guess! Please try again.\n"
     ]
    },
    {
     "name": "stdin",
     "output_type": "stream",
     "text": [
      "Please enter a number from 4 to 100. Type \"exit\" to quit the game:  5\n"
     ]
    },
    {
     "name": "stdout",
     "output_type": "stream",
     "text": [
      "The random number is larger than your guess! Please try again.\n"
     ]
    },
    {
     "name": "stdin",
     "output_type": "stream",
     "text": [
      "Please enter a number from 5 to 100. Type \"exit\" to quit the game:  77\n"
     ]
    },
    {
     "name": "stdout",
     "output_type": "stream",
     "text": [
      "The random number is smaller than your guess! Please try again.\n"
     ]
    },
    {
     "name": "stdin",
     "output_type": "stream",
     "text": [
      "Please enter a number from 5 to 77. Type \"exit\" to quit the game:  88\n"
     ]
    },
    {
     "name": "stdout",
     "output_type": "stream",
     "text": [
      "The number is out of bounds - it is too large. Please try again.\n"
     ]
    },
    {
     "name": "stdin",
     "output_type": "stream",
     "text": [
      "Please enter a number from 5 to 77. Type \"exit\" to quit the game:  299\n"
     ]
    },
    {
     "name": "stdout",
     "output_type": "stream",
     "text": [
      "The number is out of bounds - it is too large. Please try again.\n"
     ]
    },
    {
     "name": "stdin",
     "output_type": "stream",
     "text": [
      "Please enter a number from 5 to 77. Type \"exit\" to quit the game:  2997429379237903\n"
     ]
    },
    {
     "name": "stdout",
     "output_type": "stream",
     "text": [
      "The number is out of bounds - it is too large. Please try again.\n"
     ]
    },
    {
     "name": "stdin",
     "output_type": "stream",
     "text": [
      "Please enter a number from 5 to 77. Type \"exit\" to quit the game:  3.13\n"
     ]
    },
    {
     "name": "stdout",
     "output_type": "stream",
     "text": [
      "Negative numbers or decimals are not allowed. Please try again.\n"
     ]
    },
    {
     "name": "stdin",
     "output_type": "stream",
     "text": [
      "Please enter a number from 5 to 77. Type \"exit\" to quit the game:  13\n"
     ]
    },
    {
     "name": "stdout",
     "output_type": "stream",
     "text": [
      "Your guess is correct! The number is 13. Well done!\n"
     ]
    }
   ],
   "source": [
    "# This is for the instructor's use - please delete in the final version.\n",
    "# This is the main game (take three):\n",
    "print(\"Welcome to the number guessing game! Your objective is to guess a random number generated by the computer.\")\n",
    "print(\"The random number will not be smaller than 1 or larger than 100.\")\n",
    "\n",
    "min = 1 # The current minimum number you can input\n",
    "max = 100 # The current maximum number you can input\n",
    "correctly_guessed = False # Set correctly_guessed to false\n",
    "while not correctly_guessed: # We run the code below when correctly_guessed is False: \n",
    "    user_input = input(f\"Please enter a number from {min} to {max}. Type \\\"exit\\\" to quit the game: \") # Ask for user input\n",
    "    if \"exit\" in user_input: # The user wants to leave\n",
    "        print(\"Bye!\")\n",
    "        break # Exit the loop\n",
    "    elif \"cheat\" in user_input: # Hmmm.....\n",
    "        print(f\"Shh... your secret number is {secret_number}!\")\n",
    "    else:\n",
    "        user_num = check_input(user_input, min, max) # check if our input is valid, using min = 1 and max = 100\n",
    "        if user_num != -1: # If the input is not an error:\n",
    "            correctly_guessed = check_number_ans(user_num) # Check if the input is correct, and set correctly_guessed to the result\n",
    "            if user_num > secret_number: # If the guessed number is larger than the random number:\n",
    "                max = user_num # Change the maximum to the guessed number\n",
    "            elif user_num < secret_number: # If the guessed number is smaller than the random number:\n",
    "                min = user_num # Change the minimum to the guessed number"
   ]
  },
  {
   "cell_type": "markdown",
   "id": "1f054e75-1448-4145-b072-9fae070d8dba",
   "metadata": {},
   "source": [
    "## Bonus: Making Optimal Guesses\n",
    "This part is for interested students who may want to learn a bit more. Please complete the parts above first.\n",
    "\n",
    "The maximum number of guesses one would need is actually 7 (or 8). Given the current maximum and minimum, can you fill in the code below to give you the most optimal guess each time?"
   ]
  },
  {
   "cell_type": "code",
   "execution_count": 51,
   "id": "ebf66cd8-374e-4b80-bff2-d89dcfae56cd",
   "metadata": {},
   "outputs": [
    {
     "name": "stdout",
     "output_type": "stream",
     "text": [
      "Welcome to the number guessing game! Your objective is to guess a random number generated by the computer.\n",
      "The random number will not be smaller than 1 or larger than 100.\n"
     ]
    }
   ],
   "source": [
    "# Let's first generate a new random number:\n",
    "import random # Import the random library\n",
    "secret_number = random.randint(1, 100) # Generate a random number from 1 to 100, and assign it to secret_number\n",
    "\n",
    "# Here, min is the current minimum you can input, and max is the current maximum you can input\n",
    "# Please change -1 to your answer:\n",
    "def optimal_guess(min, max):\n",
    "    return -1\n",
    "\n",
    "print(\"Welcome to the number guessing game! Your objective is to guess a random number generated by the computer.\")\n",
    "print(\"The random number will not be smaller than 1 or larger than 100.\")\n",
    "\n",
    "min = 1 # The current minimum number you can input\n",
    "max = 100 # The current maximum number you can input\n",
    "correctly_guessed = False # Set correctly_guessed to false\n",
    "while not correctly_guessed: # We run the code below when correctly_guessed is False: \n",
    "    user_num = int(optimal_guess(min, max)) # use our new function\n",
    "    if user_num != -1: # If the input is not an error:\n",
    "        correctly_guessed = check_number_ans(user_num) # Check if the input is correct, and set correctly_guessed to the result\n",
    "        if user_num > secret_number: # If the guessed number is larger than the random number:\n",
    "            max = user_num # Change the maximum to the guessed number\n",
    "        elif user_num < secret_number: # If the guessed number is smaller than the random number:\n",
    "            min = user_num # Change the minimum to the guessed number\n",
    "    else:\n",
    "        break # to prevent infinite loops"
   ]
  },
  {
   "cell_type": "code",
   "execution_count": 52,
   "id": "75987713-ea7c-452e-8f88-08bced87b16d",
   "metadata": {},
   "outputs": [
    {
     "name": "stdout",
     "output_type": "stream",
     "text": [
      "Welcome to the number guessing game! Your objective is to guess a random number generated by the computer.\n",
      "The random number will not be smaller than 1 or larger than 100.\n",
      "Please enter a number from 1 to 100.\n",
      "The random number is larger than your guess! Please try again.\n",
      "Please enter a number from 50 to 100.\n",
      "The random number is larger than your guess! Please try again.\n",
      "Please enter a number from 75 to 100.\n",
      "The random number is smaller than your guess! Please try again.\n",
      "Please enter a number from 75 to 87.\n",
      "The random number is larger than your guess! Please try again.\n",
      "Please enter a number from 81 to 87.\n",
      "Your guess is correct! The number is 84. Well done!\n"
     ]
    }
   ],
   "source": [
    "# This is for the instructor's use - please delete in the final version.\n",
    "# Let's first generate a new random number:\n",
    "import random # Import the random library\n",
    "secret_number = random.randint(1, 100) # Generate a random number from 1 to 100, and assign it to secret_number\n",
    "\n",
    "# Here, min is the current minimum you can input, and max is the current maximum you can input\n",
    "# Please change -1 to your answer:\n",
    "def optimal_guess(min, max):\n",
    "    return (min + max) / 2\n",
    "\n",
    "print(\"Welcome to the number guessing game! Your objective is to guess a random number generated by the computer.\")\n",
    "print(\"The random number will not be smaller than 1 or larger than 100.\")\n",
    "\n",
    "min = 1 # The current minimum number you can input\n",
    "max = 100 # The current maximum number you can input\n",
    "correctly_guessed = False # Set correctly_guessed to false\n",
    "while not correctly_guessed: # We run the code below when correctly_guessed is False: \n",
    "    print(f\"Please enter a number from {min} to {max}.\")\n",
    "    user_num = int(optimal_guess(min, max)) # use our new function\n",
    "    if user_num != -1: # If the input is not an error:\n",
    "        correctly_guessed = check_number_ans(user_num) # Check if the input is correct, and set correctly_guessed to the result\n",
    "        if user_num > secret_number: # If the guessed number is larger than the random number:\n",
    "            max = user_num # Change the maximum to the guessed number\n",
    "        elif user_num < secret_number: # If the guessed number is smaller than the random number:\n",
    "            min = user_num # Change the minimum to the guessed number\n",
    "    else:\n",
    "        break # to prevent infinite loops"
   ]
  },
  {
   "cell_type": "markdown",
   "id": "511394b6-9346-48b7-bd2a-0fcfcafc4238",
   "metadata": {},
   "source": [
    "What we've made here is actually called [binary search](https://en.wikipedia.org/wiki/Binary_search_algorithm). This is a way to solve problems by cutting our problems into half* (figuratively), and choosing the half which works for us.\n",
    "\n",
    "Can you figure out why the maximum number of guesses needed is 7 (or 8)?\n",
    "  \n",
    "  \n",
    "  \n",
    "  \n",
    "  \n",
    "  \n",
    "  \n",
    "  \n",
    "<br/><br/>  \n",
    "\\* Please do not actually cut your problems in half. The instructors disclaim all responsibility for your actions."
   ]
  }
 ],
 "metadata": {
  "kernelspec": {
   "display_name": "Python 3 (ipykernel)",
   "language": "python",
   "name": "python3"
  },
  "language_info": {
   "codemirror_mode": {
    "name": "ipython",
    "version": 3
   },
   "file_extension": ".py",
   "mimetype": "text/x-python",
   "name": "python",
   "nbconvert_exporter": "python",
   "pygments_lexer": "ipython3",
   "version": "3.11.7"
  }
 },
 "nbformat": 4,
 "nbformat_minor": 5
}
